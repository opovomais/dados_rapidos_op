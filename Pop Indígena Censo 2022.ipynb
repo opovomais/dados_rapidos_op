{
 "cells": [
  {
   "cell_type": "markdown",
   "metadata": {},
   "source": [
    "# Este notebook faz parte da reportagem [Censo 2022: a fotografia da população indígena em dados](https://mais.opovo.com.br/reportagens-especiais/2023/08/07/censo-2022-a-fotografia-da-populacao-indigena-por-lentes-full-hd.html?collection=reportagens_de_dados)"
   ]
  },
  {
   "cell_type": "markdown",
   "metadata": {},
   "source": [
    "Para este material foram consultados dados relacionados à população residente, total e indígena, por localização do domicílio, segundo Unidades da Federação, Terras Indígenas e Municípios Cearenses (Censo Demográfico 2022) do Instituto Brasileiro de Geografia e Estatística - IBGE."
   ]
  },
  {
   "cell_type": "code",
   "execution_count": 1,
   "metadata": {
    "executionInfo": {
     "elapsed": 1281,
     "status": "ok",
     "timestamp": 1691601350802,
     "user": {
      "displayName": "ALEXANDRE RIBEIRO CAJAZEIRA RAMOS",
      "userId": "15502956855817658112"
     },
     "user_tz": 180
    },
    "id": "6MEmoSY58CVX"
   },
   "outputs": [],
   "source": [
    "import pandas as pd\n",
    "import geopandas as gpd\n",
    "import os\n",
    "from shapely import wkt\n",
    "from shapely.geometry import Point, MultiPolygon"
   ]
  },
  {
   "cell_type": "code",
   "execution_count": 2,
   "metadata": {
    "executionInfo": {
     "elapsed": 989,
     "status": "ok",
     "timestamp": 1691601351789,
     "user": {
      "displayName": "ALEXANDRE RIBEIRO CAJAZEIRA RAMOS",
      "userId": "15502956855817658112"
     },
     "user_tz": 180
    },
    "id": "6d3kSWfj8FhY"
   },
   "outputs": [],
   "source": [
    "cidades_ibge_geometrias = pd.read_csv('bases_de_dados/cidades_ibge_geometrias.csv')"
   ]
  },
  {
   "cell_type": "code",
   "execution_count": 3,
   "metadata": {
    "executionInfo": {
     "elapsed": 31,
     "status": "ok",
     "timestamp": 1691601351792,
     "user": {
      "displayName": "ALEXANDRE RIBEIRO CAJAZEIRA RAMOS",
      "userId": "15502956855817658112"
     },
     "user_tz": 180
    },
    "id": "cqEgdphD8KAI"
   },
   "outputs": [],
   "source": [
    "cidades_ibge_geometrias = cidades_ibge_geometrias[['cod_ibge7', 'municipio', 'cod_uf', 'Nome_UF',\n",
    "       'UF', 'Nome_Município', 'uf_min', 'geometry']]"
   ]
  },
  {
   "cell_type": "code",
   "execution_count": 4,
   "metadata": {
    "colab": {
     "base_uri": "https://localhost:8080/",
     "height": 424
    },
    "executionInfo": {
     "elapsed": 32,
     "status": "ok",
     "timestamp": 1691601351795,
     "user": {
      "displayName": "ALEXANDRE RIBEIRO CAJAZEIRA RAMOS",
      "userId": "15502956855817658112"
     },
     "user_tz": 180
    },
    "id": "krvaUya98Lic",
    "outputId": "8694912c-fb57-470c-8084-37bb8e8fde4c"
   },
   "outputs": [
    {
     "data": {
      "text/html": [
       "<div>\n",
       "<style scoped>\n",
       "    .dataframe tbody tr th:only-of-type {\n",
       "        vertical-align: middle;\n",
       "    }\n",
       "\n",
       "    .dataframe tbody tr th {\n",
       "        vertical-align: top;\n",
       "    }\n",
       "\n",
       "    .dataframe thead th {\n",
       "        text-align: right;\n",
       "    }\n",
       "</style>\n",
       "<table border=\"1\" class=\"dataframe\">\n",
       "  <thead>\n",
       "    <tr style=\"text-align: right;\">\n",
       "      <th></th>\n",
       "      <th>cod_ibge7</th>\n",
       "      <th>municipio</th>\n",
       "      <th>cod_uf</th>\n",
       "      <th>Nome_UF</th>\n",
       "      <th>UF</th>\n",
       "      <th>Nome_Município</th>\n",
       "      <th>uf_min</th>\n",
       "      <th>geometry</th>\n",
       "    </tr>\n",
       "  </thead>\n",
       "  <tbody>\n",
       "    <tr>\n",
       "      <th>619</th>\n",
       "      <td>2300101</td>\n",
       "      <td>ABAIARA</td>\n",
       "      <td>23</td>\n",
       "      <td>Ceará</td>\n",
       "      <td>CE</td>\n",
       "      <td>Abaiara</td>\n",
       "      <td>ce</td>\n",
       "      <td>POLYGON ((-38.9699 -7.4273, -38.969 -7.4248, -...</td>\n",
       "    </tr>\n",
       "    <tr>\n",
       "      <th>620</th>\n",
       "      <td>2300150</td>\n",
       "      <td>ACARAPE</td>\n",
       "      <td>23</td>\n",
       "      <td>Ceará</td>\n",
       "      <td>CE</td>\n",
       "      <td>Acarape</td>\n",
       "      <td>ce</td>\n",
       "      <td>POLYGON ((-38.6188 -4.1635, -38.6199 -4.1638, ...</td>\n",
       "    </tr>\n",
       "    <tr>\n",
       "      <th>621</th>\n",
       "      <td>2300200</td>\n",
       "      <td>ACARAÚ</td>\n",
       "      <td>23</td>\n",
       "      <td>Ceará</td>\n",
       "      <td>CE</td>\n",
       "      <td>Acaraú</td>\n",
       "      <td>ce</td>\n",
       "      <td>POLYGON ((-39.9424 -2.8664, -39.9444 -2.8646, ...</td>\n",
       "    </tr>\n",
       "    <tr>\n",
       "      <th>622</th>\n",
       "      <td>2300309</td>\n",
       "      <td>ACOPIARA</td>\n",
       "      <td>23</td>\n",
       "      <td>Ceará</td>\n",
       "      <td>CE</td>\n",
       "      <td>Acopiara</td>\n",
       "      <td>ce</td>\n",
       "      <td>POLYGON ((-39.0507 -6.0254, -39.053 -6.0181, -...</td>\n",
       "    </tr>\n",
       "    <tr>\n",
       "      <th>623</th>\n",
       "      <td>2300408</td>\n",
       "      <td>AIUABA</td>\n",
       "      <td>23</td>\n",
       "      <td>Ceará</td>\n",
       "      <td>CE</td>\n",
       "      <td>Aiuaba</td>\n",
       "      <td>ce</td>\n",
       "      <td>POLYGON ((-40.0841 -6.3674, -40.0848 -6.3665, ...</td>\n",
       "    </tr>\n",
       "    <tr>\n",
       "      <th>...</th>\n",
       "      <td>...</td>\n",
       "      <td>...</td>\n",
       "      <td>...</td>\n",
       "      <td>...</td>\n",
       "      <td>...</td>\n",
       "      <td>...</td>\n",
       "      <td>...</td>\n",
       "      <td>...</td>\n",
       "    </tr>\n",
       "    <tr>\n",
       "      <th>798</th>\n",
       "      <td>2313807</td>\n",
       "      <td>URUBURETAMA</td>\n",
       "      <td>23</td>\n",
       "      <td>Ceará</td>\n",
       "      <td>CE</td>\n",
       "      <td>Uruburetama</td>\n",
       "      <td>ce</td>\n",
       "      <td>POLYGON ((-39.4556 -3.6431, -39.4205 -3.6262, ...</td>\n",
       "    </tr>\n",
       "    <tr>\n",
       "      <th>799</th>\n",
       "      <td>2313906</td>\n",
       "      <td>URUOCA</td>\n",
       "      <td>23</td>\n",
       "      <td>Ceará</td>\n",
       "      <td>CE</td>\n",
       "      <td>Uruoca</td>\n",
       "      <td>ce</td>\n",
       "      <td>POLYGON ((-40.7279 -3.2339, -40.7944 -3.218, -...</td>\n",
       "    </tr>\n",
       "    <tr>\n",
       "      <th>800</th>\n",
       "      <td>2313955</td>\n",
       "      <td>VARJOTA</td>\n",
       "      <td>23</td>\n",
       "      <td>Ceará</td>\n",
       "      <td>CE</td>\n",
       "      <td>Varjota</td>\n",
       "      <td>ce</td>\n",
       "      <td>POLYGON ((-40.451 -4.2091, -40.45 -4.2076, -40...</td>\n",
       "    </tr>\n",
       "    <tr>\n",
       "      <th>801</th>\n",
       "      <td>2314102</td>\n",
       "      <td>VIÇOSA DO CEARÁ</td>\n",
       "      <td>23</td>\n",
       "      <td>Ceará</td>\n",
       "      <td>CE</td>\n",
       "      <td>Viçosa do Ceará</td>\n",
       "      <td>ce</td>\n",
       "      <td>POLYGON ((-40.8867 -3.5204, -40.9298 -3.4845, ...</td>\n",
       "    </tr>\n",
       "    <tr>\n",
       "      <th>802</th>\n",
       "      <td>2314003</td>\n",
       "      <td>VÁRZEA ALEGRE</td>\n",
       "      <td>23</td>\n",
       "      <td>Ceará</td>\n",
       "      <td>CE</td>\n",
       "      <td>Várzea Alegre</td>\n",
       "      <td>ce</td>\n",
       "      <td>POLYGON ((-39.1079 -6.7155, -39.1097 -6.7138, ...</td>\n",
       "    </tr>\n",
       "  </tbody>\n",
       "</table>\n",
       "<p>184 rows × 8 columns</p>\n",
       "</div>"
      ],
      "text/plain": [
       "     cod_ibge7        municipio  cod_uf Nome_UF  UF   Nome_Município uf_min  \\\n",
       "619    2300101          ABAIARA      23   Ceará  CE          Abaiara     ce   \n",
       "620    2300150          ACARAPE      23   Ceará  CE          Acarape     ce   \n",
       "621    2300200           ACARAÚ      23   Ceará  CE           Acaraú     ce   \n",
       "622    2300309         ACOPIARA      23   Ceará  CE         Acopiara     ce   \n",
       "623    2300408           AIUABA      23   Ceará  CE           Aiuaba     ce   \n",
       "..         ...              ...     ...     ...  ..              ...    ...   \n",
       "798    2313807      URUBURETAMA      23   Ceará  CE      Uruburetama     ce   \n",
       "799    2313906           URUOCA      23   Ceará  CE           Uruoca     ce   \n",
       "800    2313955          VARJOTA      23   Ceará  CE          Varjota     ce   \n",
       "801    2314102  VIÇOSA DO CEARÁ      23   Ceará  CE  Viçosa do Ceará     ce   \n",
       "802    2314003    VÁRZEA ALEGRE      23   Ceará  CE    Várzea Alegre     ce   \n",
       "\n",
       "                                              geometry  \n",
       "619  POLYGON ((-38.9699 -7.4273, -38.969 -7.4248, -...  \n",
       "620  POLYGON ((-38.6188 -4.1635, -38.6199 -4.1638, ...  \n",
       "621  POLYGON ((-39.9424 -2.8664, -39.9444 -2.8646, ...  \n",
       "622  POLYGON ((-39.0507 -6.0254, -39.053 -6.0181, -...  \n",
       "623  POLYGON ((-40.0841 -6.3674, -40.0848 -6.3665, ...  \n",
       "..                                                 ...  \n",
       "798  POLYGON ((-39.4556 -3.6431, -39.4205 -3.6262, ...  \n",
       "799  POLYGON ((-40.7279 -3.2339, -40.7944 -3.218, -...  \n",
       "800  POLYGON ((-40.451 -4.2091, -40.45 -4.2076, -40...  \n",
       "801  POLYGON ((-40.8867 -3.5204, -40.9298 -3.4845, ...  \n",
       "802  POLYGON ((-39.1079 -6.7155, -39.1097 -6.7138, ...  \n",
       "\n",
       "[184 rows x 8 columns]"
      ]
     },
     "execution_count": 4,
     "metadata": {},
     "output_type": "execute_result"
    }
   ],
   "source": [
    "geometrias_cidades_ce = cidades_ibge_geometrias.loc[cidades_ibge_geometrias.uf_min=='ce']\n",
    "geometrias_cidades_ce"
   ]
  },
  {
   "cell_type": "code",
   "execution_count": 5,
   "metadata": {
    "executionInfo": {
     "elapsed": 30,
     "status": "ok",
     "timestamp": 1691601351799,
     "user": {
      "displayName": "ALEXANDRE RIBEIRO CAJAZEIRA RAMOS",
      "userId": "15502956855817658112"
     },
     "user_tz": 180
    },
    "id": "T7CjDbtw8NYB"
   },
   "outputs": [],
   "source": [
    "path_tabela9718 = 'bases_de_dados/tabela9718_tratada.csv'"
   ]
  },
  {
   "cell_type": "code",
   "execution_count": 6,
   "metadata": {
    "executionInfo": {
     "elapsed": 3260,
     "status": "ok",
     "timestamp": 1691601355030,
     "user": {
      "displayName": "ALEXANDRE RIBEIRO CAJAZEIRA RAMOS",
      "userId": "15502956855817658112"
     },
     "user_tz": 180
    },
    "id": "er0Kyuby8dH1"
   },
   "outputs": [],
   "source": [
    "tabela9718 = pd.read_csv(path_tabela9718)"
   ]
  },
  {
   "cell_type": "code",
   "execution_count": 7,
   "metadata": {
    "colab": {
     "base_uri": "https://localhost:8080/"
    },
    "executionInfo": {
     "elapsed": 130,
     "status": "ok",
     "timestamp": 1691601355031,
     "user": {
      "displayName": "ALEXANDRE RIBEIRO CAJAZEIRA RAMOS",
      "userId": "15502956855817658112"
     },
     "user_tz": 180
    },
    "id": "SPEi6bUS8fKv",
    "outputId": "da9f62fd-9755-4dbe-b626-3d9f92ad322b"
   },
   "outputs": [
    {
     "data": {
      "text/plain": [
       "cidade                      AbaiaraAcarapeAcaraúAcopiaraAiuabaAlcântarasAl...\n",
       "Total_total                                                             56353\n",
       "Total_cor_ou_raca                                                       39980\n",
       "Total_se_considera                                                      16373\n",
       "Total_nao_se_declara                                                        0\n",
       "EmTI_total                                                              10524\n",
       "EmTI_cor_ou_raca                                                         9275\n",
       "EmTI_se_considera                                                        1249\n",
       "EmTI_nao_se_declara                                                         0\n",
       "Pop_total                                                             8791688\n",
       "Pop_cor_ou_raca                                                         39980\n",
       "Pop_se_considera                                                        16373\n",
       "Pop_nao_se_declara                                                    8735335\n",
       "Pop_em_TI_total                                                         16074\n",
       "Pop_em_TI_cor_ou_raca                                                    9275\n",
       "Pop_em_TI_se_considera                                                   1249\n",
       "Pop_em_TI_nao_se_declara                                                 5550\n",
       "dtype: object"
      ]
     },
     "execution_count": 7,
     "metadata": {},
     "output_type": "execute_result"
    }
   ],
   "source": [
    "tabela9718.sum()"
   ]
  },
  {
   "cell_type": "code",
   "execution_count": 8,
   "metadata": {
    "executionInfo": {
     "elapsed": 128,
     "status": "ok",
     "timestamp": 1691601355032,
     "user": {
      "displayName": "ALEXANDRE RIBEIRO CAJAZEIRA RAMOS",
      "userId": "15502956855817658112"
     },
     "user_tz": 180
    },
    "id": "4PxHKRFOCp2s"
   },
   "outputs": [],
   "source": [
    "tabela9718['CIDADE']=tabela9718.cidade.apply(lambda x: x.upper())"
   ]
  },
  {
   "cell_type": "code",
   "execution_count": 9,
   "metadata": {
    "colab": {
     "base_uri": "https://localhost:8080/",
     "height": 270
    },
    "executionInfo": {
     "elapsed": 128,
     "status": "ok",
     "timestamp": 1691601355033,
     "user": {
      "displayName": "ALEXANDRE RIBEIRO CAJAZEIRA RAMOS",
      "userId": "15502956855817658112"
     },
     "user_tz": 180
    },
    "id": "e5YZkt0ICnpL",
    "outputId": "541985c7-5149-4a49-c2ec-2952289d31b0"
   },
   "outputs": [
    {
     "data": {
      "text/html": [
       "<div>\n",
       "<style scoped>\n",
       "    .dataframe tbody tr th:only-of-type {\n",
       "        vertical-align: middle;\n",
       "    }\n",
       "\n",
       "    .dataframe tbody tr th {\n",
       "        vertical-align: top;\n",
       "    }\n",
       "\n",
       "    .dataframe thead th {\n",
       "        text-align: right;\n",
       "    }\n",
       "</style>\n",
       "<table border=\"1\" class=\"dataframe\">\n",
       "  <thead>\n",
       "    <tr style=\"text-align: right;\">\n",
       "      <th></th>\n",
       "      <th>cidade</th>\n",
       "      <th>Total_total</th>\n",
       "      <th>Total_cor_ou_raca</th>\n",
       "      <th>Total_se_considera</th>\n",
       "      <th>Total_nao_se_declara</th>\n",
       "      <th>EmTI_total</th>\n",
       "      <th>EmTI_cor_ou_raca</th>\n",
       "      <th>EmTI_se_considera</th>\n",
       "      <th>EmTI_nao_se_declara</th>\n",
       "      <th>Pop_total</th>\n",
       "      <th>Pop_cor_ou_raca</th>\n",
       "      <th>Pop_se_considera</th>\n",
       "      <th>Pop_nao_se_declara</th>\n",
       "      <th>Pop_em_TI_total</th>\n",
       "      <th>Pop_em_TI_cor_ou_raca</th>\n",
       "      <th>Pop_em_TI_se_considera</th>\n",
       "      <th>Pop_em_TI_nao_se_declara</th>\n",
       "      <th>CIDADE</th>\n",
       "    </tr>\n",
       "  </thead>\n",
       "  <tbody>\n",
       "    <tr>\n",
       "      <th>0</th>\n",
       "      <td>Abaiara</td>\n",
       "      <td>5</td>\n",
       "      <td>5</td>\n",
       "      <td>0</td>\n",
       "      <td>0</td>\n",
       "      <td>0</td>\n",
       "      <td>0</td>\n",
       "      <td>0</td>\n",
       "      <td>0</td>\n",
       "      <td>10038</td>\n",
       "      <td>5</td>\n",
       "      <td>0</td>\n",
       "      <td>10033</td>\n",
       "      <td>0</td>\n",
       "      <td>0</td>\n",
       "      <td>0</td>\n",
       "      <td>0</td>\n",
       "      <td>ABAIARA</td>\n",
       "    </tr>\n",
       "    <tr>\n",
       "      <th>1</th>\n",
       "      <td>Acarape</td>\n",
       "      <td>7</td>\n",
       "      <td>7</td>\n",
       "      <td>0</td>\n",
       "      <td>0</td>\n",
       "      <td>0</td>\n",
       "      <td>0</td>\n",
       "      <td>0</td>\n",
       "      <td>0</td>\n",
       "      <td>14027</td>\n",
       "      <td>7</td>\n",
       "      <td>0</td>\n",
       "      <td>14020</td>\n",
       "      <td>0</td>\n",
       "      <td>0</td>\n",
       "      <td>0</td>\n",
       "      <td>0</td>\n",
       "      <td>ACARAPE</td>\n",
       "    </tr>\n",
       "    <tr>\n",
       "      <th>2</th>\n",
       "      <td>Acaraú</td>\n",
       "      <td>657</td>\n",
       "      <td>500</td>\n",
       "      <td>157</td>\n",
       "      <td>0</td>\n",
       "      <td>401</td>\n",
       "      <td>373</td>\n",
       "      <td>28</td>\n",
       "      <td>0</td>\n",
       "      <td>64806</td>\n",
       "      <td>500</td>\n",
       "      <td>157</td>\n",
       "      <td>64149</td>\n",
       "      <td>422</td>\n",
       "      <td>373</td>\n",
       "      <td>28</td>\n",
       "      <td>21</td>\n",
       "      <td>ACARAÚ</td>\n",
       "    </tr>\n",
       "    <tr>\n",
       "      <th>3</th>\n",
       "      <td>Acopiara</td>\n",
       "      <td>24</td>\n",
       "      <td>24</td>\n",
       "      <td>0</td>\n",
       "      <td>0</td>\n",
       "      <td>0</td>\n",
       "      <td>0</td>\n",
       "      <td>0</td>\n",
       "      <td>0</td>\n",
       "      <td>44962</td>\n",
       "      <td>24</td>\n",
       "      <td>0</td>\n",
       "      <td>44938</td>\n",
       "      <td>0</td>\n",
       "      <td>0</td>\n",
       "      <td>0</td>\n",
       "      <td>0</td>\n",
       "      <td>ACOPIARA</td>\n",
       "    </tr>\n",
       "    <tr>\n",
       "      <th>4</th>\n",
       "      <td>Aiuaba</td>\n",
       "      <td>4</td>\n",
       "      <td>4</td>\n",
       "      <td>0</td>\n",
       "      <td>0</td>\n",
       "      <td>0</td>\n",
       "      <td>0</td>\n",
       "      <td>0</td>\n",
       "      <td>0</td>\n",
       "      <td>14076</td>\n",
       "      <td>4</td>\n",
       "      <td>0</td>\n",
       "      <td>14072</td>\n",
       "      <td>0</td>\n",
       "      <td>0</td>\n",
       "      <td>0</td>\n",
       "      <td>0</td>\n",
       "      <td>AIUABA</td>\n",
       "    </tr>\n",
       "  </tbody>\n",
       "</table>\n",
       "</div>"
      ],
      "text/plain": [
       "     cidade  Total_total  Total_cor_ou_raca  Total_se_considera  \\\n",
       "0   Abaiara            5                  5                   0   \n",
       "1   Acarape            7                  7                   0   \n",
       "2    Acaraú          657                500                 157   \n",
       "3  Acopiara           24                 24                   0   \n",
       "4    Aiuaba            4                  4                   0   \n",
       "\n",
       "   Total_nao_se_declara  EmTI_total  EmTI_cor_ou_raca  EmTI_se_considera  \\\n",
       "0                     0           0                 0                  0   \n",
       "1                     0           0                 0                  0   \n",
       "2                     0         401               373                 28   \n",
       "3                     0           0                 0                  0   \n",
       "4                     0           0                 0                  0   \n",
       "\n",
       "   EmTI_nao_se_declara  Pop_total  Pop_cor_ou_raca  Pop_se_considera  \\\n",
       "0                    0      10038                5                 0   \n",
       "1                    0      14027                7                 0   \n",
       "2                    0      64806              500               157   \n",
       "3                    0      44962               24                 0   \n",
       "4                    0      14076                4                 0   \n",
       "\n",
       "   Pop_nao_se_declara  Pop_em_TI_total  Pop_em_TI_cor_ou_raca  \\\n",
       "0               10033                0                      0   \n",
       "1               14020                0                      0   \n",
       "2               64149              422                    373   \n",
       "3               44938                0                      0   \n",
       "4               14072                0                      0   \n",
       "\n",
       "   Pop_em_TI_se_considera  Pop_em_TI_nao_se_declara    CIDADE  \n",
       "0                       0                         0   ABAIARA  \n",
       "1                       0                         0   ACARAPE  \n",
       "2                      28                        21    ACARAÚ  \n",
       "3                       0                         0  ACOPIARA  \n",
       "4                       0                         0    AIUABA  "
      ]
     },
     "execution_count": 9,
     "metadata": {},
     "output_type": "execute_result"
    }
   ],
   "source": [
    "tabela9718.head()"
   ]
  },
  {
   "cell_type": "code",
   "execution_count": 10,
   "metadata": {
    "colab": {
     "base_uri": "https://localhost:8080/",
     "height": 206
    },
    "executionInfo": {
     "elapsed": 127,
     "status": "ok",
     "timestamp": 1691601355033,
     "user": {
      "displayName": "ALEXANDRE RIBEIRO CAJAZEIRA RAMOS",
      "userId": "15502956855817658112"
     },
     "user_tz": 180
    },
    "id": "Xu5-uFiuAx-k",
    "outputId": "34191b2c-37ae-46de-bad2-701ebca28c40"
   },
   "outputs": [
    {
     "data": {
      "text/html": [
       "<div>\n",
       "<style scoped>\n",
       "    .dataframe tbody tr th:only-of-type {\n",
       "        vertical-align: middle;\n",
       "    }\n",
       "\n",
       "    .dataframe tbody tr th {\n",
       "        vertical-align: top;\n",
       "    }\n",
       "\n",
       "    .dataframe thead th {\n",
       "        text-align: right;\n",
       "    }\n",
       "</style>\n",
       "<table border=\"1\" class=\"dataframe\">\n",
       "  <thead>\n",
       "    <tr style=\"text-align: right;\">\n",
       "      <th></th>\n",
       "      <th>cod_ibge7</th>\n",
       "      <th>municipio</th>\n",
       "      <th>cod_uf</th>\n",
       "      <th>Nome_UF</th>\n",
       "      <th>UF</th>\n",
       "      <th>Nome_Município</th>\n",
       "      <th>uf_min</th>\n",
       "      <th>geometry</th>\n",
       "    </tr>\n",
       "  </thead>\n",
       "  <tbody>\n",
       "    <tr>\n",
       "      <th>619</th>\n",
       "      <td>2300101</td>\n",
       "      <td>ABAIARA</td>\n",
       "      <td>23</td>\n",
       "      <td>Ceará</td>\n",
       "      <td>CE</td>\n",
       "      <td>Abaiara</td>\n",
       "      <td>ce</td>\n",
       "      <td>POLYGON ((-38.9699 -7.4273, -38.969 -7.4248, -...</td>\n",
       "    </tr>\n",
       "    <tr>\n",
       "      <th>620</th>\n",
       "      <td>2300150</td>\n",
       "      <td>ACARAPE</td>\n",
       "      <td>23</td>\n",
       "      <td>Ceará</td>\n",
       "      <td>CE</td>\n",
       "      <td>Acarape</td>\n",
       "      <td>ce</td>\n",
       "      <td>POLYGON ((-38.6188 -4.1635, -38.6199 -4.1638, ...</td>\n",
       "    </tr>\n",
       "    <tr>\n",
       "      <th>621</th>\n",
       "      <td>2300200</td>\n",
       "      <td>ACARAÚ</td>\n",
       "      <td>23</td>\n",
       "      <td>Ceará</td>\n",
       "      <td>CE</td>\n",
       "      <td>Acaraú</td>\n",
       "      <td>ce</td>\n",
       "      <td>POLYGON ((-39.9424 -2.8664, -39.9444 -2.8646, ...</td>\n",
       "    </tr>\n",
       "    <tr>\n",
       "      <th>622</th>\n",
       "      <td>2300309</td>\n",
       "      <td>ACOPIARA</td>\n",
       "      <td>23</td>\n",
       "      <td>Ceará</td>\n",
       "      <td>CE</td>\n",
       "      <td>Acopiara</td>\n",
       "      <td>ce</td>\n",
       "      <td>POLYGON ((-39.0507 -6.0254, -39.053 -6.0181, -...</td>\n",
       "    </tr>\n",
       "    <tr>\n",
       "      <th>623</th>\n",
       "      <td>2300408</td>\n",
       "      <td>AIUABA</td>\n",
       "      <td>23</td>\n",
       "      <td>Ceará</td>\n",
       "      <td>CE</td>\n",
       "      <td>Aiuaba</td>\n",
       "      <td>ce</td>\n",
       "      <td>POLYGON ((-40.0841 -6.3674, -40.0848 -6.3665, ...</td>\n",
       "    </tr>\n",
       "  </tbody>\n",
       "</table>\n",
       "</div>"
      ],
      "text/plain": [
       "     cod_ibge7 municipio  cod_uf Nome_UF  UF Nome_Município uf_min  \\\n",
       "619    2300101   ABAIARA      23   Ceará  CE        Abaiara     ce   \n",
       "620    2300150   ACARAPE      23   Ceará  CE        Acarape     ce   \n",
       "621    2300200    ACARAÚ      23   Ceará  CE         Acaraú     ce   \n",
       "622    2300309  ACOPIARA      23   Ceará  CE       Acopiara     ce   \n",
       "623    2300408    AIUABA      23   Ceará  CE         Aiuaba     ce   \n",
       "\n",
       "                                              geometry  \n",
       "619  POLYGON ((-38.9699 -7.4273, -38.969 -7.4248, -...  \n",
       "620  POLYGON ((-38.6188 -4.1635, -38.6199 -4.1638, ...  \n",
       "621  POLYGON ((-39.9424 -2.8664, -39.9444 -2.8646, ...  \n",
       "622  POLYGON ((-39.0507 -6.0254, -39.053 -6.0181, -...  \n",
       "623  POLYGON ((-40.0841 -6.3674, -40.0848 -6.3665, ...  "
      ]
     },
     "execution_count": 10,
     "metadata": {},
     "output_type": "execute_result"
    }
   ],
   "source": [
    "geometrias_cidades_ce.head()"
   ]
  },
  {
   "cell_type": "code",
   "execution_count": 11,
   "metadata": {
    "executionInfo": {
     "elapsed": 128,
     "status": "ok",
     "timestamp": 1691601355035,
     "user": {
      "displayName": "ALEXANDRE RIBEIRO CAJAZEIRA RAMOS",
      "userId": "15502956855817658112"
     },
     "user_tz": 180
    },
    "id": "uKMGfpcVCles"
   },
   "outputs": [],
   "source": [
    "dataset_pop_idg = pd.merge(geometrias_cidades_ce, tabela9718, left_on='municipio', right_on='CIDADE')"
   ]
  },
  {
   "cell_type": "code",
   "execution_count": 12,
   "metadata": {
    "colab": {
     "base_uri": "https://localhost:8080/"
    },
    "executionInfo": {
     "elapsed": 128,
     "status": "ok",
     "timestamp": 1691601355036,
     "user": {
      "displayName": "ALEXANDRE RIBEIRO CAJAZEIRA RAMOS",
      "userId": "15502956855817658112"
     },
     "user_tz": 180
    },
    "id": "yaeQNi79DE0Q",
    "outputId": "4f93ef48-09aa-4ea5-cce0-d8690bb6d2cc"
   },
   "outputs": [
    {
     "data": {
      "text/plain": [
       "Index(['cod_ibge7', 'municipio', 'cod_uf', 'Nome_UF', 'UF', 'Nome_Município',\n",
       "       'uf_min', 'geometry', 'cidade', 'Total_total', 'Total_cor_ou_raca',\n",
       "       'Total_se_considera', 'Total_nao_se_declara', 'EmTI_total',\n",
       "       'EmTI_cor_ou_raca', 'EmTI_se_considera', 'EmTI_nao_se_declara',\n",
       "       'Pop_total', 'Pop_cor_ou_raca', 'Pop_se_considera',\n",
       "       'Pop_nao_se_declara', 'Pop_em_TI_total', 'Pop_em_TI_cor_ou_raca',\n",
       "       'Pop_em_TI_se_considera', 'Pop_em_TI_nao_se_declara', 'CIDADE'],\n",
       "      dtype='object')"
      ]
     },
     "execution_count": 12,
     "metadata": {},
     "output_type": "execute_result"
    }
   ],
   "source": [
    "dataset_pop_idg.columns"
   ]
  },
  {
   "cell_type": "code",
   "execution_count": 13,
   "metadata": {
    "executionInfo": {
     "elapsed": 123,
     "status": "ok",
     "timestamp": 1691601355037,
     "user": {
      "displayName": "ALEXANDRE RIBEIRO CAJAZEIRA RAMOS",
      "userId": "15502956855817658112"
     },
     "user_tz": 180
    },
    "id": "Z5w2m50mEtwE"
   },
   "outputs": [],
   "source": [
    "dataset_pop_idg['pct_IDG-Total'] = dataset_pop_idg.apply(lambda x: round(x.Total_total/x.Pop_total*100,2),axis=1)\n",
    "\n",
    "dataset_pop_idg['pct_emTI'] = dataset_pop_idg.apply(lambda x: round(x.EmTI_total/x.Total_total*100,2) if x.Total_total >0 else 0,axis=1)\n",
    "\n",
    "\n",
    "dataset_pop_idg['pct_foraTI'] = dataset_pop_idg.apply(lambda x: 100-round(x.EmTI_total/x.Total_total*100,2) if x.Total_total >0 else 0,axis=1)"
   ]
  },
  {
   "cell_type": "code",
   "execution_count": 14,
   "metadata": {
    "colab": {
     "base_uri": "https://localhost:8080/"
    },
    "executionInfo": {
     "elapsed": 124,
     "status": "ok",
     "timestamp": 1691601355038,
     "user": {
      "displayName": "ALEXANDRE RIBEIRO CAJAZEIRA RAMOS",
      "userId": "15502956855817658112"
     },
     "user_tz": 180
    },
    "id": "Aq3GmdSWn4l6",
    "outputId": "c67071a3-b332-467d-99ea-146cd8e90d75"
   },
   "outputs": [
    {
     "data": {
      "text/plain": [
       "count    184.000000\n",
       "mean      91.735163\n",
       "std       26.131431\n",
       "min        0.000000\n",
       "25%      100.000000\n",
       "50%      100.000000\n",
       "75%      100.000000\n",
       "max      100.000000\n",
       "Name: pct_foraTI, dtype: float64"
      ]
     },
     "execution_count": 14,
     "metadata": {},
     "output_type": "execute_result"
    }
   ],
   "source": [
    "dataset_pop_idg['pct_foraTI'].describe()"
   ]
  },
  {
   "cell_type": "code",
   "execution_count": 15,
   "metadata": {
    "colab": {
     "base_uri": "https://localhost:8080/"
    },
    "executionInfo": {
     "elapsed": 123,
     "status": "ok",
     "timestamp": 1691601355041,
     "user": {
      "displayName": "ALEXANDRE RIBEIRO CAJAZEIRA RAMOS",
      "userId": "15502956855817658112"
     },
     "user_tz": 180
    },
    "id": "gFIG0vQ5GQVN",
    "outputId": "9b4bc66b-6450-4dd2-c16c-b449f3725765"
   },
   "outputs": [
    {
     "data": {
      "text/plain": [
       "count    184.000000\n",
       "mean       0.573098\n",
       "std        2.574172\n",
       "min        0.000000\n",
       "25%        0.030000\n",
       "50%        0.060000\n",
       "75%        0.132500\n",
       "max       28.350000\n",
       "Name: pct_IDG-Total, dtype: float64"
      ]
     },
     "execution_count": 15,
     "metadata": {},
     "output_type": "execute_result"
    }
   ],
   "source": [
    "dataset_pop_idg['pct_IDG-Total'].describe()"
   ]
  },
  {
   "cell_type": "code",
   "execution_count": 16,
   "metadata": {
    "colab": {
     "base_uri": "https://localhost:8080/"
    },
    "executionInfo": {
     "elapsed": 118,
     "status": "ok",
     "timestamp": 1691601355042,
     "user": {
      "displayName": "ALEXANDRE RIBEIRO CAJAZEIRA RAMOS",
      "userId": "15502956855817658112"
     },
     "user_tz": 180
    },
    "id": "Pam5EwF0G8vz",
    "outputId": "7ade2f78-3a6c-48c2-9e39-f42f33475005"
   },
   "outputs": [
    {
     "data": {
      "text/plain": [
       "count      184.000000\n",
       "mean       306.266304\n",
       "std       1510.531050\n",
       "min          0.000000\n",
       "25%          5.000000\n",
       "50%         10.500000\n",
       "75%         55.250000\n",
       "max      17628.000000\n",
       "Name: Total_total, dtype: float64"
      ]
     },
     "execution_count": 16,
     "metadata": {},
     "output_type": "execute_result"
    }
   ],
   "source": [
    "dataset_pop_idg['Total_total'].describe()"
   ]
  },
  {
   "cell_type": "code",
   "execution_count": 17,
   "metadata": {
    "colab": {
     "base_uri": "https://localhost:8080/",
     "height": 206
    },
    "executionInfo": {
     "elapsed": 114,
     "status": "ok",
     "timestamp": 1691601355043,
     "user": {
      "displayName": "ALEXANDRE RIBEIRO CAJAZEIRA RAMOS",
      "userId": "15502956855817658112"
     },
     "user_tz": 180
    },
    "id": "JLy5DDNWFEj5",
    "outputId": "17471bb7-b527-49ab-e75f-3f7e5dcfe6ad"
   },
   "outputs": [
    {
     "data": {
      "text/html": [
       "<div>\n",
       "<style scoped>\n",
       "    .dataframe tbody tr th:only-of-type {\n",
       "        vertical-align: middle;\n",
       "    }\n",
       "\n",
       "    .dataframe tbody tr th {\n",
       "        vertical-align: top;\n",
       "    }\n",
       "\n",
       "    .dataframe thead th {\n",
       "        text-align: right;\n",
       "    }\n",
       "</style>\n",
       "<table border=\"1\" class=\"dataframe\">\n",
       "  <thead>\n",
       "    <tr style=\"text-align: right;\">\n",
       "      <th></th>\n",
       "      <th>cidade</th>\n",
       "      <th>Total_total</th>\n",
       "      <th>pct_IDG-Total</th>\n",
       "    </tr>\n",
       "  </thead>\n",
       "  <tbody>\n",
       "    <tr>\n",
       "      <th>0</th>\n",
       "      <td>Abaiara</td>\n",
       "      <td>5</td>\n",
       "      <td>0.05</td>\n",
       "    </tr>\n",
       "    <tr>\n",
       "      <th>1</th>\n",
       "      <td>Acarape</td>\n",
       "      <td>7</td>\n",
       "      <td>0.05</td>\n",
       "    </tr>\n",
       "    <tr>\n",
       "      <th>2</th>\n",
       "      <td>Acaraú</td>\n",
       "      <td>657</td>\n",
       "      <td>1.01</td>\n",
       "    </tr>\n",
       "    <tr>\n",
       "      <th>3</th>\n",
       "      <td>Acopiara</td>\n",
       "      <td>24</td>\n",
       "      <td>0.05</td>\n",
       "    </tr>\n",
       "    <tr>\n",
       "      <th>4</th>\n",
       "      <td>Aiuaba</td>\n",
       "      <td>4</td>\n",
       "      <td>0.03</td>\n",
       "    </tr>\n",
       "  </tbody>\n",
       "</table>\n",
       "</div>"
      ],
      "text/plain": [
       "     cidade  Total_total  pct_IDG-Total\n",
       "0   Abaiara            5           0.05\n",
       "1   Acarape            7           0.05\n",
       "2    Acaraú          657           1.01\n",
       "3  Acopiara           24           0.05\n",
       "4    Aiuaba            4           0.03"
      ]
     },
     "execution_count": 17,
     "metadata": {},
     "output_type": "execute_result"
    }
   ],
   "source": [
    "dataset_pop_idg[['cidade','Total_total','pct_IDG-Total']].head(5)"
   ]
  },
  {
   "cell_type": "code",
   "execution_count": 18,
   "metadata": {
    "colab": {
     "base_uri": "https://localhost:8080/",
     "height": 206
    },
    "executionInfo": {
     "elapsed": 114,
     "status": "ok",
     "timestamp": 1691601355044,
     "user": {
      "displayName": "ALEXANDRE RIBEIRO CAJAZEIRA RAMOS",
      "userId": "15502956855817658112"
     },
     "user_tz": 180
    },
    "id": "SgnbGPaVY3e0",
    "outputId": "777e3e80-036a-4620-9abb-e85f72d5b62a"
   },
   "outputs": [
    {
     "data": {
      "text/html": [
       "<div>\n",
       "<style scoped>\n",
       "    .dataframe tbody tr th:only-of-type {\n",
       "        vertical-align: middle;\n",
       "    }\n",
       "\n",
       "    .dataframe tbody tr th {\n",
       "        vertical-align: top;\n",
       "    }\n",
       "\n",
       "    .dataframe thead th {\n",
       "        text-align: right;\n",
       "    }\n",
       "</style>\n",
       "<table border=\"1\" class=\"dataframe\">\n",
       "  <thead>\n",
       "    <tr style=\"text-align: right;\">\n",
       "      <th></th>\n",
       "      <th>municipio</th>\n",
       "      <th>Total_total</th>\n",
       "      <th>pct_IDG-Total</th>\n",
       "      <th>EmTI_total</th>\n",
       "    </tr>\n",
       "  </thead>\n",
       "  <tbody>\n",
       "    <tr>\n",
       "      <th>43</th>\n",
       "      <td>CAUCAIA</td>\n",
       "      <td>17628</td>\n",
       "      <td>4.96</td>\n",
       "      <td>5791</td>\n",
       "    </tr>\n",
       "    <tr>\n",
       "      <th>89</th>\n",
       "      <td>ITAREMA</td>\n",
       "      <td>5115</td>\n",
       "      <td>11.97</td>\n",
       "      <td>508</td>\n",
       "    </tr>\n",
       "    <tr>\n",
       "      <th>103</th>\n",
       "      <td>MARACANAÚ</td>\n",
       "      <td>5111</td>\n",
       "      <td>2.18</td>\n",
       "      <td>2437</td>\n",
       "    </tr>\n",
       "    <tr>\n",
       "      <th>58</th>\n",
       "      <td>FORTALEZA</td>\n",
       "      <td>4948</td>\n",
       "      <td>0.20</td>\n",
       "      <td>0</td>\n",
       "    </tr>\n",
       "    <tr>\n",
       "      <th>115</th>\n",
       "      <td>MONSENHOR TABOSA</td>\n",
       "      <td>4861</td>\n",
       "      <td>28.35</td>\n",
       "      <td>0</td>\n",
       "    </tr>\n",
       "  </tbody>\n",
       "</table>\n",
       "</div>"
      ],
      "text/plain": [
       "            municipio  Total_total  pct_IDG-Total  EmTI_total\n",
       "43            CAUCAIA        17628           4.96        5791\n",
       "89            ITAREMA         5115          11.97         508\n",
       "103         MARACANAÚ         5111           2.18        2437\n",
       "58          FORTALEZA         4948           0.20           0\n",
       "115  MONSENHOR TABOSA         4861          28.35           0"
      ]
     },
     "execution_count": 18,
     "metadata": {},
     "output_type": "execute_result"
    }
   ],
   "source": [
    "dataset_pop_idg.sort_values(by='Total_total', ascending=False).head(5)[['municipio','Total_total','pct_IDG-Total','EmTI_total']]"
   ]
  },
  {
   "cell_type": "code",
   "execution_count": 19,
   "metadata": {
    "colab": {
     "base_uri": "https://localhost:8080/",
     "height": 363
    },
    "executionInfo": {
     "elapsed": 113,
     "status": "ok",
     "timestamp": 1691601355045,
     "user": {
      "displayName": "ALEXANDRE RIBEIRO CAJAZEIRA RAMOS",
      "userId": "15502956855817658112"
     },
     "user_tz": 180
    },
    "id": "z3678543lUye",
    "outputId": "4805d916-1c85-4493-dfcf-46e4cac2ce18"
   },
   "outputs": [
    {
     "data": {
      "text/html": [
       "<div>\n",
       "<style scoped>\n",
       "    .dataframe tbody tr th:only-of-type {\n",
       "        vertical-align: middle;\n",
       "    }\n",
       "\n",
       "    .dataframe tbody tr th {\n",
       "        vertical-align: top;\n",
       "    }\n",
       "\n",
       "    .dataframe thead th {\n",
       "        text-align: right;\n",
       "    }\n",
       "</style>\n",
       "<table border=\"1\" class=\"dataframe\">\n",
       "  <thead>\n",
       "    <tr style=\"text-align: right;\">\n",
       "      <th></th>\n",
       "      <th>municipio</th>\n",
       "      <th>pct_emTI</th>\n",
       "      <th>Total_total</th>\n",
       "      <th>pct_IDG-Total</th>\n",
       "    </tr>\n",
       "  </thead>\n",
       "  <tbody>\n",
       "    <tr>\n",
       "      <th>87</th>\n",
       "      <td>ITAPIPOCA</td>\n",
       "      <td>72.75</td>\n",
       "      <td>745</td>\n",
       "      <td>0.57</td>\n",
       "    </tr>\n",
       "    <tr>\n",
       "      <th>11</th>\n",
       "      <td>AQUIRAZ</td>\n",
       "      <td>62.50</td>\n",
       "      <td>544</td>\n",
       "      <td>0.68</td>\n",
       "    </tr>\n",
       "    <tr>\n",
       "      <th>2</th>\n",
       "      <td>ACARAÚ</td>\n",
       "      <td>61.04</td>\n",
       "      <td>657</td>\n",
       "      <td>1.01</td>\n",
       "    </tr>\n",
       "    <tr>\n",
       "      <th>103</th>\n",
       "      <td>MARACANAÚ</td>\n",
       "      <td>47.68</td>\n",
       "      <td>5111</td>\n",
       "      <td>2.18</td>\n",
       "    </tr>\n",
       "    <tr>\n",
       "      <th>127</th>\n",
       "      <td>PACATUBA</td>\n",
       "      <td>33.98</td>\n",
       "      <td>1486</td>\n",
       "      <td>1.83</td>\n",
       "    </tr>\n",
       "    <tr>\n",
       "      <th>43</th>\n",
       "      <td>CAUCAIA</td>\n",
       "      <td>32.85</td>\n",
       "      <td>17628</td>\n",
       "      <td>4.96</td>\n",
       "    </tr>\n",
       "    <tr>\n",
       "      <th>89</th>\n",
       "      <td>ITAREMA</td>\n",
       "      <td>9.93</td>\n",
       "      <td>5115</td>\n",
       "      <td>11.97</td>\n",
       "    </tr>\n",
       "    <tr>\n",
       "      <th>0</th>\n",
       "      <td>ABAIARA</td>\n",
       "      <td>0.00</td>\n",
       "      <td>5</td>\n",
       "      <td>0.05</td>\n",
       "    </tr>\n",
       "    <tr>\n",
       "      <th>128</th>\n",
       "      <td>PACOTI</td>\n",
       "      <td>0.00</td>\n",
       "      <td>5</td>\n",
       "      <td>0.04</td>\n",
       "    </tr>\n",
       "    <tr>\n",
       "      <th>120</th>\n",
       "      <td>MULUNGU</td>\n",
       "      <td>0.00</td>\n",
       "      <td>11</td>\n",
       "      <td>0.10</td>\n",
       "    </tr>\n",
       "  </tbody>\n",
       "</table>\n",
       "</div>"
      ],
      "text/plain": [
       "     municipio  pct_emTI  Total_total  pct_IDG-Total\n",
       "87   ITAPIPOCA     72.75          745           0.57\n",
       "11     AQUIRAZ     62.50          544           0.68\n",
       "2       ACARAÚ     61.04          657           1.01\n",
       "103  MARACANAÚ     47.68         5111           2.18\n",
       "127   PACATUBA     33.98         1486           1.83\n",
       "43     CAUCAIA     32.85        17628           4.96\n",
       "89     ITAREMA      9.93         5115          11.97\n",
       "0      ABAIARA      0.00            5           0.05\n",
       "128     PACOTI      0.00            5           0.04\n",
       "120    MULUNGU      0.00           11           0.10"
      ]
     },
     "execution_count": 19,
     "metadata": {},
     "output_type": "execute_result"
    }
   ],
   "source": [
    "dataset_pop_idg.sort_values(by='pct_emTI', ascending=False).head(10)[['municipio','pct_emTI','Total_total','pct_IDG-Total']]"
   ]
  },
  {
   "cell_type": "code",
   "execution_count": 20,
   "metadata": {
    "colab": {
     "base_uri": "https://localhost:8080/",
     "height": 206
    },
    "executionInfo": {
     "elapsed": 113,
     "status": "ok",
     "timestamp": 1691601355046,
     "user": {
      "displayName": "ALEXANDRE RIBEIRO CAJAZEIRA RAMOS",
      "userId": "15502956855817658112"
     },
     "user_tz": 180
    },
    "id": "QDPd-KKxbM9w",
    "outputId": "1498f374-b83d-453f-bb71-740b8a38e1d7"
   },
   "outputs": [
    {
     "data": {
      "text/html": [
       "<div>\n",
       "<style scoped>\n",
       "    .dataframe tbody tr th:only-of-type {\n",
       "        vertical-align: middle;\n",
       "    }\n",
       "\n",
       "    .dataframe tbody tr th {\n",
       "        vertical-align: top;\n",
       "    }\n",
       "\n",
       "    .dataframe thead th {\n",
       "        text-align: right;\n",
       "    }\n",
       "</style>\n",
       "<table border=\"1\" class=\"dataframe\">\n",
       "  <thead>\n",
       "    <tr style=\"text-align: right;\">\n",
       "      <th></th>\n",
       "      <th>municipio</th>\n",
       "      <th>Total_total</th>\n",
       "      <th>pct_IDG-Total</th>\n",
       "    </tr>\n",
       "  </thead>\n",
       "  <tbody>\n",
       "    <tr>\n",
       "      <th>115</th>\n",
       "      <td>MONSENHOR TABOSA</td>\n",
       "      <td>4861</td>\n",
       "      <td>28.35</td>\n",
       "    </tr>\n",
       "    <tr>\n",
       "      <th>143</th>\n",
       "      <td>PORANGA</td>\n",
       "      <td>1542</td>\n",
       "      <td>12.78</td>\n",
       "    </tr>\n",
       "    <tr>\n",
       "      <th>89</th>\n",
       "      <td>ITAREMA</td>\n",
       "      <td>5115</td>\n",
       "      <td>11.97</td>\n",
       "    </tr>\n",
       "    <tr>\n",
       "      <th>16</th>\n",
       "      <td>ARATUBA</td>\n",
       "      <td>814</td>\n",
       "      <td>7.25</td>\n",
       "    </tr>\n",
       "    <tr>\n",
       "      <th>39</th>\n",
       "      <td>CARNAUBAL</td>\n",
       "      <td>866</td>\n",
       "      <td>5.03</td>\n",
       "    </tr>\n",
       "  </tbody>\n",
       "</table>\n",
       "</div>"
      ],
      "text/plain": [
       "            municipio  Total_total  pct_IDG-Total\n",
       "115  MONSENHOR TABOSA         4861          28.35\n",
       "143           PORANGA         1542          12.78\n",
       "89            ITAREMA         5115          11.97\n",
       "16            ARATUBA          814           7.25\n",
       "39          CARNAUBAL          866           5.03"
      ]
     },
     "execution_count": 20,
     "metadata": {},
     "output_type": "execute_result"
    }
   ],
   "source": [
    "dataset_pop_idg.sort_values(by='pct_IDG-Total', ascending=False).head(5)[['municipio','Total_total','pct_IDG-Total']]"
   ]
  },
  {
   "cell_type": "code",
   "execution_count": 21,
   "metadata": {
    "executionInfo": {
     "elapsed": 113,
     "status": "ok",
     "timestamp": 1691601355047,
     "user": {
      "displayName": "ALEXANDRE RIBEIRO CAJAZEIRA RAMOS",
      "userId": "15502956855817658112"
     },
     "user_tz": 180
    },
    "id": "NyUh9xDGENPP"
   },
   "outputs": [],
   "source": [
    "dataset_pop_idg[['cod_ibge7','cidade', 'pct_IDG-Total','Total_total', 'Total_cor_ou_raca',\n",
    "       'Total_se_considera', 'Total_nao_se_declara', 'EmTI_total','pct_emTI','pct_foraTI',\n",
    "       'EmTI_cor_ou_raca', 'EmTI_se_considera', 'EmTI_nao_se_declara',\n",
    "       'Pop_total', 'Pop_cor_ou_raca', 'Pop_se_considera',\n",
    "       'Pop_nao_se_declara', 'Pop_em_TI_total', 'Pop_em_TI_cor_ou_raca',\n",
    "       'Pop_em_TI_se_considera', 'Pop_em_TI_nao_se_declara']].to_csv('resultados/dataset_popIDG_mun.csv', index=False)"
   ]
  },
  {
   "cell_type": "code",
   "execution_count": 22,
   "metadata": {
    "colab": {
     "base_uri": "https://localhost:8080/",
     "height": 699
    },
    "executionInfo": {
     "elapsed": 112,
     "status": "ok",
     "timestamp": 1691601355047,
     "user": {
      "displayName": "ALEXANDRE RIBEIRO CAJAZEIRA RAMOS",
      "userId": "15502956855817658112"
     },
     "user_tz": 180
    },
    "id": "wU-jzilyDAV0",
    "outputId": "5eecaddf-c4e8-4f89-a0f4-bcb57bae99c3"
   },
   "outputs": [
    {
     "data": {
      "text/html": [
       "<div>\n",
       "<style scoped>\n",
       "    .dataframe tbody tr th:only-of-type {\n",
       "        vertical-align: middle;\n",
       "    }\n",
       "\n",
       "    .dataframe tbody tr th {\n",
       "        vertical-align: top;\n",
       "    }\n",
       "\n",
       "    .dataframe thead th {\n",
       "        text-align: right;\n",
       "    }\n",
       "</style>\n",
       "<table border=\"1\" class=\"dataframe\">\n",
       "  <thead>\n",
       "    <tr style=\"text-align: right;\">\n",
       "      <th></th>\n",
       "      <th>cod_ibge7</th>\n",
       "      <th>municipio</th>\n",
       "      <th>cod_uf</th>\n",
       "      <th>Nome_UF</th>\n",
       "      <th>UF</th>\n",
       "      <th>Nome_Município</th>\n",
       "      <th>uf_min</th>\n",
       "      <th>geometry</th>\n",
       "      <th>cidade</th>\n",
       "      <th>Total_total</th>\n",
       "      <th>...</th>\n",
       "      <th>Pop_se_considera</th>\n",
       "      <th>Pop_nao_se_declara</th>\n",
       "      <th>Pop_em_TI_total</th>\n",
       "      <th>Pop_em_TI_cor_ou_raca</th>\n",
       "      <th>Pop_em_TI_se_considera</th>\n",
       "      <th>Pop_em_TI_nao_se_declara</th>\n",
       "      <th>CIDADE</th>\n",
       "      <th>pct_IDG-Total</th>\n",
       "      <th>pct_emTI</th>\n",
       "      <th>pct_foraTI</th>\n",
       "    </tr>\n",
       "  </thead>\n",
       "  <tbody>\n",
       "    <tr>\n",
       "      <th>0</th>\n",
       "      <td>2300101</td>\n",
       "      <td>ABAIARA</td>\n",
       "      <td>23</td>\n",
       "      <td>Ceará</td>\n",
       "      <td>CE</td>\n",
       "      <td>Abaiara</td>\n",
       "      <td>ce</td>\n",
       "      <td>POLYGON ((-38.9699 -7.4273, -38.969 -7.4248, -...</td>\n",
       "      <td>Abaiara</td>\n",
       "      <td>5</td>\n",
       "      <td>...</td>\n",
       "      <td>0</td>\n",
       "      <td>10033</td>\n",
       "      <td>0</td>\n",
       "      <td>0</td>\n",
       "      <td>0</td>\n",
       "      <td>0</td>\n",
       "      <td>ABAIARA</td>\n",
       "      <td>0.05</td>\n",
       "      <td>0.00</td>\n",
       "      <td>100.00</td>\n",
       "    </tr>\n",
       "    <tr>\n",
       "      <th>1</th>\n",
       "      <td>2300150</td>\n",
       "      <td>ACARAPE</td>\n",
       "      <td>23</td>\n",
       "      <td>Ceará</td>\n",
       "      <td>CE</td>\n",
       "      <td>Acarape</td>\n",
       "      <td>ce</td>\n",
       "      <td>POLYGON ((-38.6188 -4.1635, -38.6199 -4.1638, ...</td>\n",
       "      <td>Acarape</td>\n",
       "      <td>7</td>\n",
       "      <td>...</td>\n",
       "      <td>0</td>\n",
       "      <td>14020</td>\n",
       "      <td>0</td>\n",
       "      <td>0</td>\n",
       "      <td>0</td>\n",
       "      <td>0</td>\n",
       "      <td>ACARAPE</td>\n",
       "      <td>0.05</td>\n",
       "      <td>0.00</td>\n",
       "      <td>100.00</td>\n",
       "    </tr>\n",
       "    <tr>\n",
       "      <th>2</th>\n",
       "      <td>2300200</td>\n",
       "      <td>ACARAÚ</td>\n",
       "      <td>23</td>\n",
       "      <td>Ceará</td>\n",
       "      <td>CE</td>\n",
       "      <td>Acaraú</td>\n",
       "      <td>ce</td>\n",
       "      <td>POLYGON ((-39.9424 -2.8664, -39.9444 -2.8646, ...</td>\n",
       "      <td>Acaraú</td>\n",
       "      <td>657</td>\n",
       "      <td>...</td>\n",
       "      <td>157</td>\n",
       "      <td>64149</td>\n",
       "      <td>422</td>\n",
       "      <td>373</td>\n",
       "      <td>28</td>\n",
       "      <td>21</td>\n",
       "      <td>ACARAÚ</td>\n",
       "      <td>1.01</td>\n",
       "      <td>61.04</td>\n",
       "      <td>38.96</td>\n",
       "    </tr>\n",
       "    <tr>\n",
       "      <th>3</th>\n",
       "      <td>2300309</td>\n",
       "      <td>ACOPIARA</td>\n",
       "      <td>23</td>\n",
       "      <td>Ceará</td>\n",
       "      <td>CE</td>\n",
       "      <td>Acopiara</td>\n",
       "      <td>ce</td>\n",
       "      <td>POLYGON ((-39.0507 -6.0254, -39.053 -6.0181, -...</td>\n",
       "      <td>Acopiara</td>\n",
       "      <td>24</td>\n",
       "      <td>...</td>\n",
       "      <td>0</td>\n",
       "      <td>44938</td>\n",
       "      <td>0</td>\n",
       "      <td>0</td>\n",
       "      <td>0</td>\n",
       "      <td>0</td>\n",
       "      <td>ACOPIARA</td>\n",
       "      <td>0.05</td>\n",
       "      <td>0.00</td>\n",
       "      <td>100.00</td>\n",
       "    </tr>\n",
       "    <tr>\n",
       "      <th>4</th>\n",
       "      <td>2300408</td>\n",
       "      <td>AIUABA</td>\n",
       "      <td>23</td>\n",
       "      <td>Ceará</td>\n",
       "      <td>CE</td>\n",
       "      <td>Aiuaba</td>\n",
       "      <td>ce</td>\n",
       "      <td>POLYGON ((-40.0841 -6.3674, -40.0848 -6.3665, ...</td>\n",
       "      <td>Aiuaba</td>\n",
       "      <td>4</td>\n",
       "      <td>...</td>\n",
       "      <td>0</td>\n",
       "      <td>14072</td>\n",
       "      <td>0</td>\n",
       "      <td>0</td>\n",
       "      <td>0</td>\n",
       "      <td>0</td>\n",
       "      <td>AIUABA</td>\n",
       "      <td>0.03</td>\n",
       "      <td>0.00</td>\n",
       "      <td>100.00</td>\n",
       "    </tr>\n",
       "  </tbody>\n",
       "</table>\n",
       "<p>5 rows × 29 columns</p>\n",
       "</div>"
      ],
      "text/plain": [
       "   cod_ibge7 municipio  cod_uf Nome_UF  UF Nome_Município uf_min  \\\n",
       "0    2300101   ABAIARA      23   Ceará  CE        Abaiara     ce   \n",
       "1    2300150   ACARAPE      23   Ceará  CE        Acarape     ce   \n",
       "2    2300200    ACARAÚ      23   Ceará  CE         Acaraú     ce   \n",
       "3    2300309  ACOPIARA      23   Ceará  CE       Acopiara     ce   \n",
       "4    2300408    AIUABA      23   Ceará  CE         Aiuaba     ce   \n",
       "\n",
       "                                            geometry    cidade  Total_total  \\\n",
       "0  POLYGON ((-38.9699 -7.4273, -38.969 -7.4248, -...   Abaiara            5   \n",
       "1  POLYGON ((-38.6188 -4.1635, -38.6199 -4.1638, ...   Acarape            7   \n",
       "2  POLYGON ((-39.9424 -2.8664, -39.9444 -2.8646, ...    Acaraú          657   \n",
       "3  POLYGON ((-39.0507 -6.0254, -39.053 -6.0181, -...  Acopiara           24   \n",
       "4  POLYGON ((-40.0841 -6.3674, -40.0848 -6.3665, ...    Aiuaba            4   \n",
       "\n",
       "   ...  Pop_se_considera  Pop_nao_se_declara  Pop_em_TI_total  \\\n",
       "0  ...                 0               10033                0   \n",
       "1  ...                 0               14020                0   \n",
       "2  ...               157               64149              422   \n",
       "3  ...                 0               44938                0   \n",
       "4  ...                 0               14072                0   \n",
       "\n",
       "   Pop_em_TI_cor_ou_raca  Pop_em_TI_se_considera  Pop_em_TI_nao_se_declara  \\\n",
       "0                      0                       0                         0   \n",
       "1                      0                       0                         0   \n",
       "2                    373                      28                        21   \n",
       "3                      0                       0                         0   \n",
       "4                      0                       0                         0   \n",
       "\n",
       "     CIDADE  pct_IDG-Total  pct_emTI  pct_foraTI  \n",
       "0   ABAIARA           0.05      0.00      100.00  \n",
       "1   ACARAPE           0.05      0.00      100.00  \n",
       "2    ACARAÚ           1.01     61.04       38.96  \n",
       "3  ACOPIARA           0.05      0.00      100.00  \n",
       "4    AIUABA           0.03      0.00      100.00  \n",
       "\n",
       "[5 rows x 29 columns]"
      ]
     },
     "execution_count": 22,
     "metadata": {},
     "output_type": "execute_result"
    }
   ],
   "source": [
    "dataset_pop_idg.head()"
   ]
  },
  {
   "cell_type": "code",
   "execution_count": 23,
   "metadata": {
    "executionInfo": {
     "elapsed": 111,
     "status": "ok",
     "timestamp": 1691601355048,
     "user": {
      "displayName": "ALEXANDRE RIBEIRO CAJAZEIRA RAMOS",
      "userId": "15502956855817658112"
     },
     "user_tz": 180
    },
    "id": "XDyYIYKHDIFg"
   },
   "outputs": [],
   "source": [
    "# Região Metropolitana do Cariri:"
   ]
  },
  {
   "cell_type": "code",
   "execution_count": 24,
   "metadata": {
    "executionInfo": {
     "elapsed": 111,
     "status": "ok",
     "timestamp": 1691601355048,
     "user": {
      "displayName": "ALEXANDRE RIBEIRO CAJAZEIRA RAMOS",
      "userId": "15502956855817658112"
     },
     "user_tz": 180
    },
    "id": "Fu_mJe29hVlq"
   },
   "outputs": [],
   "source": [
    "crajubar = dataset_pop_idg.loc[dataset_pop_idg.Nome_Município.isin(['Barbalha','Caririaçu','Crato','Farias Brito','Jardim','Juazeiro do Norte','Missão Velha','Nova Olinda','Santana do Cariri'])]"
   ]
  },
  {
   "cell_type": "code",
   "execution_count": 25,
   "metadata": {
    "colab": {
     "base_uri": "https://localhost:8080/",
     "height": 500
    },
    "executionInfo": {
     "elapsed": 111,
     "status": "ok",
     "timestamp": 1691601355049,
     "user": {
      "displayName": "ALEXANDRE RIBEIRO CAJAZEIRA RAMOS",
      "userId": "15502956855817658112"
     },
     "user_tz": 180
    },
    "id": "ksZQeo5hiKek",
    "outputId": "d1066486-0422-41f2-ab88-33e4ab6b7f0c"
   },
   "outputs": [
    {
     "data": {
      "text/html": [
       "<div>\n",
       "<style scoped>\n",
       "    .dataframe tbody tr th:only-of-type {\n",
       "        vertical-align: middle;\n",
       "    }\n",
       "\n",
       "    .dataframe tbody tr th {\n",
       "        vertical-align: top;\n",
       "    }\n",
       "\n",
       "    .dataframe thead th {\n",
       "        text-align: right;\n",
       "    }\n",
       "</style>\n",
       "<table border=\"1\" class=\"dataframe\">\n",
       "  <thead>\n",
       "    <tr style=\"text-align: right;\">\n",
       "      <th></th>\n",
       "      <th>cidade</th>\n",
       "      <th>pct_IDG-Total</th>\n",
       "      <th>Total_total</th>\n",
       "      <th>Total_cor_ou_raca</th>\n",
       "      <th>Total_se_considera</th>\n",
       "      <th>Total_nao_se_declara</th>\n",
       "      <th>EmTI_total</th>\n",
       "      <th>pct_emTI</th>\n",
       "      <th>pct_foraTI</th>\n",
       "      <th>EmTI_cor_ou_raca</th>\n",
       "      <th>EmTI_se_considera</th>\n",
       "      <th>EmTI_nao_se_declara</th>\n",
       "      <th>Pop_total</th>\n",
       "      <th>Pop_cor_ou_raca</th>\n",
       "      <th>Pop_se_considera</th>\n",
       "      <th>Pop_nao_se_declara</th>\n",
       "      <th>Pop_em_TI_total</th>\n",
       "      <th>Pop_em_TI_cor_ou_raca</th>\n",
       "      <th>Pop_em_TI_se_considera</th>\n",
       "      <th>Pop_em_TI_nao_se_declara</th>\n",
       "    </tr>\n",
       "  </thead>\n",
       "  <tbody>\n",
       "    <tr>\n",
       "      <th>22</th>\n",
       "      <td>Barbalha</td>\n",
       "      <td>0.10</td>\n",
       "      <td>74</td>\n",
       "      <td>74</td>\n",
       "      <td>0</td>\n",
       "      <td>0</td>\n",
       "      <td>0</td>\n",
       "      <td>0.0</td>\n",
       "      <td>100.0</td>\n",
       "      <td>0</td>\n",
       "      <td>0</td>\n",
       "      <td>0</td>\n",
       "      <td>75033</td>\n",
       "      <td>74</td>\n",
       "      <td>0</td>\n",
       "      <td>74959</td>\n",
       "      <td>0</td>\n",
       "      <td>0</td>\n",
       "      <td>0</td>\n",
       "      <td>0</td>\n",
       "    </tr>\n",
       "    <tr>\n",
       "      <th>36</th>\n",
       "      <td>Caririaçu</td>\n",
       "      <td>0.08</td>\n",
       "      <td>21</td>\n",
       "      <td>17</td>\n",
       "      <td>4</td>\n",
       "      <td>0</td>\n",
       "      <td>0</td>\n",
       "      <td>0.0</td>\n",
       "      <td>100.0</td>\n",
       "      <td>0</td>\n",
       "      <td>0</td>\n",
       "      <td>0</td>\n",
       "      <td>26320</td>\n",
       "      <td>17</td>\n",
       "      <td>4</td>\n",
       "      <td>26299</td>\n",
       "      <td>0</td>\n",
       "      <td>0</td>\n",
       "      <td>0</td>\n",
       "      <td>0</td>\n",
       "    </tr>\n",
       "    <tr>\n",
       "      <th>50</th>\n",
       "      <td>Crato</td>\n",
       "      <td>0.27</td>\n",
       "      <td>353</td>\n",
       "      <td>353</td>\n",
       "      <td>0</td>\n",
       "      <td>0</td>\n",
       "      <td>0</td>\n",
       "      <td>0.0</td>\n",
       "      <td>100.0</td>\n",
       "      <td>0</td>\n",
       "      <td>0</td>\n",
       "      <td>0</td>\n",
       "      <td>131050</td>\n",
       "      <td>353</td>\n",
       "      <td>0</td>\n",
       "      <td>130697</td>\n",
       "      <td>0</td>\n",
       "      <td>0</td>\n",
       "      <td>0</td>\n",
       "      <td>0</td>\n",
       "    </tr>\n",
       "    <tr>\n",
       "      <th>56</th>\n",
       "      <td>Farias Brito</td>\n",
       "      <td>0.04</td>\n",
       "      <td>8</td>\n",
       "      <td>8</td>\n",
       "      <td>0</td>\n",
       "      <td>0</td>\n",
       "      <td>0</td>\n",
       "      <td>0.0</td>\n",
       "      <td>100.0</td>\n",
       "      <td>0</td>\n",
       "      <td>0</td>\n",
       "      <td>0</td>\n",
       "      <td>18217</td>\n",
       "      <td>8</td>\n",
       "      <td>0</td>\n",
       "      <td>18209</td>\n",
       "      <td>0</td>\n",
       "      <td>0</td>\n",
       "      <td>0</td>\n",
       "      <td>0</td>\n",
       "    </tr>\n",
       "    <tr>\n",
       "      <th>95</th>\n",
       "      <td>Jardim</td>\n",
       "      <td>0.44</td>\n",
       "      <td>121</td>\n",
       "      <td>31</td>\n",
       "      <td>90</td>\n",
       "      <td>0</td>\n",
       "      <td>0</td>\n",
       "      <td>0.0</td>\n",
       "      <td>100.0</td>\n",
       "      <td>0</td>\n",
       "      <td>0</td>\n",
       "      <td>0</td>\n",
       "      <td>27411</td>\n",
       "      <td>31</td>\n",
       "      <td>90</td>\n",
       "      <td>27290</td>\n",
       "      <td>0</td>\n",
       "      <td>0</td>\n",
       "      <td>0</td>\n",
       "      <td>0</td>\n",
       "    </tr>\n",
       "    <tr>\n",
       "      <th>98</th>\n",
       "      <td>Juazeiro do Norte</td>\n",
       "      <td>0.12</td>\n",
       "      <td>351</td>\n",
       "      <td>248</td>\n",
       "      <td>103</td>\n",
       "      <td>0</td>\n",
       "      <td>0</td>\n",
       "      <td>0.0</td>\n",
       "      <td>100.0</td>\n",
       "      <td>0</td>\n",
       "      <td>0</td>\n",
       "      <td>0</td>\n",
       "      <td>286120</td>\n",
       "      <td>248</td>\n",
       "      <td>103</td>\n",
       "      <td>285769</td>\n",
       "      <td>0</td>\n",
       "      <td>0</td>\n",
       "      <td>0</td>\n",
       "      <td>0</td>\n",
       "    </tr>\n",
       "    <tr>\n",
       "      <th>113</th>\n",
       "      <td>Missão Velha</td>\n",
       "      <td>0.15</td>\n",
       "      <td>55</td>\n",
       "      <td>44</td>\n",
       "      <td>11</td>\n",
       "      <td>0</td>\n",
       "      <td>0</td>\n",
       "      <td>0.0</td>\n",
       "      <td>100.0</td>\n",
       "      <td>0</td>\n",
       "      <td>0</td>\n",
       "      <td>0</td>\n",
       "      <td>36822</td>\n",
       "      <td>44</td>\n",
       "      <td>11</td>\n",
       "      <td>36767</td>\n",
       "      <td>0</td>\n",
       "      <td>0</td>\n",
       "      <td>0</td>\n",
       "      <td>0</td>\n",
       "    </tr>\n",
       "    <tr>\n",
       "      <th>121</th>\n",
       "      <td>Nova Olinda</td>\n",
       "      <td>0.03</td>\n",
       "      <td>5</td>\n",
       "      <td>5</td>\n",
       "      <td>0</td>\n",
       "      <td>0</td>\n",
       "      <td>0</td>\n",
       "      <td>0.0</td>\n",
       "      <td>100.0</td>\n",
       "      <td>0</td>\n",
       "      <td>0</td>\n",
       "      <td>0</td>\n",
       "      <td>15399</td>\n",
       "      <td>5</td>\n",
       "      <td>0</td>\n",
       "      <td>15394</td>\n",
       "      <td>0</td>\n",
       "      <td>0</td>\n",
       "      <td>0</td>\n",
       "      <td>0</td>\n",
       "    </tr>\n",
       "    <tr>\n",
       "      <th>159</th>\n",
       "      <td>Santana do Cariri</td>\n",
       "      <td>0.03</td>\n",
       "      <td>5</td>\n",
       "      <td>5</td>\n",
       "      <td>0</td>\n",
       "      <td>0</td>\n",
       "      <td>0</td>\n",
       "      <td>0.0</td>\n",
       "      <td>100.0</td>\n",
       "      <td>0</td>\n",
       "      <td>0</td>\n",
       "      <td>0</td>\n",
       "      <td>16954</td>\n",
       "      <td>5</td>\n",
       "      <td>0</td>\n",
       "      <td>16949</td>\n",
       "      <td>0</td>\n",
       "      <td>0</td>\n",
       "      <td>0</td>\n",
       "      <td>0</td>\n",
       "    </tr>\n",
       "  </tbody>\n",
       "</table>\n",
       "</div>"
      ],
      "text/plain": [
       "                cidade  pct_IDG-Total  Total_total  Total_cor_ou_raca  \\\n",
       "22            Barbalha           0.10           74                 74   \n",
       "36           Caririaçu           0.08           21                 17   \n",
       "50               Crato           0.27          353                353   \n",
       "56        Farias Brito           0.04            8                  8   \n",
       "95              Jardim           0.44          121                 31   \n",
       "98   Juazeiro do Norte           0.12          351                248   \n",
       "113       Missão Velha           0.15           55                 44   \n",
       "121        Nova Olinda           0.03            5                  5   \n",
       "159  Santana do Cariri           0.03            5                  5   \n",
       "\n",
       "     Total_se_considera  Total_nao_se_declara  EmTI_total  pct_emTI  \\\n",
       "22                    0                     0           0       0.0   \n",
       "36                    4                     0           0       0.0   \n",
       "50                    0                     0           0       0.0   \n",
       "56                    0                     0           0       0.0   \n",
       "95                   90                     0           0       0.0   \n",
       "98                  103                     0           0       0.0   \n",
       "113                  11                     0           0       0.0   \n",
       "121                   0                     0           0       0.0   \n",
       "159                   0                     0           0       0.0   \n",
       "\n",
       "     pct_foraTI  EmTI_cor_ou_raca  EmTI_se_considera  EmTI_nao_se_declara  \\\n",
       "22        100.0                 0                  0                    0   \n",
       "36        100.0                 0                  0                    0   \n",
       "50        100.0                 0                  0                    0   \n",
       "56        100.0                 0                  0                    0   \n",
       "95        100.0                 0                  0                    0   \n",
       "98        100.0                 0                  0                    0   \n",
       "113       100.0                 0                  0                    0   \n",
       "121       100.0                 0                  0                    0   \n",
       "159       100.0                 0                  0                    0   \n",
       "\n",
       "     Pop_total  Pop_cor_ou_raca  Pop_se_considera  Pop_nao_se_declara  \\\n",
       "22       75033               74                 0               74959   \n",
       "36       26320               17                 4               26299   \n",
       "50      131050              353                 0              130697   \n",
       "56       18217                8                 0               18209   \n",
       "95       27411               31                90               27290   \n",
       "98      286120              248               103              285769   \n",
       "113      36822               44                11               36767   \n",
       "121      15399                5                 0               15394   \n",
       "159      16954                5                 0               16949   \n",
       "\n",
       "     Pop_em_TI_total  Pop_em_TI_cor_ou_raca  Pop_em_TI_se_considera  \\\n",
       "22                 0                      0                       0   \n",
       "36                 0                      0                       0   \n",
       "50                 0                      0                       0   \n",
       "56                 0                      0                       0   \n",
       "95                 0                      0                       0   \n",
       "98                 0                      0                       0   \n",
       "113                0                      0                       0   \n",
       "121                0                      0                       0   \n",
       "159                0                      0                       0   \n",
       "\n",
       "     Pop_em_TI_nao_se_declara  \n",
       "22                          0  \n",
       "36                          0  \n",
       "50                          0  \n",
       "56                          0  \n",
       "95                          0  \n",
       "98                          0  \n",
       "113                         0  \n",
       "121                         0  \n",
       "159                         0  "
      ]
     },
     "execution_count": 25,
     "metadata": {},
     "output_type": "execute_result"
    }
   ],
   "source": [
    "crajubar[['cidade', 'pct_IDG-Total','Total_total', 'Total_cor_ou_raca',\n",
    "       'Total_se_considera', 'Total_nao_se_declara', 'EmTI_total','pct_emTI','pct_foraTI',\n",
    "       'EmTI_cor_ou_raca', 'EmTI_se_considera', 'EmTI_nao_se_declara',\n",
    "       'Pop_total', 'Pop_cor_ou_raca', 'Pop_se_considera',\n",
    "       'Pop_nao_se_declara', 'Pop_em_TI_total', 'Pop_em_TI_cor_ou_raca',\n",
    "       'Pop_em_TI_se_considera', 'Pop_em_TI_nao_se_declara']]"
   ]
  },
  {
   "cell_type": "code",
   "execution_count": 26,
   "metadata": {
    "colab": {
     "base_uri": "https://localhost:8080/"
    },
    "executionInfo": {
     "elapsed": 108,
     "status": "ok",
     "timestamp": 1691601355050,
     "user": {
      "displayName": "ALEXANDRE RIBEIRO CAJAZEIRA RAMOS",
      "userId": "15502956855817658112"
     },
     "user_tz": 180
    },
    "id": "W3Xj-CVqhRbR",
    "outputId": "ee108d67-d5e2-4db7-c789-c382b7a0e1f1"
   },
   "outputs": [
    {
     "data": {
      "text/plain": [
       "cidade                      BarbalhaCaririaçuCratoFarias BritoJardimJuazei...\n",
       "Total_total                                                               993\n",
       "Total_cor_ou_raca                                                         785\n",
       "Total_se_considera                                                        208\n",
       "Total_nao_se_declara                                                        0\n",
       "EmTI_total                                                                  0\n",
       "pct_emTI                                                                  0.0\n",
       "pct_foraTI                                                              900.0\n",
       "EmTI_cor_ou_raca                                                            0\n",
       "EmTI_se_considera                                                           0\n",
       "EmTI_nao_se_declara                                                         0\n",
       "Pop_total                                                              633326\n",
       "Pop_cor_ou_raca                                                           785\n",
       "Pop_se_considera                                                          208\n",
       "Pop_nao_se_declara                                                     632333\n",
       "Pop_em_TI_total                                                             0\n",
       "Pop_em_TI_cor_ou_raca                                                       0\n",
       "Pop_em_TI_se_considera                                                      0\n",
       "Pop_em_TI_nao_se_declara                                                    0\n",
       "dtype: object"
      ]
     },
     "execution_count": 26,
     "metadata": {},
     "output_type": "execute_result"
    }
   ],
   "source": [
    "crajubar[['cidade', 'Total_total', 'Total_cor_ou_raca',\n",
    "       'Total_se_considera', 'Total_nao_se_declara', 'EmTI_total','pct_emTI','pct_foraTI',\n",
    "       'EmTI_cor_ou_raca', 'EmTI_se_considera', 'EmTI_nao_se_declara',\n",
    "       'Pop_total', 'Pop_cor_ou_raca', 'Pop_se_considera',\n",
    "       'Pop_nao_se_declara', 'Pop_em_TI_total', 'Pop_em_TI_cor_ou_raca',\n",
    "       'Pop_em_TI_se_considera', 'Pop_em_TI_nao_se_declara']].sum()"
   ]
  },
  {
   "cell_type": "code",
   "execution_count": 27,
   "metadata": {
    "executionInfo": {
     "elapsed": 111,
     "status": "ok",
     "timestamp": 1691601355060,
     "user": {
      "displayName": "ALEXANDRE RIBEIRO CAJAZEIRA RAMOS",
      "userId": "15502956855817658112"
     },
     "user_tz": 180
    },
    "id": "SU1JsAbZO7uG"
   },
   "outputs": [],
   "source": [
    "# População por TI"
   ]
  },
  {
   "cell_type": "code",
   "execution_count": 28,
   "metadata": {
    "executionInfo": {
     "elapsed": 110,
     "status": "ok",
     "timestamp": 1691601355060,
     "user": {
      "displayName": "ALEXANDRE RIBEIRO CAJAZEIRA RAMOS",
      "userId": "15502956855817658112"
     },
     "user_tz": 180
    },
    "id": "jyENy8yPO-1L"
   },
   "outputs": [],
   "source": [
    "path_pop_ti = 'bases_de_dados/pop_ti_2010_2022.csv'"
   ]
  },
  {
   "cell_type": "code",
   "execution_count": 29,
   "metadata": {
    "executionInfo": {
     "elapsed": 111,
     "status": "ok",
     "timestamp": 1691601355061,
     "user": {
      "displayName": "ALEXANDRE RIBEIRO CAJAZEIRA RAMOS",
      "userId": "15502956855817658112"
     },
     "user_tz": 180
    },
    "id": "tZ-P7--dPGCi"
   },
   "outputs": [],
   "source": [
    "pop_idg = pd.read_csv(path_pop_ti)"
   ]
  },
  {
   "cell_type": "code",
   "execution_count": 30,
   "metadata": {
    "colab": {
     "base_uri": "https://localhost:8080/"
    },
    "executionInfo": {
     "elapsed": 1046,
     "status": "ok",
     "timestamp": 1691601355997,
     "user": {
      "displayName": "ALEXANDRE RIBEIRO CAJAZEIRA RAMOS",
      "userId": "15502956855817658112"
     },
     "user_tz": 180
    },
    "id": "SvEb9skOPH_T",
    "outputId": "d50568d5-c620-46bb-bad3-009ad9bbb3a9"
   },
   "outputs": [
    {
     "name": "stdout",
     "output_type": "stream",
     "text": [
      "<class 'pandas.core.frame.DataFrame'>\n",
      "RangeIndex: 573 entries, 0 to 572\n",
      "Data columns (total 6 columns):\n",
      " #   Column        Non-Null Count  Dtype  \n",
      "---  ------        --------------  -----  \n",
      " 0   cod_ti        573 non-null    int64  \n",
      " 1   nome_ti       573 non-null    object \n",
      " 2   pop_res_2010  501 non-null    float64\n",
      " 3   pop_idg_2010  478 non-null    float64\n",
      " 4   pop_res_2022  560 non-null    float64\n",
      " 5   pop_idg_2022  533 non-null    float64\n",
      "dtypes: float64(4), int64(1), object(1)\n",
      "memory usage: 27.0+ KB\n"
     ]
    }
   ],
   "source": [
    "pop_idg.info()"
   ]
  },
  {
   "cell_type": "code",
   "execution_count": 31,
   "metadata": {
    "colab": {
     "base_uri": "https://localhost:8080/"
    },
    "executionInfo": {
     "elapsed": 17,
     "status": "ok",
     "timestamp": 1691601355998,
     "user": {
      "displayName": "ALEXANDRE RIBEIRO CAJAZEIRA RAMOS",
      "userId": "15502956855817658112"
     },
     "user_tz": 180
    },
    "id": "RSTnYcfDW8Q9",
    "outputId": "6dc48d4a-9afa-46f2-cd8d-f5cdec919085"
   },
   "outputs": [
    {
     "data": {
      "text/plain": [
       "cod_ti                                                   14809117\n",
       "nome_ti         Acapuri de CimaAcimãAconãÁgua Preta/InariÁguas...\n",
       "pop_res_2010                                             561402.0\n",
       "pop_idg_2010                                             511050.0\n",
       "pop_res_2022                                             689202.0\n",
       "pop_idg_2022                                             620855.0\n",
       "dtype: object"
      ]
     },
     "execution_count": 31,
     "metadata": {},
     "output_type": "execute_result"
    }
   ],
   "source": [
    "pop_idg.sum()"
   ]
  },
  {
   "cell_type": "code",
   "execution_count": null,
   "metadata": {
    "executionInfo": {
     "elapsed": 6,
     "status": "ok",
     "timestamp": 1691601355999,
     "user": {
      "displayName": "ALEXANDRE RIBEIRO CAJAZEIRA RAMOS",
      "userId": "15502956855817658112"
     },
     "user_tz": 180
    },
    "id": "UvoEBm8hbjvO"
   },
   "outputs": [],
   "source": []
  },
  {
   "cell_type": "code",
   "execution_count": 32,
   "metadata": {
    "executionInfo": {
     "elapsed": 19337,
     "status": "ok",
     "timestamp": 1691601375331,
     "user": {
      "displayName": "ALEXANDRE RIBEIRO CAJAZEIRA RAMOS",
      "userId": "15502956855817658112"
     },
     "user_tz": 180
    },
    "id": "QzP65p-TV73j"
   },
   "outputs": [
    {
     "name": "stderr",
     "output_type": "stream",
     "text": [
      "/home/alexandre/anaconda3/envs/credos/lib/python3.7/site-packages/geopandas/array.py:93: ShapelyDeprecationWarning: __len__ for multi-part geometries is deprecated and will be removed in Shapely 2.0. Check the length of the `geoms` property instead to get the  number of parts of a multi-part geometry.\n",
      "  aout[:] = out\n"
     ]
    }
   ],
   "source": [
    "gdf_ti = gpd.read_file('bases_de_dados/br_ti.geojson')"
   ]
  },
  {
   "cell_type": "code",
   "execution_count": 33,
   "metadata": {
    "executionInfo": {
     "elapsed": 94,
     "status": "ok",
     "timestamp": 1691601375358,
     "user": {
      "displayName": "ALEXANDRE RIBEIRO CAJAZEIRA RAMOS",
      "userId": "15502956855817658112"
     },
     "user_tz": 180
    },
    "id": "GGLP3OfrWfg0"
   },
   "outputs": [],
   "source": [
    "gdf_ti['cod_ti'] = gdf_ti.COD_TI.astype(int)"
   ]
  },
  {
   "cell_type": "code",
   "execution_count": 34,
   "metadata": {
    "colab": {
     "base_uri": "https://localhost:8080/",
     "height": 337
    },
    "executionInfo": {
     "elapsed": 93,
     "status": "ok",
     "timestamp": 1691601375358,
     "user": {
      "displayName": "ALEXANDRE RIBEIRO CAJAZEIRA RAMOS",
      "userId": "15502956855817658112"
     },
     "user_tz": 180
    },
    "id": "aFyBSsbTWm_8",
    "outputId": "68963ba0-ec16-44f2-c436-9c4dc2379efa"
   },
   "outputs": [
    {
     "data": {
      "text/html": [
       "<div>\n",
       "<style scoped>\n",
       "    .dataframe tbody tr th:only-of-type {\n",
       "        vertical-align: middle;\n",
       "    }\n",
       "\n",
       "    .dataframe tbody tr th {\n",
       "        vertical-align: top;\n",
       "    }\n",
       "\n",
       "    .dataframe thead th {\n",
       "        text-align: right;\n",
       "    }\n",
       "</style>\n",
       "<table border=\"1\" class=\"dataframe\">\n",
       "  <thead>\n",
       "    <tr style=\"text-align: right;\">\n",
       "      <th></th>\n",
       "      <th>COD_TI</th>\n",
       "      <th>NOM_TI</th>\n",
       "      <th>COD_FUNAI</th>\n",
       "      <th>NOM_FUNAI</th>\n",
       "      <th>FASE</th>\n",
       "      <th>geometry</th>\n",
       "      <th>cod_ti</th>\n",
       "      <th>nome_ti</th>\n",
       "      <th>pop_res_2010</th>\n",
       "      <th>pop_idg_2010</th>\n",
       "      <th>pop_res_2022</th>\n",
       "      <th>pop_idg_2022</th>\n",
       "    </tr>\n",
       "  </thead>\n",
       "  <tbody>\n",
       "    <tr>\n",
       "      <th>0</th>\n",
       "      <td>10430</td>\n",
       "      <td>Ribeirão Silveira</td>\n",
       "      <td>38102</td>\n",
       "      <td>Ribeirão Silveira</td>\n",
       "      <td>Declarada</td>\n",
       "      <td>MULTIPOLYGON (((-45.81322 -23.74269, -45.81314...</td>\n",
       "      <td>10430</td>\n",
       "      <td>Ribeirão Silveira</td>\n",
       "      <td>2892.0</td>\n",
       "      <td>332.0</td>\n",
       "      <td>296.0</td>\n",
       "      <td>152.0</td>\n",
       "    </tr>\n",
       "    <tr>\n",
       "      <th>1</th>\n",
       "      <td>10448</td>\n",
       "      <td>Boa Vista Sertão do Promirim</td>\n",
       "      <td>6301</td>\n",
       "      <td>Boa Vista Sertão do Promirim</td>\n",
       "      <td>Regularizada</td>\n",
       "      <td>MULTIPOLYGON (((-45.00638 -23.33642, -45.00589...</td>\n",
       "      <td>10448</td>\n",
       "      <td>Boa Vista Sertão do Promirim</td>\n",
       "      <td>156.0</td>\n",
       "      <td>156.0</td>\n",
       "      <td>195.0</td>\n",
       "      <td>193.0</td>\n",
       "    </tr>\n",
       "    <tr>\n",
       "      <th>2</th>\n",
       "      <td>10472</td>\n",
       "      <td>Rio Branco Itanhaém</td>\n",
       "      <td>38701</td>\n",
       "      <td>Rio Branco Itanhaém</td>\n",
       "      <td>Regularizada</td>\n",
       "      <td>MULTIPOLYGON (((-46.62015 -24.00783, -46.62036...</td>\n",
       "      <td>10472</td>\n",
       "      <td>Rio Branco Itanhaém</td>\n",
       "      <td>80.0</td>\n",
       "      <td>80.0</td>\n",
       "      <td>30.0</td>\n",
       "      <td>30.0</td>\n",
       "    </tr>\n",
       "    <tr>\n",
       "      <th>3</th>\n",
       "      <td>10480</td>\n",
       "      <td>Jaraguá</td>\n",
       "      <td>18801</td>\n",
       "      <td>Jaraguá</td>\n",
       "      <td>Regularizada</td>\n",
       "      <td>MULTIPOLYGON (((-46.75465 -23.46538, -46.75469...</td>\n",
       "      <td>10480</td>\n",
       "      <td>Jaraguá</td>\n",
       "      <td>98.0</td>\n",
       "      <td>98.0</td>\n",
       "      <td>92.0</td>\n",
       "      <td>78.0</td>\n",
       "    </tr>\n",
       "    <tr>\n",
       "      <th>4</th>\n",
       "      <td>10510</td>\n",
       "      <td>Krukutu</td>\n",
       "      <td>23601</td>\n",
       "      <td>Krukutu</td>\n",
       "      <td>Regularizada</td>\n",
       "      <td>MULTIPOLYGON (((-46.61775 -23.86435, -46.61778...</td>\n",
       "      <td>10510</td>\n",
       "      <td>Krukutu</td>\n",
       "      <td>254.0</td>\n",
       "      <td>254.0</td>\n",
       "      <td>155.0</td>\n",
       "      <td>155.0</td>\n",
       "    </tr>\n",
       "  </tbody>\n",
       "</table>\n",
       "</div>"
      ],
      "text/plain": [
       "  COD_TI                        NOM_TI COD_FUNAI  \\\n",
       "0  10430             Ribeirão Silveira     38102   \n",
       "1  10448  Boa Vista Sertão do Promirim      6301   \n",
       "2  10472           Rio Branco Itanhaém     38701   \n",
       "3  10480                       Jaraguá     18801   \n",
       "4  10510                       Krukutu     23601   \n",
       "\n",
       "                      NOM_FUNAI          FASE  \\\n",
       "0             Ribeirão Silveira     Declarada   \n",
       "1  Boa Vista Sertão do Promirim  Regularizada   \n",
       "2           Rio Branco Itanhaém  Regularizada   \n",
       "3                       Jaraguá  Regularizada   \n",
       "4                       Krukutu  Regularizada   \n",
       "\n",
       "                                            geometry  cod_ti  \\\n",
       "0  MULTIPOLYGON (((-45.81322 -23.74269, -45.81314...   10430   \n",
       "1  MULTIPOLYGON (((-45.00638 -23.33642, -45.00589...   10448   \n",
       "2  MULTIPOLYGON (((-46.62015 -24.00783, -46.62036...   10472   \n",
       "3  MULTIPOLYGON (((-46.75465 -23.46538, -46.75469...   10480   \n",
       "4  MULTIPOLYGON (((-46.61775 -23.86435, -46.61778...   10510   \n",
       "\n",
       "                        nome_ti  pop_res_2010  pop_idg_2010  pop_res_2022  \\\n",
       "0             Ribeirão Silveira        2892.0         332.0         296.0   \n",
       "1  Boa Vista Sertão do Promirim         156.0         156.0         195.0   \n",
       "2           Rio Branco Itanhaém          80.0          80.0          30.0   \n",
       "3                       Jaraguá          98.0          98.0          92.0   \n",
       "4                       Krukutu         254.0         254.0         155.0   \n",
       "\n",
       "   pop_idg_2022  \n",
       "0         152.0  \n",
       "1         193.0  \n",
       "2          30.0  \n",
       "3          78.0  \n",
       "4         155.0  "
      ]
     },
     "execution_count": 34,
     "metadata": {},
     "output_type": "execute_result"
    }
   ],
   "source": [
    "pop_idg_ti = gdf_ti.merge(pop_idg, on='cod_ti')\n",
    "pop_idg_ti.head()"
   ]
  },
  {
   "cell_type": "code",
   "execution_count": 35,
   "metadata": {
    "executionInfo": {
     "elapsed": 92,
     "status": "ok",
     "timestamp": 1691601375359,
     "user": {
      "displayName": "ALEXANDRE RIBEIRO CAJAZEIRA RAMOS",
      "userId": "15502956855817658112"
     },
     "user_tz": 180
    },
    "id": "FKxWCxITW2AT"
   },
   "outputs": [],
   "source": [
    "pop_idg_ti = pop_idg_ti[['cod_ti', 'nome_ti', 'FASE', 'pop_res_2010', 'pop_idg_2010', 'pop_res_2022',\n",
    "       'pop_idg_2022', 'geometry', 'COD_FUNAI', 'NOM_FUNAI']]"
   ]
  },
  {
   "cell_type": "code",
   "execution_count": 36,
   "metadata": {
    "executionInfo": {
     "elapsed": 92,
     "status": "ok",
     "timestamp": 1691601375360,
     "user": {
      "displayName": "ALEXANDRE RIBEIRO CAJAZEIRA RAMOS",
      "userId": "15502956855817658112"
     },
     "user_tz": 180
    },
    "id": "aJt6C4dwZfi4"
   },
   "outputs": [],
   "source": [
    "pop_idg_ti['crescimento_2010_2022'] = pop_idg_ti.apply(lambda x: x.pop_idg_2022-x.pop_idg_2010, axis=1)"
   ]
  },
  {
   "cell_type": "code",
   "execution_count": 37,
   "metadata": {
    "executionInfo": {
     "elapsed": 109,
     "status": "ok",
     "timestamp": 1691601375377,
     "user": {
      "displayName": "ALEXANDRE RIBEIRO CAJAZEIRA RAMOS",
      "userId": "15502956855817658112"
     },
     "user_tz": 180
    },
    "id": "3cttJ2kAZ_t6"
   },
   "outputs": [],
   "source": [
    "pop_idg_ti['var_pct'] = pop_idg_ti.apply(lambda x: round((x.pop_idg_2022/x.pop_idg_2010-1)*100,2) if x.pop_idg_2010>0 else None, axis=1)"
   ]
  },
  {
   "cell_type": "code",
   "execution_count": 38,
   "metadata": {
    "colab": {
     "base_uri": "https://localhost:8080/",
     "height": 191
    },
    "executionInfo": {
     "elapsed": 108,
     "status": "ok",
     "timestamp": 1691601375377,
     "user": {
      "displayName": "ALEXANDRE RIBEIRO CAJAZEIRA RAMOS",
      "userId": "15502956855817658112"
     },
     "user_tz": 180
    },
    "id": "-1ir4969aPd-",
    "outputId": "b66a84c7-4f03-4871-dfc4-12dca49f6e22"
   },
   "outputs": [
    {
     "data": {
      "text/html": [
       "<div>\n",
       "<style scoped>\n",
       "    .dataframe tbody tr th:only-of-type {\n",
       "        vertical-align: middle;\n",
       "    }\n",
       "\n",
       "    .dataframe tbody tr th {\n",
       "        vertical-align: top;\n",
       "    }\n",
       "\n",
       "    .dataframe thead th {\n",
       "        text-align: right;\n",
       "    }\n",
       "</style>\n",
       "<table border=\"1\" class=\"dataframe\">\n",
       "  <thead>\n",
       "    <tr style=\"text-align: right;\">\n",
       "      <th></th>\n",
       "      <th>cod_ti</th>\n",
       "      <th>nome_ti</th>\n",
       "      <th>FASE</th>\n",
       "      <th>pop_res_2010</th>\n",
       "      <th>pop_idg_2010</th>\n",
       "      <th>pop_res_2022</th>\n",
       "      <th>pop_idg_2022</th>\n",
       "      <th>geometry</th>\n",
       "      <th>COD_FUNAI</th>\n",
       "      <th>NOM_FUNAI</th>\n",
       "      <th>crescimento_2010_2022</th>\n",
       "      <th>var_pct</th>\n",
       "    </tr>\n",
       "  </thead>\n",
       "  <tbody>\n",
       "    <tr>\n",
       "      <th>0</th>\n",
       "      <td>10430</td>\n",
       "      <td>Ribeirão Silveira</td>\n",
       "      <td>Declarada</td>\n",
       "      <td>2892.0</td>\n",
       "      <td>332.0</td>\n",
       "      <td>296.0</td>\n",
       "      <td>152.0</td>\n",
       "      <td>MULTIPOLYGON (((-45.81322 -23.74269, -45.81314...</td>\n",
       "      <td>38102</td>\n",
       "      <td>Ribeirão Silveira</td>\n",
       "      <td>-180.0</td>\n",
       "      <td>-54.22</td>\n",
       "    </tr>\n",
       "    <tr>\n",
       "      <th>1</th>\n",
       "      <td>10448</td>\n",
       "      <td>Boa Vista Sertão do Promirim</td>\n",
       "      <td>Regularizada</td>\n",
       "      <td>156.0</td>\n",
       "      <td>156.0</td>\n",
       "      <td>195.0</td>\n",
       "      <td>193.0</td>\n",
       "      <td>MULTIPOLYGON (((-45.00638 -23.33642, -45.00589...</td>\n",
       "      <td>6301</td>\n",
       "      <td>Boa Vista Sertão do Promirim</td>\n",
       "      <td>37.0</td>\n",
       "      <td>23.72</td>\n",
       "    </tr>\n",
       "  </tbody>\n",
       "</table>\n",
       "</div>"
      ],
      "text/plain": [
       "   cod_ti                       nome_ti          FASE  pop_res_2010  \\\n",
       "0   10430             Ribeirão Silveira     Declarada        2892.0   \n",
       "1   10448  Boa Vista Sertão do Promirim  Regularizada         156.0   \n",
       "\n",
       "   pop_idg_2010  pop_res_2022  pop_idg_2022  \\\n",
       "0         332.0         296.0         152.0   \n",
       "1         156.0         195.0         193.0   \n",
       "\n",
       "                                            geometry COD_FUNAI  \\\n",
       "0  MULTIPOLYGON (((-45.81322 -23.74269, -45.81314...     38102   \n",
       "1  MULTIPOLYGON (((-45.00638 -23.33642, -45.00589...      6301   \n",
       "\n",
       "                      NOM_FUNAI  crescimento_2010_2022  var_pct  \n",
       "0             Ribeirão Silveira                 -180.0   -54.22  \n",
       "1  Boa Vista Sertão do Promirim                   37.0    23.72  "
      ]
     },
     "execution_count": 38,
     "metadata": {},
     "output_type": "execute_result"
    }
   ],
   "source": [
    "pop_idg_ti.head(2)"
   ]
  },
  {
   "cell_type": "code",
   "execution_count": 39,
   "metadata": {
    "colab": {
     "base_uri": "https://localhost:8080/",
     "height": 363
    },
    "executionInfo": {
     "elapsed": 106,
     "status": "ok",
     "timestamp": 1691601375378,
     "user": {
      "displayName": "ALEXANDRE RIBEIRO CAJAZEIRA RAMOS",
      "userId": "15502956855817658112"
     },
     "user_tz": 180
    },
    "id": "_xGyh70Dcel8",
    "outputId": "e615a331-673f-4cf6-ae02-6cf902c6ee0b"
   },
   "outputs": [
    {
     "data": {
      "text/html": [
       "<div>\n",
       "<style scoped>\n",
       "    .dataframe tbody tr th:only-of-type {\n",
       "        vertical-align: middle;\n",
       "    }\n",
       "\n",
       "    .dataframe tbody tr th {\n",
       "        vertical-align: top;\n",
       "    }\n",
       "\n",
       "    .dataframe thead th {\n",
       "        text-align: right;\n",
       "    }\n",
       "</style>\n",
       "<table border=\"1\" class=\"dataframe\">\n",
       "  <thead>\n",
       "    <tr style=\"text-align: right;\">\n",
       "      <th></th>\n",
       "      <th>nome_ti</th>\n",
       "      <th>FASE</th>\n",
       "      <th>pop_idg_2022</th>\n",
       "      <th>pop_idg_2010</th>\n",
       "      <th>crescimento_2010_2022</th>\n",
       "      <th>var_pct</th>\n",
       "    </tr>\n",
       "  </thead>\n",
       "  <tbody>\n",
       "    <tr>\n",
       "      <th>507</th>\n",
       "      <td>Yanomami</td>\n",
       "      <td>Regularizada</td>\n",
       "      <td>27152.0</td>\n",
       "      <td>25719.0</td>\n",
       "      <td>1433.0</td>\n",
       "      <td>5.57</td>\n",
       "    </tr>\n",
       "    <tr>\n",
       "      <th>552</th>\n",
       "      <td>Raposa Serra do Sol</td>\n",
       "      <td>Regularizada</td>\n",
       "      <td>26176.0</td>\n",
       "      <td>17102.0</td>\n",
       "      <td>9074.0</td>\n",
       "      <td>53.06</td>\n",
       "    </tr>\n",
       "    <tr>\n",
       "      <th>444</th>\n",
       "      <td>Évare I</td>\n",
       "      <td>Regularizada</td>\n",
       "      <td>20177.0</td>\n",
       "      <td>16686.0</td>\n",
       "      <td>3491.0</td>\n",
       "      <td>20.92</td>\n",
       "    </tr>\n",
       "    <tr>\n",
       "      <th>68</th>\n",
       "      <td>Alto Rio Negro</td>\n",
       "      <td>Regularizada</td>\n",
       "      <td>18042.0</td>\n",
       "      <td>15183.0</td>\n",
       "      <td>2859.0</td>\n",
       "      <td>18.83</td>\n",
       "    </tr>\n",
       "    <tr>\n",
       "      <th>496</th>\n",
       "      <td>Andirá-Marau</td>\n",
       "      <td>Regularizada</td>\n",
       "      <td>14307.0</td>\n",
       "      <td>11321.0</td>\n",
       "      <td>2986.0</td>\n",
       "      <td>26.38</td>\n",
       "    </tr>\n",
       "    <tr>\n",
       "      <th>401</th>\n",
       "      <td>Dourados</td>\n",
       "      <td>Regularizada</td>\n",
       "      <td>13473.0</td>\n",
       "      <td>11138.0</td>\n",
       "      <td>2335.0</td>\n",
       "      <td>20.96</td>\n",
       "    </tr>\n",
       "    <tr>\n",
       "      <th>383</th>\n",
       "      <td>Potiguara</td>\n",
       "      <td>Regularizada</td>\n",
       "      <td>10960.0</td>\n",
       "      <td>8715.0</td>\n",
       "      <td>2245.0</td>\n",
       "      <td>25.76</td>\n",
       "    </tr>\n",
       "    <tr>\n",
       "      <th>44</th>\n",
       "      <td>Cana Brava/Guajajara</td>\n",
       "      <td>Regularizada</td>\n",
       "      <td>10662.0</td>\n",
       "      <td>7133.0</td>\n",
       "      <td>3529.0</td>\n",
       "      <td>49.47</td>\n",
       "    </tr>\n",
       "    <tr>\n",
       "      <th>550</th>\n",
       "      <td>São Marcos - RR</td>\n",
       "      <td>Regularizada</td>\n",
       "      <td>10328.0</td>\n",
       "      <td>4945.0</td>\n",
       "      <td>5383.0</td>\n",
       "      <td>108.86</td>\n",
       "    </tr>\n",
       "    <tr>\n",
       "      <th>442</th>\n",
       "      <td>Arariboia</td>\n",
       "      <td>Regularizada</td>\n",
       "      <td>10158.0</td>\n",
       "      <td>6997.0</td>\n",
       "      <td>3161.0</td>\n",
       "      <td>45.18</td>\n",
       "    </tr>\n",
       "  </tbody>\n",
       "</table>\n",
       "</div>"
      ],
      "text/plain": [
       "                  nome_ti          FASE  pop_idg_2022  pop_idg_2010  \\\n",
       "507              Yanomami  Regularizada       27152.0       25719.0   \n",
       "552   Raposa Serra do Sol  Regularizada       26176.0       17102.0   \n",
       "444               Évare I  Regularizada       20177.0       16686.0   \n",
       "68         Alto Rio Negro  Regularizada       18042.0       15183.0   \n",
       "496          Andirá-Marau  Regularizada       14307.0       11321.0   \n",
       "401              Dourados  Regularizada       13473.0       11138.0   \n",
       "383             Potiguara  Regularizada       10960.0        8715.0   \n",
       "44   Cana Brava/Guajajara  Regularizada       10662.0        7133.0   \n",
       "550       São Marcos - RR  Regularizada       10328.0        4945.0   \n",
       "442             Arariboia  Regularizada       10158.0        6997.0   \n",
       "\n",
       "     crescimento_2010_2022  var_pct  \n",
       "507                 1433.0     5.57  \n",
       "552                 9074.0    53.06  \n",
       "444                 3491.0    20.92  \n",
       "68                  2859.0    18.83  \n",
       "496                 2986.0    26.38  \n",
       "401                 2335.0    20.96  \n",
       "383                 2245.0    25.76  \n",
       "44                  3529.0    49.47  \n",
       "550                 5383.0   108.86  \n",
       "442                 3161.0    45.18  "
      ]
     },
     "execution_count": 39,
     "metadata": {},
     "output_type": "execute_result"
    }
   ],
   "source": [
    "pop_idg_ti.sort_values(by='pop_idg_2022',ascending=False).head(10)[['nome_ti','FASE','pop_idg_2022','pop_idg_2010','crescimento_2010_2022','var_pct']]"
   ]
  },
  {
   "cell_type": "code",
   "execution_count": 40,
   "metadata": {
    "colab": {
     "base_uri": "https://localhost:8080/",
     "height": 175
    },
    "executionInfo": {
     "elapsed": 102,
     "status": "ok",
     "timestamp": 1691601375378,
     "user": {
      "displayName": "ALEXANDRE RIBEIRO CAJAZEIRA RAMOS",
      "userId": "15502956855817658112"
     },
     "user_tz": 180
    },
    "id": "8aBzPpe9aqDI",
    "outputId": "caa056e1-d0a9-4676-d691-0c54372618e1"
   },
   "outputs": [
    {
     "data": {
      "text/html": [
       "<div>\n",
       "<style scoped>\n",
       "    .dataframe tbody tr th:only-of-type {\n",
       "        vertical-align: middle;\n",
       "    }\n",
       "\n",
       "    .dataframe tbody tr th {\n",
       "        vertical-align: top;\n",
       "    }\n",
       "\n",
       "    .dataframe thead th {\n",
       "        text-align: right;\n",
       "    }\n",
       "</style>\n",
       "<table border=\"1\" class=\"dataframe\">\n",
       "  <thead>\n",
       "    <tr style=\"text-align: right;\">\n",
       "      <th></th>\n",
       "      <th>FASE</th>\n",
       "      <th>pop_idg_2022</th>\n",
       "      <th>pct</th>\n",
       "    </tr>\n",
       "  </thead>\n",
       "  <tbody>\n",
       "    <tr>\n",
       "      <th>0</th>\n",
       "      <td>Declarada</td>\n",
       "      <td>39848.0</td>\n",
       "      <td>6.42</td>\n",
       "    </tr>\n",
       "    <tr>\n",
       "      <th>1</th>\n",
       "      <td>Encaminhada RI</td>\n",
       "      <td>3877.0</td>\n",
       "      <td>0.62</td>\n",
       "    </tr>\n",
       "    <tr>\n",
       "      <th>2</th>\n",
       "      <td>Homologada</td>\n",
       "      <td>3105.0</td>\n",
       "      <td>0.50</td>\n",
       "    </tr>\n",
       "    <tr>\n",
       "      <th>3</th>\n",
       "      <td>Regularizada</td>\n",
       "      <td>574025.0</td>\n",
       "      <td>92.46</td>\n",
       "    </tr>\n",
       "  </tbody>\n",
       "</table>\n",
       "</div>"
      ],
      "text/plain": [
       "             FASE  pop_idg_2022    pct\n",
       "0       Declarada       39848.0   6.42\n",
       "1  Encaminhada RI        3877.0   0.62\n",
       "2      Homologada        3105.0   0.50\n",
       "3    Regularizada      574025.0  92.46"
      ]
     },
     "execution_count": 40,
     "metadata": {},
     "output_type": "execute_result"
    }
   ],
   "source": [
    "resumo_fase = pop_idg_ti.groupby('FASE')['pop_idg_2022'].sum().reset_index()\n",
    "\n",
    "total = resumo_fase.pop_idg_2022.sum()\n",
    "\n",
    "resumo_fase['pct'] = round(resumo_fase.pop_idg_2022/total*100,2)\n",
    "resumo_fase"
   ]
  },
  {
   "cell_type": "code",
   "execution_count": null,
   "metadata": {
    "executionInfo": {
     "elapsed": 512,
     "status": "ok",
     "timestamp": 1691601375799,
     "user": {
      "displayName": "ALEXANDRE RIBEIRO CAJAZEIRA RAMOS",
      "userId": "15502956855817658112"
     },
     "user_tz": 180
    },
    "id": "wRik0LMcdYeB"
   },
   "outputs": [],
   "source": []
  },
  {
   "cell_type": "code",
   "execution_count": null,
   "metadata": {
    "executionInfo": {
     "elapsed": 6,
     "status": "ok",
     "timestamp": 1691601375802,
     "user": {
      "displayName": "ALEXANDRE RIBEIRO CAJAZEIRA RAMOS",
      "userId": "15502956855817658112"
     },
     "user_tz": 180
    },
    "id": "7yr6HBsicdu1"
   },
   "outputs": [],
   "source": []
  },
  {
   "cell_type": "code",
   "execution_count": null,
   "metadata": {
    "executionInfo": {
     "elapsed": 7,
     "status": "ok",
     "timestamp": 1691601375803,
     "user": {
      "displayName": "ALEXANDRE RIBEIRO CAJAZEIRA RAMOS",
      "userId": "15502956855817658112"
     },
     "user_tz": 180
    },
    "id": "srStwwnMatSS"
   },
   "outputs": [],
   "source": []
  },
  {
   "cell_type": "code",
   "execution_count": 41,
   "metadata": {
    "executionInfo": {
     "elapsed": 10261,
     "status": "ok",
     "timestamp": 1691601386057,
     "user": {
      "displayName": "ALEXANDRE RIBEIRO CAJAZEIRA RAMOS",
      "userId": "15502956855817658112"
     },
     "user_tz": 180
    },
    "id": "iJud4Bk7bekS"
   },
   "outputs": [],
   "source": [
    "pop_idg_ti.to_file('resultados/pop_idg_ti.geojson', drive='GeoJson')"
   ]
  },
  {
   "cell_type": "code",
   "execution_count": 42,
   "metadata": {
    "executionInfo": {
     "elapsed": 967,
     "status": "ok",
     "timestamp": 1691601387002,
     "user": {
      "displayName": "ALEXANDRE RIBEIRO CAJAZEIRA RAMOS",
      "userId": "15502956855817658112"
     },
     "user_tz": 180
    },
    "id": "7n4YYgWLiejK"
   },
   "outputs": [],
   "source": [
    "pop_idg_ti['lng'] = pop_idg_ti.geometry.apply(lambda x: x.centroid.x)\n",
    "pop_idg_ti['lat'] = pop_idg_ti.geometry.apply(lambda x: x.centroid.y)"
   ]
  },
  {
   "cell_type": "code",
   "execution_count": 43,
   "metadata": {
    "executionInfo": {
     "elapsed": 65,
     "status": "ok",
     "timestamp": 1691601387003,
     "user": {
      "displayName": "ALEXANDRE RIBEIRO CAJAZEIRA RAMOS",
      "userId": "15502956855817658112"
     },
     "user_tz": 180
    },
    "id": "1gCCA01l3PAZ"
   },
   "outputs": [],
   "source": [
    "pop_idg_ti['pop_idg_2022'] = round(pop_idg_ti['pop_idg_2022'])\n",
    "pop_idg_ti['pop_idg_2010'] = round(pop_idg_ti['pop_idg_2010'])"
   ]
  },
  {
   "cell_type": "code",
   "execution_count": 44,
   "metadata": {
    "executionInfo": {
     "elapsed": 40,
     "status": "ok",
     "timestamp": 1691601387004,
     "user": {
      "displayName": "ALEXANDRE RIBEIRO CAJAZEIRA RAMOS",
      "userId": "15502956855817658112"
     },
     "user_tz": 180
    },
    "id": "4XBS5nNd2jne"
   },
   "outputs": [],
   "source": [
    "pop_idg_ti[['lat','lng','nome_ti','FASE','pop_idg_2022','pop_idg_2010','crescimento_2010_2022','var_pct']].to_csv('resultados/loc_ti.csv', index=False)"
   ]
  },
  {
   "cell_type": "code",
   "execution_count": 45,
   "metadata": {
    "executionInfo": {
     "elapsed": 38,
     "status": "ok",
     "timestamp": 1691601387008,
     "user": {
      "displayName": "ALEXANDRE RIBEIRO CAJAZEIRA RAMOS",
      "userId": "15502956855817658112"
     },
     "user_tz": 180
    },
    "id": "mwZDMNwT4ce8"
   },
   "outputs": [],
   "source": [
    "# pop_idg_ti.loc[pop_idg_ti.pop_idg_2022.isna(),'pop_idg_2022'] = 'X'"
   ]
  },
  {
   "cell_type": "code",
   "execution_count": 46,
   "metadata": {
    "executionInfo": {
     "elapsed": 37,
     "status": "ok",
     "timestamp": 1691601387009,
     "user": {
      "displayName": "ALEXANDRE RIBEIRO CAJAZEIRA RAMOS",
      "userId": "15502956855817658112"
     },
     "user_tz": 180
    },
    "id": "i2ahgUtK6PGc"
   },
   "outputs": [],
   "source": [
    "import math\n",
    "pop_idg_ti.pop_idg_2010 = pop_idg_ti.pop_idg_2010.apply(lambda x: int(x) if not math.isnan(x) else 'X')"
   ]
  },
  {
   "cell_type": "code",
   "execution_count": 47,
   "metadata": {
    "executionInfo": {
     "elapsed": 36,
     "status": "ok",
     "timestamp": 1691601387010,
     "user": {
      "displayName": "ALEXANDRE RIBEIRO CAJAZEIRA RAMOS",
      "userId": "15502956855817658112"
     },
     "user_tz": 180
    },
    "id": "KGYLrnMS7Z_Q"
   },
   "outputs": [
    {
     "data": {
      "text/html": [
       "<div>\n",
       "<style scoped>\n",
       "    .dataframe tbody tr th:only-of-type {\n",
       "        vertical-align: middle;\n",
       "    }\n",
       "\n",
       "    .dataframe tbody tr th {\n",
       "        vertical-align: top;\n",
       "    }\n",
       "\n",
       "    .dataframe thead th {\n",
       "        text-align: right;\n",
       "    }\n",
       "</style>\n",
       "<table border=\"1\" class=\"dataframe\">\n",
       "  <thead>\n",
       "    <tr style=\"text-align: right;\">\n",
       "      <th></th>\n",
       "      <th>cod_ti</th>\n",
       "      <th>nome_ti</th>\n",
       "      <th>FASE</th>\n",
       "      <th>pop_res_2010</th>\n",
       "      <th>pop_idg_2010</th>\n",
       "      <th>pop_res_2022</th>\n",
       "      <th>pop_idg_2022</th>\n",
       "      <th>geometry</th>\n",
       "      <th>COD_FUNAI</th>\n",
       "      <th>NOM_FUNAI</th>\n",
       "      <th>crescimento_2010_2022</th>\n",
       "      <th>var_pct</th>\n",
       "      <th>lng</th>\n",
       "      <th>lat</th>\n",
       "    </tr>\n",
       "  </thead>\n",
       "  <tbody>\n",
       "    <tr>\n",
       "      <th>0</th>\n",
       "      <td>10430</td>\n",
       "      <td>Ribeirão Silveira</td>\n",
       "      <td>Declarada</td>\n",
       "      <td>2892.0</td>\n",
       "      <td>332</td>\n",
       "      <td>296.0</td>\n",
       "      <td>152.0</td>\n",
       "      <td>MULTIPOLYGON (((-45.81322 -23.74269, -45.81314...</td>\n",
       "      <td>38102</td>\n",
       "      <td>Ribeirão Silveira</td>\n",
       "      <td>-180.0</td>\n",
       "      <td>-54.22</td>\n",
       "      <td>-45.805988</td>\n",
       "      <td>-23.710900</td>\n",
       "    </tr>\n",
       "    <tr>\n",
       "      <th>1</th>\n",
       "      <td>10448</td>\n",
       "      <td>Boa Vista Sertão do Promirim</td>\n",
       "      <td>Regularizada</td>\n",
       "      <td>156.0</td>\n",
       "      <td>156</td>\n",
       "      <td>195.0</td>\n",
       "      <td>193.0</td>\n",
       "      <td>MULTIPOLYGON (((-45.00638 -23.33642, -45.00589...</td>\n",
       "      <td>6301</td>\n",
       "      <td>Boa Vista Sertão do Promirim</td>\n",
       "      <td>37.0</td>\n",
       "      <td>23.72</td>\n",
       "      <td>-44.981999</td>\n",
       "      <td>-23.353579</td>\n",
       "    </tr>\n",
       "    <tr>\n",
       "      <th>2</th>\n",
       "      <td>10472</td>\n",
       "      <td>Rio Branco Itanhaém</td>\n",
       "      <td>Regularizada</td>\n",
       "      <td>80.0</td>\n",
       "      <td>80</td>\n",
       "      <td>30.0</td>\n",
       "      <td>30.0</td>\n",
       "      <td>MULTIPOLYGON (((-46.62015 -24.00783, -46.62036...</td>\n",
       "      <td>38701</td>\n",
       "      <td>Rio Branco Itanhaém</td>\n",
       "      <td>-50.0</td>\n",
       "      <td>-62.50</td>\n",
       "      <td>-46.663593</td>\n",
       "      <td>-23.999758</td>\n",
       "    </tr>\n",
       "    <tr>\n",
       "      <th>3</th>\n",
       "      <td>10480</td>\n",
       "      <td>Jaraguá</td>\n",
       "      <td>Regularizada</td>\n",
       "      <td>98.0</td>\n",
       "      <td>98</td>\n",
       "      <td>92.0</td>\n",
       "      <td>78.0</td>\n",
       "      <td>MULTIPOLYGON (((-46.75465 -23.46538, -46.75469...</td>\n",
       "      <td>18801</td>\n",
       "      <td>Jaraguá</td>\n",
       "      <td>-20.0</td>\n",
       "      <td>-20.41</td>\n",
       "      <td>-46.754245</td>\n",
       "      <td>-23.464253</td>\n",
       "    </tr>\n",
       "    <tr>\n",
       "      <th>4</th>\n",
       "      <td>10510</td>\n",
       "      <td>Krukutu</td>\n",
       "      <td>Regularizada</td>\n",
       "      <td>254.0</td>\n",
       "      <td>254</td>\n",
       "      <td>155.0</td>\n",
       "      <td>155.0</td>\n",
       "      <td>MULTIPOLYGON (((-46.61775 -23.86435, -46.61778...</td>\n",
       "      <td>23601</td>\n",
       "      <td>Krukutu</td>\n",
       "      <td>-99.0</td>\n",
       "      <td>-38.98</td>\n",
       "      <td>-46.621036</td>\n",
       "      <td>-23.863625</td>\n",
       "    </tr>\n",
       "    <tr>\n",
       "      <th>...</th>\n",
       "      <td>...</td>\n",
       "      <td>...</td>\n",
       "      <td>...</td>\n",
       "      <td>...</td>\n",
       "      <td>...</td>\n",
       "      <td>...</td>\n",
       "      <td>...</td>\n",
       "      <td>...</td>\n",
       "      <td>...</td>\n",
       "      <td>...</td>\n",
       "      <td>...</td>\n",
       "      <td>...</td>\n",
       "      <td>...</td>\n",
       "      <td>...</td>\n",
       "    </tr>\n",
       "    <tr>\n",
       "      <th>568</th>\n",
       "      <td>9954</td>\n",
       "      <td>Mãe Maria</td>\n",
       "      <td>Regularizada</td>\n",
       "      <td>918.0</td>\n",
       "      <td>896</td>\n",
       "      <td>1302.0</td>\n",
       "      <td>1110.0</td>\n",
       "      <td>MULTIPOLYGON (((-48.99077 -4.97749, -48.99040 ...</td>\n",
       "      <td>26001</td>\n",
       "      <td>Mãe Maria</td>\n",
       "      <td>214.0</td>\n",
       "      <td>23.88</td>\n",
       "      <td>-48.918534</td>\n",
       "      <td>-5.119119</td>\n",
       "    </tr>\n",
       "    <tr>\n",
       "      <th>569</th>\n",
       "      <td>9962</td>\n",
       "      <td>Sororó</td>\n",
       "      <td>Regularizada</td>\n",
       "      <td>343.0</td>\n",
       "      <td>338</td>\n",
       "      <td>594.0</td>\n",
       "      <td>575.0</td>\n",
       "      <td>MULTIPOLYGON (((-48.59738 -5.97701, -48.59609 ...</td>\n",
       "      <td>43201</td>\n",
       "      <td>Sororó</td>\n",
       "      <td>237.0</td>\n",
       "      <td>70.12</td>\n",
       "      <td>-48.692717</td>\n",
       "      <td>-5.936776</td>\n",
       "    </tr>\n",
       "    <tr>\n",
       "      <th>570</th>\n",
       "      <td>9970</td>\n",
       "      <td>Xikrin do Rio Catete</td>\n",
       "      <td>Regularizada</td>\n",
       "      <td>1059.0</td>\n",
       "      <td>1059</td>\n",
       "      <td>1737.0</td>\n",
       "      <td>1727.0</td>\n",
       "      <td>MULTIPOLYGON (((-50.72127 -5.95701, -50.72126 ...</td>\n",
       "      <td>50501</td>\n",
       "      <td>Xikrin do Rio Catete</td>\n",
       "      <td>668.0</td>\n",
       "      <td>63.08</td>\n",
       "      <td>-50.814802</td>\n",
       "      <td>-6.357282</td>\n",
       "    </tr>\n",
       "    <tr>\n",
       "      <th>571</th>\n",
       "      <td>9989</td>\n",
       "      <td>Nhamundá/Mapuera</td>\n",
       "      <td>Regularizada</td>\n",
       "      <td>1965.0</td>\n",
       "      <td>1961</td>\n",
       "      <td>2009.0</td>\n",
       "      <td>2004.0</td>\n",
       "      <td>MULTIPOLYGON (((-57.99233 -0.10302, -57.99200 ...</td>\n",
       "      <td>30501</td>\n",
       "      <td>Nhamundá/Mapuera</td>\n",
       "      <td>43.0</td>\n",
       "      <td>2.19</td>\n",
       "      <td>-58.110754</td>\n",
       "      <td>-0.821397</td>\n",
       "    </tr>\n",
       "    <tr>\n",
       "      <th>572</th>\n",
       "      <td>9997</td>\n",
       "      <td>Anambé</td>\n",
       "      <td>Regularizada</td>\n",
       "      <td>129.0</td>\n",
       "      <td>129</td>\n",
       "      <td>203.0</td>\n",
       "      <td>179.0</td>\n",
       "      <td>MULTIPOLYGON (((-49.28460 -2.82037, -49.25988 ...</td>\n",
       "      <td>1801</td>\n",
       "      <td>Anambé</td>\n",
       "      <td>50.0</td>\n",
       "      <td>38.76</td>\n",
       "      <td>-49.302759</td>\n",
       "      <td>-2.858365</td>\n",
       "    </tr>\n",
       "  </tbody>\n",
       "</table>\n",
       "<p>573 rows × 14 columns</p>\n",
       "</div>"
      ],
      "text/plain": [
       "     cod_ti                       nome_ti          FASE  pop_res_2010  \\\n",
       "0     10430             Ribeirão Silveira     Declarada        2892.0   \n",
       "1     10448  Boa Vista Sertão do Promirim  Regularizada         156.0   \n",
       "2     10472           Rio Branco Itanhaém  Regularizada          80.0   \n",
       "3     10480                       Jaraguá  Regularizada          98.0   \n",
       "4     10510                       Krukutu  Regularizada         254.0   \n",
       "..      ...                           ...           ...           ...   \n",
       "568    9954                     Mãe Maria  Regularizada         918.0   \n",
       "569    9962                        Sororó  Regularizada         343.0   \n",
       "570    9970          Xikrin do Rio Catete  Regularizada        1059.0   \n",
       "571    9989              Nhamundá/Mapuera  Regularizada        1965.0   \n",
       "572    9997                        Anambé  Regularizada         129.0   \n",
       "\n",
       "    pop_idg_2010  pop_res_2022  pop_idg_2022  \\\n",
       "0            332         296.0         152.0   \n",
       "1            156         195.0         193.0   \n",
       "2             80          30.0          30.0   \n",
       "3             98          92.0          78.0   \n",
       "4            254         155.0         155.0   \n",
       "..           ...           ...           ...   \n",
       "568          896        1302.0        1110.0   \n",
       "569          338         594.0         575.0   \n",
       "570         1059        1737.0        1727.0   \n",
       "571         1961        2009.0        2004.0   \n",
       "572          129         203.0         179.0   \n",
       "\n",
       "                                              geometry COD_FUNAI  \\\n",
       "0    MULTIPOLYGON (((-45.81322 -23.74269, -45.81314...     38102   \n",
       "1    MULTIPOLYGON (((-45.00638 -23.33642, -45.00589...      6301   \n",
       "2    MULTIPOLYGON (((-46.62015 -24.00783, -46.62036...     38701   \n",
       "3    MULTIPOLYGON (((-46.75465 -23.46538, -46.75469...     18801   \n",
       "4    MULTIPOLYGON (((-46.61775 -23.86435, -46.61778...     23601   \n",
       "..                                                 ...       ...   \n",
       "568  MULTIPOLYGON (((-48.99077 -4.97749, -48.99040 ...     26001   \n",
       "569  MULTIPOLYGON (((-48.59738 -5.97701, -48.59609 ...     43201   \n",
       "570  MULTIPOLYGON (((-50.72127 -5.95701, -50.72126 ...     50501   \n",
       "571  MULTIPOLYGON (((-57.99233 -0.10302, -57.99200 ...     30501   \n",
       "572  MULTIPOLYGON (((-49.28460 -2.82037, -49.25988 ...      1801   \n",
       "\n",
       "                        NOM_FUNAI  crescimento_2010_2022  var_pct        lng  \\\n",
       "0               Ribeirão Silveira                 -180.0   -54.22 -45.805988   \n",
       "1    Boa Vista Sertão do Promirim                   37.0    23.72 -44.981999   \n",
       "2             Rio Branco Itanhaém                  -50.0   -62.50 -46.663593   \n",
       "3                         Jaraguá                  -20.0   -20.41 -46.754245   \n",
       "4                         Krukutu                  -99.0   -38.98 -46.621036   \n",
       "..                            ...                    ...      ...        ...   \n",
       "568                     Mãe Maria                  214.0    23.88 -48.918534   \n",
       "569                        Sororó                  237.0    70.12 -48.692717   \n",
       "570          Xikrin do Rio Catete                  668.0    63.08 -50.814802   \n",
       "571              Nhamundá/Mapuera                   43.0     2.19 -58.110754   \n",
       "572                        Anambé                   50.0    38.76 -49.302759   \n",
       "\n",
       "           lat  \n",
       "0   -23.710900  \n",
       "1   -23.353579  \n",
       "2   -23.999758  \n",
       "3   -23.464253  \n",
       "4   -23.863625  \n",
       "..         ...  \n",
       "568  -5.119119  \n",
       "569  -5.936776  \n",
       "570  -6.357282  \n",
       "571  -0.821397  \n",
       "572  -2.858365  \n",
       "\n",
       "[573 rows x 14 columns]"
      ]
     },
     "execution_count": 47,
     "metadata": {},
     "output_type": "execute_result"
    }
   ],
   "source": [
    "pop_idg_ti"
   ]
  },
  {
   "cell_type": "code",
   "execution_count": null,
   "metadata": {},
   "outputs": [],
   "source": []
  }
 ],
 "metadata": {
  "colab": {
   "authorship_tag": "ABX9TyNuvBUuWPg2dXoDgRStX83l",
   "mount_file_id": "1a4z2ewsAqPv-HIogGxqkiW2rlgIjHYRM",
   "provenance": []
  },
  "kernelspec": {
   "display_name": "Python 3",
   "language": "python",
   "name": "python3"
  },
  "language_info": {
   "codemirror_mode": {
    "name": "ipython",
    "version": 3
   },
   "file_extension": ".py",
   "mimetype": "text/x-python",
   "name": "python",
   "nbconvert_exporter": "python",
   "pygments_lexer": "ipython3",
   "version": "3.7.10"
  }
 },
 "nbformat": 4,
 "nbformat_minor": 1
}
