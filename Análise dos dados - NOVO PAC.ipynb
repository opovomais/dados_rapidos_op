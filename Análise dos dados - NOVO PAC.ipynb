{
 "cells": [
  {
   "cell_type": "markdown",
   "metadata": {},
   "source": [
    "# Este notebook faz parte da reportagem [Ceará é o 3° Estado do Nordeste e 7° do Brasil com mais obras do Novo PAC](https://mais.opovo.com.br/reportagens-especiais/novo-pac/2023/09/24/ceara-e-o-3-estado-do-nordeste-e-7-do-brasil-com-mais-obras-do-novo-pac.html?collection=reportagens_de_dados)"
   ]
  },
  {
   "cell_type": "markdown",
   "metadata": {},
   "source": [
    "Para esta reportagem, foram usados dados do NOVO PAC / Casa Civil - Governo Federal. Foi analisada a tabela de obras por estado e coletados, de maneira automatizada, os valores de cada eixo de investimento. Os valores previstos para cada obra não foram disponibilizados e os montantes para cada eixo/subeixo não foram estruturados em formato aberto, impossibilitando uma consulta cidadã detalhada da distribuição dos investimentos."
   ]
  },
  {
   "cell_type": "code",
   "execution_count": 1,
   "metadata": {
    "executionInfo": {
     "elapsed": 597,
     "status": "ok",
     "timestamp": 1693309091974,
     "user": {
      "displayName": "ALEXANDRE RIBEIRO CAJAZEIRA RAMOS",
      "userId": "15502956855817658112"
     },
     "user_tz": 180
    },
    "id": "f8-97mYnZMGP"
   },
   "outputs": [],
   "source": [
    "import pandas as pd\n",
    "import geopandas as gpd"
   ]
  },
  {
   "cell_type": "code",
   "execution_count": 2,
   "metadata": {
    "executionInfo": {
     "elapsed": 699,
     "status": "ok",
     "timestamp": 1693309788141,
     "user": {
      "displayName": "ALEXANDRE RIBEIRO CAJAZEIRA RAMOS",
      "userId": "15502956855817658112"
     },
     "user_tz": 180
    },
    "id": "BrF4_DhDILYM"
   },
   "outputs": [],
   "source": [
    "codigos_rg_uf = pd.read_csv('bases_de_dados/cod_sg_uf.csv')"
   ]
  },
  {
   "cell_type": "code",
   "execution_count": 3,
   "metadata": {
    "executionInfo": {
     "elapsed": 3185,
     "status": "ok",
     "timestamp": 1693309095148,
     "user": {
      "displayName": "ALEXANDRE RIBEIRO CAJAZEIRA RAMOS",
      "userId": "15502956855817658112"
     },
     "user_tz": 180
    },
    "id": "D5lnmqWGZOgs"
   },
   "outputs": [],
   "source": [
    "# Dados públicos do mapa de obras\n",
    "dataset_novo_pac = pd.read_csv('https://docs.google.com/spreadsheets/d/e/2PACX-1vR5_5AFiquBfta4UtwTWt89xa9MTz0WjXNwCLOgPv-ZVDWuA9TvioKeH2AXgC894A/pub?gid=565983705&single=true&output=csv')"
   ]
  },
  {
   "cell_type": "code",
   "execution_count": 4,
   "metadata": {
    "colab": {
     "base_uri": "https://localhost:8080/"
    },
    "executionInfo": {
     "elapsed": 77,
     "status": "ok",
     "timestamp": 1693309095149,
     "user": {
      "displayName": "ALEXANDRE RIBEIRO CAJAZEIRA RAMOS",
      "userId": "15502956855817658112"
     },
     "user_tz": 180
    },
    "id": "RSd1XNHYZUvp",
    "outputId": "a2eb60ea-217a-4637-abc6-066e85dd5d0e"
   },
   "outputs": [
    {
     "name": "stdout",
     "output_type": "stream",
     "text": [
      "<class 'pandas.core.frame.DataFrame'>\n",
      "RangeIndex: 12521 entries, 0 to 12520\n",
      "Data columns (total 7 columns):\n",
      " #   Column                              Non-Null Count  Dtype \n",
      "---  ------                              --------------  ----- \n",
      " 0   EIXO                                12521 non-null  object\n",
      " 1   SUBEIXO                             12521 non-null  object\n",
      " 2   UF                                  12521 non-null  object\n",
      " 3   MUNICÍPIO                           12521 non-null  object\n",
      " 4   NOME                                12521 non-null  object\n",
      " 5   MODALIDADE                          12521 non-null  object\n",
      " 6   OBRA, PROJETO, ESTUDO, EQUIPAMENTO  12521 non-null  object\n",
      "dtypes: object(7)\n",
      "memory usage: 684.9+ KB\n"
     ]
    }
   ],
   "source": [
    "dataset_novo_pac.info()"
   ]
  },
  {
   "cell_type": "code",
   "execution_count": 5,
   "metadata": {
    "colab": {
     "base_uri": "https://localhost:8080/",
     "height": 432
    },
    "executionInfo": {
     "elapsed": 75,
     "status": "ok",
     "timestamp": 1693309095150,
     "user": {
      "displayName": "ALEXANDRE RIBEIRO CAJAZEIRA RAMOS",
      "userId": "15502956855817658112"
     },
     "user_tz": 180
    },
    "id": "i9tzUP0SZbJX",
    "outputId": "c6785ecf-2372-4cb5-a1da-26ba151029c7"
   },
   "outputs": [
    {
     "data": {
      "text/html": [
       "<div>\n",
       "<style scoped>\n",
       "    .dataframe tbody tr th:only-of-type {\n",
       "        vertical-align: middle;\n",
       "    }\n",
       "\n",
       "    .dataframe tbody tr th {\n",
       "        vertical-align: top;\n",
       "    }\n",
       "\n",
       "    .dataframe thead th {\n",
       "        text-align: right;\n",
       "    }\n",
       "</style>\n",
       "<table border=\"1\" class=\"dataframe\">\n",
       "  <thead>\n",
       "    <tr style=\"text-align: right;\">\n",
       "      <th></th>\n",
       "      <th>EIXO</th>\n",
       "      <th>SUBEIXO</th>\n",
       "      <th>UF</th>\n",
       "      <th>MUNICÍPIO</th>\n",
       "      <th>NOME</th>\n",
       "      <th>MODALIDADE</th>\n",
       "      <th>OBRA, PROJETO, ESTUDO, EQUIPAMENTO</th>\n",
       "    </tr>\n",
       "  </thead>\n",
       "  <tbody>\n",
       "    <tr>\n",
       "      <th>0</th>\n",
       "      <td>Água para Todos</td>\n",
       "      <td>Abastecimento de água</td>\n",
       "      <td>AC</td>\n",
       "      <td>Rio Branco</td>\n",
       "      <td>Implantação do SAA Cidade do Povo​​​</td>\n",
       "      <td>Retomada, conclusão e novas obras</td>\n",
       "      <td>Obra</td>\n",
       "    </tr>\n",
       "    <tr>\n",
       "      <th>1</th>\n",
       "      <td>Água para Todos</td>\n",
       "      <td>Abastecimento de água</td>\n",
       "      <td>BA</td>\n",
       "      <td>Amélia Rodrigues</td>\n",
       "      <td>Ampliação do SAA-ETA ​</td>\n",
       "      <td>Retomada, conclusão e novas obras</td>\n",
       "      <td>Obra</td>\n",
       "    </tr>\n",
       "    <tr>\n",
       "      <th>2</th>\n",
       "      <td>Água para Todos</td>\n",
       "      <td>Abastecimento de água</td>\n",
       "      <td>BA</td>\n",
       "      <td>Belo Campo, Vitória da Conquista, Tremedal</td>\n",
       "      <td>Ampliação do SAA ​</td>\n",
       "      <td>Retomada, conclusão e novas obras</td>\n",
       "      <td>Obra</td>\n",
       "    </tr>\n",
       "    <tr>\n",
       "      <th>3</th>\n",
       "      <td>Água para Todos</td>\n",
       "      <td>Abastecimento de água</td>\n",
       "      <td>BA</td>\n",
       "      <td>Camaçari</td>\n",
       "      <td>Ampliação do SAA​</td>\n",
       "      <td>Retomada, conclusão e novas obras</td>\n",
       "      <td>Obra</td>\n",
       "    </tr>\n",
       "    <tr>\n",
       "      <th>4</th>\n",
       "      <td>Água para Todos</td>\n",
       "      <td>Abastecimento de água</td>\n",
       "      <td>BA</td>\n",
       "      <td>Luís Eduardo Magalhães</td>\n",
       "      <td>Ampliação do SAA  - 1ª Etapa​</td>\n",
       "      <td>Retomada, conclusão e novas obras</td>\n",
       "      <td>Obra</td>\n",
       "    </tr>\n",
       "  </tbody>\n",
       "</table>\n",
       "</div>"
      ],
      "text/plain": [
       "              EIXO                SUBEIXO  UF  \\\n",
       "0  Água para Todos  Abastecimento de água  AC   \n",
       "1  Água para Todos  Abastecimento de água  BA   \n",
       "2  Água para Todos  Abastecimento de água  BA   \n",
       "3  Água para Todos  Abastecimento de água  BA   \n",
       "4  Água para Todos  Abastecimento de água  BA   \n",
       "\n",
       "                                    MUNICÍPIO  \\\n",
       "0                                  Rio Branco   \n",
       "1                            Amélia Rodrigues   \n",
       "2  Belo Campo, Vitória da Conquista, Tremedal   \n",
       "3                                    Camaçari   \n",
       "4                      Luís Eduardo Magalhães   \n",
       "\n",
       "                                    NOME                         MODALIDADE  \\\n",
       "0  Implantação do SAA Cidade do Povo​​​   Retomada, conclusão e novas obras   \n",
       "1                 Ampliação do SAA-ETA ​  Retomada, conclusão e novas obras   \n",
       "2                     Ampliação do SAA ​  Retomada, conclusão e novas obras   \n",
       "3                      Ampliação do SAA​  Retomada, conclusão e novas obras   \n",
       "4          Ampliação do SAA  - 1ª Etapa​  Retomada, conclusão e novas obras   \n",
       "\n",
       "  OBRA, PROJETO, ESTUDO, EQUIPAMENTO  \n",
       "0                               Obra  \n",
       "1                               Obra  \n",
       "2                               Obra  \n",
       "3                               Obra  \n",
       "4                               Obra  "
      ]
     },
     "execution_count": 5,
     "metadata": {},
     "output_type": "execute_result"
    }
   ],
   "source": [
    "dataset_novo_pac.head()"
   ]
  },
  {
   "cell_type": "code",
   "execution_count": 6,
   "metadata": {
    "executionInfo": {
     "elapsed": 74,
     "status": "ok",
     "timestamp": 1693309095151,
     "user": {
      "displayName": "ALEXANDRE RIBEIRO CAJAZEIRA RAMOS",
      "userId": "15502956855817658112"
     },
     "user_tz": 180
    },
    "id": "QypgLS68ZffL"
   },
   "outputs": [],
   "source": [
    "npac = dataset_novo_pac.copy()"
   ]
  },
  {
   "cell_type": "code",
   "execution_count": 7,
   "metadata": {
    "colab": {
     "base_uri": "https://localhost:8080/"
    },
    "executionInfo": {
     "elapsed": 73,
     "status": "ok",
     "timestamp": 1693309095151,
     "user": {
      "displayName": "ALEXANDRE RIBEIRO CAJAZEIRA RAMOS",
      "userId": "15502956855817658112"
     },
     "user_tz": 180
    },
    "id": "gBbtv2RecX_e",
    "outputId": "feb21cfa-a8ef-480d-94f6-ec7ff6a909ab"
   },
   "outputs": [
    {
     "data": {
      "text/plain": [
       "(12521, 7)"
      ]
     },
     "execution_count": 7,
     "metadata": {},
     "output_type": "execute_result"
    }
   ],
   "source": [
    "npac.shape"
   ]
  },
  {
   "cell_type": "code",
   "execution_count": 8,
   "metadata": {
    "colab": {
     "base_uri": "https://localhost:8080/"
    },
    "executionInfo": {
     "elapsed": 70,
     "status": "ok",
     "timestamp": 1693309095152,
     "user": {
      "displayName": "ALEXANDRE RIBEIRO CAJAZEIRA RAMOS",
      "userId": "15502956855817658112"
     },
     "user_tz": 180
    },
    "id": "a7rDMHrvbmmH",
    "outputId": "711f8082-55b1-4d23-8373-6f733b8164c6"
   },
   "outputs": [
    {
     "data": {
      "text/plain": [
       "Obra                12024\n",
       "obra                  164\n",
       "Projeto               138\n",
       "Equipamento            92\n",
       "Estudo                 69\n",
       "projeto                16\n",
       "Estudo/Projeto​         8\n",
       "estudo                  6\n",
       "Obra/Equipamento        4\n",
       "Name: OBRA, PROJETO, ESTUDO, EQUIPAMENTO, dtype: int64"
      ]
     },
     "execution_count": 8,
     "metadata": {},
     "output_type": "execute_result"
    }
   ],
   "source": [
    "npac['OBRA, PROJETO, ESTUDO, EQUIPAMENTO'].value_counts()"
   ]
  },
  {
   "cell_type": "code",
   "execution_count": 9,
   "metadata": {
    "colab": {
     "base_uri": "https://localhost:8080/"
    },
    "executionInfo": {
     "elapsed": 67,
     "status": "ok",
     "timestamp": 1693309095153,
     "user": {
      "displayName": "ALEXANDRE RIBEIRO CAJAZEIRA RAMOS",
      "userId": "15502956855817658112"
     },
     "user_tz": 180
    },
    "id": "P8YP6yiIbo6V",
    "outputId": "5f2456ce-f947-47d6-e110-244ea834e250"
   },
   "outputs": [
    {
     "data": {
      "text/plain": [
       "Retomada e conclusão de obras - creche, escola, quadra e cobertura de quadra    2630\n",
       "Faixa 2                                                                         2104\n",
       "Faixa 1                                                                         1984\n",
       "Retomada e conclusão                                                            1516\n",
       "Faixa 3                                                                         1409\n",
       "                                                                                ... \n",
       "Seleção - Drenagem                                                                 1\n",
       "Seleção - Centros de Atenção Psicossocial                                          1\n",
       "Hidrelétrica​                                                                      1\n",
       "Reforma e recuperação de acervos da Biblioteca Nacional - FBN                      1\n",
       "Seleção - Encostas                                                                 1\n",
       "Name: MODALIDADE, Length: 149, dtype: int64"
      ]
     },
     "execution_count": 9,
     "metadata": {},
     "output_type": "execute_result"
    }
   ],
   "source": [
    "npac['MODALIDADE'].value_counts()"
   ]
  },
  {
   "cell_type": "code",
   "execution_count": 10,
   "metadata": {
    "colab": {
     "base_uri": "https://localhost:8080/",
     "height": 332
    },
    "executionInfo": {
     "elapsed": 64,
     "status": "ok",
     "timestamp": 1693309095154,
     "user": {
      "displayName": "ALEXANDRE RIBEIRO CAJAZEIRA RAMOS",
      "userId": "15502956855817658112"
     },
     "user_tz": 180
    },
    "id": "mJaTX11Aak7T",
    "outputId": "face40e4-7c4f-430c-f2f1-d35409c1d300"
   },
   "outputs": [
    {
     "data": {
      "text/html": [
       "<div>\n",
       "<style scoped>\n",
       "    .dataframe tbody tr th:only-of-type {\n",
       "        vertical-align: middle;\n",
       "    }\n",
       "\n",
       "    .dataframe tbody tr th {\n",
       "        vertical-align: top;\n",
       "    }\n",
       "\n",
       "    .dataframe thead th {\n",
       "        text-align: right;\n",
       "    }\n",
       "</style>\n",
       "<table border=\"1\" class=\"dataframe\">\n",
       "  <thead>\n",
       "    <tr style=\"text-align: right;\">\n",
       "      <th></th>\n",
       "      <th>EIXO</th>\n",
       "      <th>0</th>\n",
       "    </tr>\n",
       "  </thead>\n",
       "  <tbody>\n",
       "    <tr>\n",
       "      <th>0</th>\n",
       "      <td>Cidades Sustentáveis e Resilientes</td>\n",
       "      <td>7493</td>\n",
       "    </tr>\n",
       "    <tr>\n",
       "      <th>1</th>\n",
       "      <td>Educação, Ciência e Tecnologia</td>\n",
       "      <td>2721</td>\n",
       "    </tr>\n",
       "    <tr>\n",
       "      <th>2</th>\n",
       "      <td>Inclusão Digital e Conectividade</td>\n",
       "      <td>251</td>\n",
       "    </tr>\n",
       "    <tr>\n",
       "      <th>3</th>\n",
       "      <td>Infraestrutura Social e Inclusiva</td>\n",
       "      <td>192</td>\n",
       "    </tr>\n",
       "    <tr>\n",
       "      <th>4</th>\n",
       "      <td>Inovação para a indústria da defesa</td>\n",
       "      <td>16</td>\n",
       "    </tr>\n",
       "    <tr>\n",
       "      <th>5</th>\n",
       "      <td>Saúde</td>\n",
       "      <td>460</td>\n",
       "    </tr>\n",
       "    <tr>\n",
       "      <th>6</th>\n",
       "      <td>Transição e Segurança Energética</td>\n",
       "      <td>589</td>\n",
       "    </tr>\n",
       "    <tr>\n",
       "      <th>7</th>\n",
       "      <td>Transporte Eficiente e Sustentável</td>\n",
       "      <td>595</td>\n",
       "    </tr>\n",
       "    <tr>\n",
       "      <th>8</th>\n",
       "      <td>Água para Todos</td>\n",
       "      <td>204</td>\n",
       "    </tr>\n",
       "  </tbody>\n",
       "</table>\n",
       "</div>"
      ],
      "text/plain": [
       "                                  EIXO     0\n",
       "0   Cidades Sustentáveis e Resilientes  7493\n",
       "1       Educação, Ciência e Tecnologia  2721\n",
       "2     Inclusão Digital e Conectividade   251\n",
       "3    Infraestrutura Social e Inclusiva   192\n",
       "4  Inovação para a indústria da defesa    16\n",
       "5                                Saúde   460\n",
       "6     Transição e Segurança Energética   589\n",
       "7   Transporte Eficiente e Sustentável   595\n",
       "8                      Água para Todos   204"
      ]
     },
     "execution_count": 10,
     "metadata": {},
     "output_type": "execute_result"
    }
   ],
   "source": [
    "npac.groupby('EIXO').size().reset_index()"
   ]
  },
  {
   "cell_type": "code",
   "execution_count": 11,
   "metadata": {
    "colab": {
     "base_uri": "https://localhost:8080/",
     "height": 300
    },
    "executionInfo": {
     "elapsed": 63,
     "status": "ok",
     "timestamp": 1693309095155,
     "user": {
      "displayName": "ALEXANDRE RIBEIRO CAJAZEIRA RAMOS",
      "userId": "15502956855817658112"
     },
     "user_tz": 180
    },
    "id": "bf-QI9y_hEi4",
    "outputId": "4e9c2c5e-137c-42e6-bcb7-6fe8a1a0f224"
   },
   "outputs": [
    {
     "data": {
      "text/html": [
       "<div>\n",
       "<style scoped>\n",
       "    .dataframe tbody tr th:only-of-type {\n",
       "        vertical-align: middle;\n",
       "    }\n",
       "\n",
       "    .dataframe tbody tr th {\n",
       "        vertical-align: top;\n",
       "    }\n",
       "\n",
       "    .dataframe thead th {\n",
       "        text-align: right;\n",
       "    }\n",
       "</style>\n",
       "<table border=\"1\" class=\"dataframe\">\n",
       "  <thead>\n",
       "    <tr style=\"text-align: right;\">\n",
       "      <th></th>\n",
       "      <th>EIXO</th>\n",
       "      <th>0</th>\n",
       "    </tr>\n",
       "  </thead>\n",
       "  <tbody>\n",
       "    <tr>\n",
       "      <th>0</th>\n",
       "      <td>Cidades Sustentáveis e Resilientes</td>\n",
       "      <td>298</td>\n",
       "    </tr>\n",
       "    <tr>\n",
       "      <th>1</th>\n",
       "      <td>Educação, Ciência e Tecnologia</td>\n",
       "      <td>151</td>\n",
       "    </tr>\n",
       "    <tr>\n",
       "      <th>2</th>\n",
       "      <td>Inclusão Digital e Conectividade</td>\n",
       "      <td>8</td>\n",
       "    </tr>\n",
       "    <tr>\n",
       "      <th>3</th>\n",
       "      <td>Infraestrutura Social e Inclusiva</td>\n",
       "      <td>10</td>\n",
       "    </tr>\n",
       "    <tr>\n",
       "      <th>4</th>\n",
       "      <td>Saúde</td>\n",
       "      <td>24</td>\n",
       "    </tr>\n",
       "    <tr>\n",
       "      <th>5</th>\n",
       "      <td>Transição e Segurança Energética</td>\n",
       "      <td>55</td>\n",
       "    </tr>\n",
       "    <tr>\n",
       "      <th>6</th>\n",
       "      <td>Transporte Eficiente e Sustentável</td>\n",
       "      <td>11</td>\n",
       "    </tr>\n",
       "    <tr>\n",
       "      <th>7</th>\n",
       "      <td>Água para Todos</td>\n",
       "      <td>17</td>\n",
       "    </tr>\n",
       "  </tbody>\n",
       "</table>\n",
       "</div>"
      ],
      "text/plain": [
       "                                 EIXO    0\n",
       "0  Cidades Sustentáveis e Resilientes  298\n",
       "1      Educação, Ciência e Tecnologia  151\n",
       "2    Inclusão Digital e Conectividade    8\n",
       "3   Infraestrutura Social e Inclusiva   10\n",
       "4                               Saúde   24\n",
       "5    Transição e Segurança Energética   55\n",
       "6  Transporte Eficiente e Sustentável   11\n",
       "7                     Água para Todos   17"
      ]
     },
     "execution_count": 11,
     "metadata": {},
     "output_type": "execute_result"
    }
   ],
   "source": [
    "npac.loc[npac.UF==\"CE\"].groupby('EIXO').size().reset_index()"
   ]
  },
  {
   "cell_type": "code",
   "execution_count": 12,
   "metadata": {
    "colab": {
     "base_uri": "https://localhost:8080/",
     "height": 300
    },
    "executionInfo": {
     "elapsed": 903,
     "status": "ok",
     "timestamp": 1693309095996,
     "user": {
      "displayName": "ALEXANDRE RIBEIRO CAJAZEIRA RAMOS",
      "userId": "15502956855817658112"
     },
     "user_tz": 180
    },
    "id": "ludn-opDhZ2d",
    "outputId": "6773f2bd-7392-47ab-e7b4-e191b8b7b9af"
   },
   "outputs": [
    {
     "data": {
      "text/html": [
       "<div>\n",
       "<style scoped>\n",
       "    .dataframe tbody tr th:only-of-type {\n",
       "        vertical-align: middle;\n",
       "    }\n",
       "\n",
       "    .dataframe tbody tr th {\n",
       "        vertical-align: top;\n",
       "    }\n",
       "\n",
       "    .dataframe thead th {\n",
       "        text-align: right;\n",
       "    }\n",
       "</style>\n",
       "<table border=\"1\" class=\"dataframe\">\n",
       "  <thead>\n",
       "    <tr style=\"text-align: right;\">\n",
       "      <th></th>\n",
       "      <th>EIXO</th>\n",
       "      <th>0</th>\n",
       "    </tr>\n",
       "  </thead>\n",
       "  <tbody>\n",
       "    <tr>\n",
       "      <th>0</th>\n",
       "      <td>Cidades Sustentáveis e Resilientes</td>\n",
       "      <td>298</td>\n",
       "    </tr>\n",
       "    <tr>\n",
       "      <th>1</th>\n",
       "      <td>Educação, Ciência e Tecnologia</td>\n",
       "      <td>151</td>\n",
       "    </tr>\n",
       "    <tr>\n",
       "      <th>2</th>\n",
       "      <td>Inclusão Digital e Conectividade</td>\n",
       "      <td>9</td>\n",
       "    </tr>\n",
       "    <tr>\n",
       "      <th>3</th>\n",
       "      <td>Infraestrutura Social e Inclusiva</td>\n",
       "      <td>10</td>\n",
       "    </tr>\n",
       "    <tr>\n",
       "      <th>4</th>\n",
       "      <td>Saúde</td>\n",
       "      <td>24</td>\n",
       "    </tr>\n",
       "    <tr>\n",
       "      <th>5</th>\n",
       "      <td>Transição e Segurança Energética</td>\n",
       "      <td>57</td>\n",
       "    </tr>\n",
       "    <tr>\n",
       "      <th>6</th>\n",
       "      <td>Transporte Eficiente e Sustentável</td>\n",
       "      <td>15</td>\n",
       "    </tr>\n",
       "    <tr>\n",
       "      <th>7</th>\n",
       "      <td>Água para Todos</td>\n",
       "      <td>22</td>\n",
       "    </tr>\n",
       "  </tbody>\n",
       "</table>\n",
       "</div>"
      ],
      "text/plain": [
       "                                 EIXO    0\n",
       "0  Cidades Sustentáveis e Resilientes  298\n",
       "1      Educação, Ciência e Tecnologia  151\n",
       "2    Inclusão Digital e Conectividade    9\n",
       "3   Infraestrutura Social e Inclusiva   10\n",
       "4                               Saúde   24\n",
       "5    Transição e Segurança Energética   57\n",
       "6  Transporte Eficiente e Sustentável   15\n",
       "7                     Água para Todos   22"
      ]
     },
     "execution_count": 12,
     "metadata": {},
     "output_type": "execute_result"
    }
   ],
   "source": [
    "npac.loc[npac.UF.str.contains(\"CE\")].groupby('EIXO').size().reset_index()"
   ]
  },
  {
   "cell_type": "code",
   "execution_count": 13,
   "metadata": {
    "colab": {
     "base_uri": "https://localhost:8080/",
     "height": 175
    },
    "executionInfo": {
     "elapsed": 195,
     "status": "ok",
     "timestamp": 1693309095997,
     "user": {
      "displayName": "ALEXANDRE RIBEIRO CAJAZEIRA RAMOS",
      "userId": "15502956855817658112"
     },
     "user_tz": 180
    },
    "id": "X1zCOzSXhd0y",
    "outputId": "47e084f0-8823-4abd-fd66-e8bf1e80e664"
   },
   "outputs": [
    {
     "data": {
      "text/html": [
       "<div>\n",
       "<style scoped>\n",
       "    .dataframe tbody tr th:only-of-type {\n",
       "        vertical-align: middle;\n",
       "    }\n",
       "\n",
       "    .dataframe tbody tr th {\n",
       "        vertical-align: top;\n",
       "    }\n",
       "\n",
       "    .dataframe thead th {\n",
       "        text-align: right;\n",
       "    }\n",
       "</style>\n",
       "<table border=\"1\" class=\"dataframe\">\n",
       "  <thead>\n",
       "    <tr style=\"text-align: right;\">\n",
       "      <th></th>\n",
       "      <th>EIXO</th>\n",
       "      <th>0</th>\n",
       "    </tr>\n",
       "  </thead>\n",
       "  <tbody>\n",
       "    <tr>\n",
       "      <th>0</th>\n",
       "      <td>Inclusão Digital e Conectividade</td>\n",
       "      <td>1</td>\n",
       "    </tr>\n",
       "    <tr>\n",
       "      <th>1</th>\n",
       "      <td>Transição e Segurança Energética</td>\n",
       "      <td>2</td>\n",
       "    </tr>\n",
       "    <tr>\n",
       "      <th>2</th>\n",
       "      <td>Transporte Eficiente e Sustentável</td>\n",
       "      <td>4</td>\n",
       "    </tr>\n",
       "    <tr>\n",
       "      <th>3</th>\n",
       "      <td>Água para Todos</td>\n",
       "      <td>5</td>\n",
       "    </tr>\n",
       "  </tbody>\n",
       "</table>\n",
       "</div>"
      ],
      "text/plain": [
       "                                 EIXO  0\n",
       "0    Inclusão Digital e Conectividade  1\n",
       "1    Transição e Segurança Energética  2\n",
       "2  Transporte Eficiente e Sustentável  4\n",
       "3                     Água para Todos  5"
      ]
     },
     "execution_count": 13,
     "metadata": {},
     "output_type": "execute_result"
    }
   ],
   "source": [
    "npac.loc[(npac.UF.str.contains(\"CE\")) & (npac.UF!=\"CE\")].groupby('EIXO').size().reset_index()"
   ]
  },
  {
   "cell_type": "code",
   "execution_count": 14,
   "metadata": {
    "executionInfo": {
     "elapsed": 190,
     "status": "ok",
     "timestamp": 1693309095997,
     "user": {
      "displayName": "ALEXANDRE RIBEIRO CAJAZEIRA RAMOS",
      "userId": "15502956855817658112"
     },
     "user_tz": 180
    },
    "id": "uDHGN4pKaydv"
   },
   "outputs": [],
   "source": [
    "resumo_eixo_subeixo = npac.groupby(['EIXO','SUBEIXO','UF']).size().reset_index()\n",
    "resumo_eixo_subeixo.columns = ['Eixo','Subeixo','UF','Nº de Obras']\n",
    "resumo_eixo_subeixo\n",
    "resumo_eixo_subeixo.to_csv('resumo_eixo_subeixo_uf.csv', index=False)"
   ]
  },
  {
   "cell_type": "code",
   "execution_count": 15,
   "metadata": {
    "colab": {
     "base_uri": "https://localhost:8080/",
     "height": 424
    },
    "executionInfo": {
     "elapsed": 22,
     "status": "ok",
     "timestamp": 1693312214708,
     "user": {
      "displayName": "ALEXANDRE RIBEIRO CAJAZEIRA RAMOS",
      "userId": "15502956855817658112"
     },
     "user_tz": 180
    },
    "id": "ZpS4kTr_vWSZ",
    "outputId": "79657189-67c8-4862-b4e1-c287f3fef5f2"
   },
   "outputs": [
    {
     "data": {
      "text/html": [
       "<div>\n",
       "<style scoped>\n",
       "    .dataframe tbody tr th:only-of-type {\n",
       "        vertical-align: middle;\n",
       "    }\n",
       "\n",
       "    .dataframe tbody tr th {\n",
       "        vertical-align: top;\n",
       "    }\n",
       "\n",
       "    .dataframe thead th {\n",
       "        text-align: right;\n",
       "    }\n",
       "</style>\n",
       "<table border=\"1\" class=\"dataframe\">\n",
       "  <thead>\n",
       "    <tr style=\"text-align: right;\">\n",
       "      <th></th>\n",
       "      <th>UF</th>\n",
       "      <th>EIXO</th>\n",
       "      <th>0</th>\n",
       "      <th>COD</th>\n",
       "      <th>NOME</th>\n",
       "      <th>SIGLA</th>\n",
       "      <th>REGIAO</th>\n",
       "    </tr>\n",
       "  </thead>\n",
       "  <tbody>\n",
       "    <tr>\n",
       "      <th>0</th>\n",
       "      <td>AC</td>\n",
       "      <td>Cidades Sustentáveis e Resilientes</td>\n",
       "      <td>17</td>\n",
       "      <td>12</td>\n",
       "      <td>Acre</td>\n",
       "      <td>AC</td>\n",
       "      <td>Norte</td>\n",
       "    </tr>\n",
       "    <tr>\n",
       "      <th>1</th>\n",
       "      <td>AC</td>\n",
       "      <td>Educação, Ciência e Tecnologia</td>\n",
       "      <td>22</td>\n",
       "      <td>12</td>\n",
       "      <td>Acre</td>\n",
       "      <td>AC</td>\n",
       "      <td>Norte</td>\n",
       "    </tr>\n",
       "    <tr>\n",
       "      <th>2</th>\n",
       "      <td>AC</td>\n",
       "      <td>Inclusão Digital e Conectividade</td>\n",
       "      <td>7</td>\n",
       "      <td>12</td>\n",
       "      <td>Acre</td>\n",
       "      <td>AC</td>\n",
       "      <td>Norte</td>\n",
       "    </tr>\n",
       "    <tr>\n",
       "      <th>3</th>\n",
       "      <td>AC</td>\n",
       "      <td>Infraestrutura Social e Inclusiva</td>\n",
       "      <td>1</td>\n",
       "      <td>12</td>\n",
       "      <td>Acre</td>\n",
       "      <td>AC</td>\n",
       "      <td>Norte</td>\n",
       "    </tr>\n",
       "    <tr>\n",
       "      <th>4</th>\n",
       "      <td>AC</td>\n",
       "      <td>Saúde</td>\n",
       "      <td>8</td>\n",
       "      <td>12</td>\n",
       "      <td>Acre</td>\n",
       "      <td>AC</td>\n",
       "      <td>Norte</td>\n",
       "    </tr>\n",
       "    <tr>\n",
       "      <th>...</th>\n",
       "      <td>...</td>\n",
       "      <td>...</td>\n",
       "      <td>...</td>\n",
       "      <td>...</td>\n",
       "      <td>...</td>\n",
       "      <td>...</td>\n",
       "      <td>...</td>\n",
       "    </tr>\n",
       "    <tr>\n",
       "      <th>200</th>\n",
       "      <td>TO</td>\n",
       "      <td>Inclusão Digital e Conectividade</td>\n",
       "      <td>7</td>\n",
       "      <td>17</td>\n",
       "      <td>Tocantins</td>\n",
       "      <td>TO</td>\n",
       "      <td>Norte</td>\n",
       "    </tr>\n",
       "    <tr>\n",
       "      <th>201</th>\n",
       "      <td>TO</td>\n",
       "      <td>Saúde</td>\n",
       "      <td>7</td>\n",
       "      <td>17</td>\n",
       "      <td>Tocantins</td>\n",
       "      <td>TO</td>\n",
       "      <td>Norte</td>\n",
       "    </tr>\n",
       "    <tr>\n",
       "      <th>202</th>\n",
       "      <td>TO</td>\n",
       "      <td>Transição e Segurança Energética</td>\n",
       "      <td>1</td>\n",
       "      <td>17</td>\n",
       "      <td>Tocantins</td>\n",
       "      <td>TO</td>\n",
       "      <td>Norte</td>\n",
       "    </tr>\n",
       "    <tr>\n",
       "      <th>203</th>\n",
       "      <td>TO</td>\n",
       "      <td>Transporte Eficiente e Sustentável</td>\n",
       "      <td>8</td>\n",
       "      <td>17</td>\n",
       "      <td>Tocantins</td>\n",
       "      <td>TO</td>\n",
       "      <td>Norte</td>\n",
       "    </tr>\n",
       "    <tr>\n",
       "      <th>204</th>\n",
       "      <td>TO</td>\n",
       "      <td>Água para Todos</td>\n",
       "      <td>5</td>\n",
       "      <td>17</td>\n",
       "      <td>Tocantins</td>\n",
       "      <td>TO</td>\n",
       "      <td>Norte</td>\n",
       "    </tr>\n",
       "  </tbody>\n",
       "</table>\n",
       "<p>205 rows × 7 columns</p>\n",
       "</div>"
      ],
      "text/plain": [
       "     UF                                EIXO   0  COD       NOME SIGLA REGIAO\n",
       "0    AC  Cidades Sustentáveis e Resilientes  17   12       Acre    AC  Norte\n",
       "1    AC      Educação, Ciência e Tecnologia  22   12       Acre    AC  Norte\n",
       "2    AC    Inclusão Digital e Conectividade   7   12       Acre    AC  Norte\n",
       "3    AC   Infraestrutura Social e Inclusiva   1   12       Acre    AC  Norte\n",
       "4    AC                               Saúde   8   12       Acre    AC  Norte\n",
       "..   ..                                 ...  ..  ...        ...   ...    ...\n",
       "200  TO    Inclusão Digital e Conectividade   7   17  Tocantins    TO  Norte\n",
       "201  TO                               Saúde   7   17  Tocantins    TO  Norte\n",
       "202  TO    Transição e Segurança Energética   1   17  Tocantins    TO  Norte\n",
       "203  TO  Transporte Eficiente e Sustentável   8   17  Tocantins    TO  Norte\n",
       "204  TO                     Água para Todos   5   17  Tocantins    TO  Norte\n",
       "\n",
       "[205 rows x 7 columns]"
      ]
     },
     "execution_count": 15,
     "metadata": {},
     "output_type": "execute_result"
    }
   ],
   "source": [
    "# obras_uf = npac.loc[~((npac.UF.str.contains('/')) | (npac.UF.str.contains(' '))) & (npac.UF != \"Nacional\")].groupby(['UF']).size().reset_index()\n",
    "# obras_uf['EIXO'] = 'Todos os eixos'\n",
    "obras_eixos_uf = npac.loc[~((npac.UF.str.contains('/')) | (npac.UF.str.contains(' '))) & (npac.UF != \"Nacional\")].groupby(['UF','EIXO']).size().reset_index()\n",
    "\n",
    "# obras_eixos_uf = pd.concat([obras_uf,obras_eixos_uf])\n",
    "# obras_eixos_uf.columns = ['UF','Qtd','Eixo']\n",
    "obras_eixos_uf = pd.merge(obras_eixos_uf, codigos_rg_uf, left_on='UF', right_on=\"SIGLA\")\n",
    "obras_eixos_uf.to_csv('obras_eixos_uf.csv', index=False)\n",
    "obras_eixos_uf"
   ]
  },
  {
   "cell_type": "code",
   "execution_count": 16,
   "metadata": {
    "colab": {
     "base_uri": "https://localhost:8080/"
    },
    "executionInfo": {
     "elapsed": 3,
     "status": "ok",
     "timestamp": 1693312239105,
     "user": {
      "displayName": "ALEXANDRE RIBEIRO CAJAZEIRA RAMOS",
      "userId": "15502956855817658112"
     },
     "user_tz": 180
    },
    "id": "YFINVg6EPR6y",
    "outputId": "a30d57d0-f9ee-4d45-c68a-09c65a115153"
   },
   "outputs": [
    {
     "data": {
      "text/plain": [
       "REGIAO\n",
       "Centro-Oeste    1080\n",
       "Nordeste        4337\n",
       "Norte           1245\n",
       "Sudeste         3617\n",
       "Sul             1995\n",
       "Name: 0, dtype: int64"
      ]
     },
     "execution_count": 16,
     "metadata": {},
     "output_type": "execute_result"
    }
   ],
   "source": [
    "obras_eixos_uf.groupby('REGIAO')[0].sum()"
   ]
  },
  {
   "cell_type": "code",
   "execution_count": 17,
   "metadata": {
    "colab": {
     "base_uri": "https://localhost:8080/",
     "height": 896
    },
    "executionInfo": {
     "elapsed": 791,
     "status": "ok",
     "timestamp": 1693312674661,
     "user": {
      "displayName": "ALEXANDRE RIBEIRO CAJAZEIRA RAMOS",
      "userId": "15502956855817658112"
     },
     "user_tz": 180
    },
    "id": "cJgJ6XJXGAi1",
    "outputId": "61f8dc16-19c8-4d48-c1e0-1fe6cd19ca7f"
   },
   "outputs": [
    {
     "data": {
      "text/html": [
       "<div>\n",
       "<style scoped>\n",
       "    .dataframe tbody tr th:only-of-type {\n",
       "        vertical-align: middle;\n",
       "    }\n",
       "\n",
       "    .dataframe tbody tr th {\n",
       "        vertical-align: top;\n",
       "    }\n",
       "\n",
       "    .dataframe thead th {\n",
       "        text-align: right;\n",
       "    }\n",
       "</style>\n",
       "<table border=\"1\" class=\"dataframe\">\n",
       "  <thead>\n",
       "    <tr style=\"text-align: right;\">\n",
       "      <th></th>\n",
       "      <th>COD</th>\n",
       "      <th>NOME</th>\n",
       "      <th>SIGLA</th>\n",
       "      <th>REGIAO</th>\n",
       "    </tr>\n",
       "  </thead>\n",
       "  <tbody>\n",
       "    <tr>\n",
       "      <th>1</th>\n",
       "      <td>12</td>\n",
       "      <td>Acre</td>\n",
       "      <td>AC</td>\n",
       "      <td>Norte</td>\n",
       "    </tr>\n",
       "    <tr>\n",
       "      <th>13</th>\n",
       "      <td>27</td>\n",
       "      <td>Alagoas</td>\n",
       "      <td>AL</td>\n",
       "      <td>Nordeste</td>\n",
       "    </tr>\n",
       "    <tr>\n",
       "      <th>2</th>\n",
       "      <td>13</td>\n",
       "      <td>Amazonas</td>\n",
       "      <td>AM</td>\n",
       "      <td>Norte</td>\n",
       "    </tr>\n",
       "    <tr>\n",
       "      <th>5</th>\n",
       "      <td>16</td>\n",
       "      <td>Amapá</td>\n",
       "      <td>AP</td>\n",
       "      <td>Norte</td>\n",
       "    </tr>\n",
       "    <tr>\n",
       "      <th>15</th>\n",
       "      <td>29</td>\n",
       "      <td>Bahia</td>\n",
       "      <td>BA</td>\n",
       "      <td>Nordeste</td>\n",
       "    </tr>\n",
       "    <tr>\n",
       "      <th>9</th>\n",
       "      <td>23</td>\n",
       "      <td>Ceará</td>\n",
       "      <td>CE</td>\n",
       "      <td>Nordeste</td>\n",
       "    </tr>\n",
       "    <tr>\n",
       "      <th>26</th>\n",
       "      <td>53</td>\n",
       "      <td>Distrito Federal</td>\n",
       "      <td>DF</td>\n",
       "      <td>Centro-Oeste</td>\n",
       "    </tr>\n",
       "    <tr>\n",
       "      <th>17</th>\n",
       "      <td>32</td>\n",
       "      <td>Espírito Santo</td>\n",
       "      <td>ES</td>\n",
       "      <td>Sudeste</td>\n",
       "    </tr>\n",
       "    <tr>\n",
       "      <th>25</th>\n",
       "      <td>52</td>\n",
       "      <td>Goiás</td>\n",
       "      <td>GO</td>\n",
       "      <td>Centro-Oeste</td>\n",
       "    </tr>\n",
       "    <tr>\n",
       "      <th>7</th>\n",
       "      <td>21</td>\n",
       "      <td>Maranhão</td>\n",
       "      <td>MA</td>\n",
       "      <td>Nordeste</td>\n",
       "    </tr>\n",
       "    <tr>\n",
       "      <th>16</th>\n",
       "      <td>31</td>\n",
       "      <td>Minas Gerais</td>\n",
       "      <td>MG</td>\n",
       "      <td>Sudeste</td>\n",
       "    </tr>\n",
       "    <tr>\n",
       "      <th>23</th>\n",
       "      <td>50</td>\n",
       "      <td>Mato Grosso do Sul</td>\n",
       "      <td>MS</td>\n",
       "      <td>Centro-Oeste</td>\n",
       "    </tr>\n",
       "    <tr>\n",
       "      <th>24</th>\n",
       "      <td>51</td>\n",
       "      <td>Mato Grosso</td>\n",
       "      <td>MT</td>\n",
       "      <td>Centro-Oeste</td>\n",
       "    </tr>\n",
       "    <tr>\n",
       "      <th>4</th>\n",
       "      <td>15</td>\n",
       "      <td>Pará</td>\n",
       "      <td>PA</td>\n",
       "      <td>Norte</td>\n",
       "    </tr>\n",
       "    <tr>\n",
       "      <th>11</th>\n",
       "      <td>25</td>\n",
       "      <td>Paraíba</td>\n",
       "      <td>PB</td>\n",
       "      <td>Nordeste</td>\n",
       "    </tr>\n",
       "    <tr>\n",
       "      <th>12</th>\n",
       "      <td>26</td>\n",
       "      <td>Pernambuco</td>\n",
       "      <td>PE</td>\n",
       "      <td>Nordeste</td>\n",
       "    </tr>\n",
       "    <tr>\n",
       "      <th>8</th>\n",
       "      <td>22</td>\n",
       "      <td>Piauí</td>\n",
       "      <td>PI</td>\n",
       "      <td>Nordeste</td>\n",
       "    </tr>\n",
       "    <tr>\n",
       "      <th>20</th>\n",
       "      <td>41</td>\n",
       "      <td>Paraná</td>\n",
       "      <td>PR</td>\n",
       "      <td>Sul</td>\n",
       "    </tr>\n",
       "    <tr>\n",
       "      <th>18</th>\n",
       "      <td>33</td>\n",
       "      <td>Rio de Janeiro</td>\n",
       "      <td>RJ</td>\n",
       "      <td>Sudeste</td>\n",
       "    </tr>\n",
       "    <tr>\n",
       "      <th>10</th>\n",
       "      <td>24</td>\n",
       "      <td>Rio Grande do Norte</td>\n",
       "      <td>RN</td>\n",
       "      <td>Nordeste</td>\n",
       "    </tr>\n",
       "    <tr>\n",
       "      <th>0</th>\n",
       "      <td>11</td>\n",
       "      <td>Rondônia</td>\n",
       "      <td>RO</td>\n",
       "      <td>Norte</td>\n",
       "    </tr>\n",
       "    <tr>\n",
       "      <th>3</th>\n",
       "      <td>14</td>\n",
       "      <td>Roraima</td>\n",
       "      <td>RR</td>\n",
       "      <td>Norte</td>\n",
       "    </tr>\n",
       "    <tr>\n",
       "      <th>22</th>\n",
       "      <td>43</td>\n",
       "      <td>Rio Grande do Sul</td>\n",
       "      <td>RS</td>\n",
       "      <td>Sul</td>\n",
       "    </tr>\n",
       "    <tr>\n",
       "      <th>21</th>\n",
       "      <td>42</td>\n",
       "      <td>Santa Catarina</td>\n",
       "      <td>SC</td>\n",
       "      <td>Sul</td>\n",
       "    </tr>\n",
       "    <tr>\n",
       "      <th>14</th>\n",
       "      <td>28</td>\n",
       "      <td>Sergipe</td>\n",
       "      <td>SE</td>\n",
       "      <td>Nordeste</td>\n",
       "    </tr>\n",
       "    <tr>\n",
       "      <th>19</th>\n",
       "      <td>35</td>\n",
       "      <td>São Paulo</td>\n",
       "      <td>SP</td>\n",
       "      <td>Sudeste</td>\n",
       "    </tr>\n",
       "    <tr>\n",
       "      <th>6</th>\n",
       "      <td>17</td>\n",
       "      <td>Tocantins</td>\n",
       "      <td>TO</td>\n",
       "      <td>Norte</td>\n",
       "    </tr>\n",
       "  </tbody>\n",
       "</table>\n",
       "</div>"
      ],
      "text/plain": [
       "    COD                 NOME SIGLA        REGIAO\n",
       "1    12                 Acre    AC         Norte\n",
       "13   27              Alagoas    AL      Nordeste\n",
       "2    13             Amazonas    AM         Norte\n",
       "5    16                Amapá    AP         Norte\n",
       "15   29                Bahia    BA      Nordeste\n",
       "9    23                Ceará    CE      Nordeste\n",
       "26   53     Distrito Federal    DF  Centro-Oeste\n",
       "17   32       Espírito Santo    ES       Sudeste\n",
       "25   52                Goiás    GO  Centro-Oeste\n",
       "7    21             Maranhão    MA      Nordeste\n",
       "16   31         Minas Gerais    MG       Sudeste\n",
       "23   50   Mato Grosso do Sul    MS  Centro-Oeste\n",
       "24   51          Mato Grosso    MT  Centro-Oeste\n",
       "4    15                 Pará    PA         Norte\n",
       "11   25              Paraíba    PB      Nordeste\n",
       "12   26           Pernambuco    PE      Nordeste\n",
       "8    22                Piauí    PI      Nordeste\n",
       "20   41               Paraná    PR           Sul\n",
       "18   33       Rio de Janeiro    RJ       Sudeste\n",
       "10   24  Rio Grande do Norte    RN      Nordeste\n",
       "0    11             Rondônia    RO         Norte\n",
       "3    14              Roraima    RR         Norte\n",
       "22   43    Rio Grande do Sul    RS           Sul\n",
       "21   42       Santa Catarina    SC           Sul\n",
       "14   28              Sergipe    SE      Nordeste\n",
       "19   35            São Paulo    SP       Sudeste\n",
       "6    17            Tocantins    TO         Norte"
      ]
     },
     "execution_count": 17,
     "metadata": {},
     "output_type": "execute_result"
    }
   ],
   "source": [
    "codigos_rg_uf.sort_values(by='SIGLA')"
   ]
  },
  {
   "cell_type": "code",
   "execution_count": 18,
   "metadata": {
    "executionInfo": {
     "elapsed": 165,
     "status": "ok",
     "timestamp": 1693309095999,
     "user": {
      "displayName": "ALEXANDRE RIBEIRO CAJAZEIRA RAMOS",
      "userId": "15502956855817658112"
     },
     "user_tz": 180
    },
    "id": "QCM9XnZSaF0m"
   },
   "outputs": [],
   "source": [
    "#Existem Obras em diferentes estados/municípios"
   ]
  },
  {
   "cell_type": "code",
   "execution_count": 19,
   "metadata": {
    "colab": {
     "base_uri": "https://localhost:8080/",
     "height": 112
    },
    "executionInfo": {
     "elapsed": 162,
     "status": "ok",
     "timestamp": 1693309095999,
     "user": {
      "displayName": "ALEXANDRE RIBEIRO CAJAZEIRA RAMOS",
      "userId": "15502956855817658112"
     },
     "user_tz": 180
    },
    "id": "8lp6mNquaPUo",
    "outputId": "4de5b329-a976-47ee-9d92-cda8f94c5302"
   },
   "outputs": [
    {
     "data": {
      "text/html": [
       "<div>\n",
       "<style scoped>\n",
       "    .dataframe tbody tr th:only-of-type {\n",
       "        vertical-align: middle;\n",
       "    }\n",
       "\n",
       "    .dataframe tbody tr th {\n",
       "        vertical-align: top;\n",
       "    }\n",
       "\n",
       "    .dataframe thead th {\n",
       "        text-align: right;\n",
       "    }\n",
       "</style>\n",
       "<table border=\"1\" class=\"dataframe\">\n",
       "  <thead>\n",
       "    <tr style=\"text-align: right;\">\n",
       "      <th></th>\n",
       "      <th>index</th>\n",
       "      <th>UF</th>\n",
       "    </tr>\n",
       "  </thead>\n",
       "  <tbody>\n",
       "    <tr>\n",
       "      <th>115</th>\n",
       "      <td>AC/RO</td>\n",
       "      <td>1</td>\n",
       "    </tr>\n",
       "    <tr>\n",
       "      <th>116</th>\n",
       "      <td>CE/PE</td>\n",
       "      <td>1</td>\n",
       "    </tr>\n",
       "  </tbody>\n",
       "</table>\n",
       "</div>"
      ],
      "text/plain": [
       "      index  UF\n",
       "115   AC/RO   1\n",
       "116  CE/PE    1"
      ]
     },
     "execution_count": 19,
     "metadata": {},
     "output_type": "execute_result"
    }
   ],
   "source": [
    "npac.UF.value_counts().reset_index().tail(2)"
   ]
  },
  {
   "cell_type": "code",
   "execution_count": 20,
   "metadata": {
    "colab": {
     "base_uri": "https://localhost:8080/"
    },
    "executionInfo": {
     "elapsed": 152,
     "status": "ok",
     "timestamp": 1693309096000,
     "user": {
      "displayName": "ALEXANDRE RIBEIRO CAJAZEIRA RAMOS",
      "userId": "15502956855817658112"
     },
     "user_tz": 180
    },
    "id": "fgpcDf4eZuWt",
    "outputId": "ba3d5a0c-8285-440e-ef53-b368512f9ea9"
   },
   "outputs": [
    {
     "data": {
      "text/plain": [
       "6310"
      ]
     },
     "execution_count": 20,
     "metadata": {},
     "output_type": "execute_result"
    }
   ],
   "source": [
    "npac.MUNICÍPIO.nunique()"
   ]
  },
  {
   "cell_type": "code",
   "execution_count": 21,
   "metadata": {
    "executionInfo": {
     "elapsed": 97,
     "status": "ok",
     "timestamp": 1693309096000,
     "user": {
      "displayName": "ALEXANDRE RIBEIRO CAJAZEIRA RAMOS",
      "userId": "15502956855817658112"
     },
     "user_tz": 180
    },
    "id": "T2CsBlTIZj9O"
   },
   "outputs": [],
   "source": [
    "# Cidades do Ceará:"
   ]
  },
  {
   "cell_type": "code",
   "execution_count": 22,
   "metadata": {
    "colab": {
     "base_uri": "https://localhost:8080/",
     "height": 892
    },
    "executionInfo": {
     "elapsed": 97,
     "status": "ok",
     "timestamp": 1693309096001,
     "user": {
      "displayName": "ALEXANDRE RIBEIRO CAJAZEIRA RAMOS",
      "userId": "15502956855817658112"
     },
     "user_tz": 180
    },
    "id": "tiblcymPZoJi",
    "outputId": "b031f496-8763-4bca-e9c9-7a52edf8a2cd"
   },
   "outputs": [
    {
     "data": {
      "text/html": [
       "<div>\n",
       "<style scoped>\n",
       "    .dataframe tbody tr th:only-of-type {\n",
       "        vertical-align: middle;\n",
       "    }\n",
       "\n",
       "    .dataframe tbody tr th {\n",
       "        vertical-align: top;\n",
       "    }\n",
       "\n",
       "    .dataframe thead th {\n",
       "        text-align: right;\n",
       "    }\n",
       "</style>\n",
       "<table border=\"1\" class=\"dataframe\">\n",
       "  <thead>\n",
       "    <tr style=\"text-align: right;\">\n",
       "      <th></th>\n",
       "      <th>EIXO</th>\n",
       "      <th>SUBEIXO</th>\n",
       "      <th>UF</th>\n",
       "      <th>MUNICÍPIO</th>\n",
       "      <th>NOME</th>\n",
       "      <th>MODALIDADE</th>\n",
       "      <th>OBRA, PROJETO, ESTUDO, EQUIPAMENTO</th>\n",
       "    </tr>\n",
       "  </thead>\n",
       "  <tbody>\n",
       "    <tr>\n",
       "      <th>9</th>\n",
       "      <td>Água para Todos</td>\n",
       "      <td>Abastecimento de água</td>\n",
       "      <td>CE</td>\n",
       "      <td>Camocim</td>\n",
       "      <td>Ampliação do SAA​​​</td>\n",
       "      <td>Retomada, conclusão e novas obras</td>\n",
       "      <td>Obra</td>\n",
       "    </tr>\n",
       "    <tr>\n",
       "      <th>10</th>\n",
       "      <td>Água para Todos</td>\n",
       "      <td>Abastecimento de água</td>\n",
       "      <td>CE</td>\n",
       "      <td>Caucaia</td>\n",
       "      <td>Implantação do SAA da Vila e Praias do Cumbuco</td>\n",
       "      <td>Retomada, conclusão e novas obras</td>\n",
       "      <td>Obra</td>\n",
       "    </tr>\n",
       "    <tr>\n",
       "      <th>11</th>\n",
       "      <td>Água para Todos</td>\n",
       "      <td>Abastecimento de água</td>\n",
       "      <td>CE</td>\n",
       "      <td>Caucaia</td>\n",
       "      <td>Ampliação do SAA</td>\n",
       "      <td>Retomada, conclusão e novas obras</td>\n",
       "      <td>Obra</td>\n",
       "    </tr>\n",
       "    <tr>\n",
       "      <th>12</th>\n",
       "      <td>Água para Todos</td>\n",
       "      <td>Abastecimento de água</td>\n",
       "      <td>CE</td>\n",
       "      <td>Jijoca de Jericoacoara</td>\n",
       "      <td>Ampliação do SAA da Vila de Jericoacoara</td>\n",
       "      <td>Retomada, conclusão e novas obras</td>\n",
       "      <td>Obra</td>\n",
       "    </tr>\n",
       "    <tr>\n",
       "      <th>13</th>\n",
       "      <td>Água para Todos</td>\n",
       "      <td>Abastecimento de água</td>\n",
       "      <td>CE</td>\n",
       "      <td>São Benedito, Ubajara, Graça, Carnaubal, Pacuj...</td>\n",
       "      <td>Ampliação do SAA Ibiapaba</td>\n",
       "      <td>Retomada, conclusão e novas obras</td>\n",
       "      <td>Obra</td>\n",
       "    </tr>\n",
       "    <tr>\n",
       "      <th>...</th>\n",
       "      <td>...</td>\n",
       "      <td>...</td>\n",
       "      <td>...</td>\n",
       "      <td>...</td>\n",
       "      <td>...</td>\n",
       "      <td>...</td>\n",
       "      <td>...</td>\n",
       "    </tr>\n",
       "    <tr>\n",
       "      <th>11488</th>\n",
       "      <td>Transição e Segurança Energética</td>\n",
       "      <td>Geração de Energia</td>\n",
       "      <td>CE</td>\n",
       "      <td>Icapuí​</td>\n",
       "      <td>Mutamba IV - 33 MW​</td>\n",
       "      <td>Eólica​</td>\n",
       "      <td>Obra</td>\n",
       "    </tr>\n",
       "    <tr>\n",
       "      <th>11949</th>\n",
       "      <td>Transporte Eficiente e Sustentável</td>\n",
       "      <td>Aeroportos</td>\n",
       "      <td>CE</td>\n",
       "      <td>Aracati</td>\n",
       "      <td>Implantação de cerca operacional</td>\n",
       "      <td>Retomada e Conclusão</td>\n",
       "      <td>Obra</td>\n",
       "    </tr>\n",
       "    <tr>\n",
       "      <th>11950</th>\n",
       "      <td>Transporte Eficiente e Sustentável</td>\n",
       "      <td>Aeroportos</td>\n",
       "      <td>CE</td>\n",
       "      <td>Juazeiro do Norte</td>\n",
       "      <td>Juazeiro do Norte</td>\n",
       "      <td>Concessões existentes</td>\n",
       "      <td>Obra</td>\n",
       "    </tr>\n",
       "    <tr>\n",
       "      <th>12134</th>\n",
       "      <td>Transporte Eficiente e Sustentável</td>\n",
       "      <td>Portos</td>\n",
       "      <td>CE</td>\n",
       "      <td>Fortaleza</td>\n",
       "      <td>Fortaleza/CE: ARRENDAMENTO - TERGRAN TERMINAIS...</td>\n",
       "      <td>Arrendamento</td>\n",
       "      <td>obra</td>\n",
       "    </tr>\n",
       "    <tr>\n",
       "      <th>12135</th>\n",
       "      <td>Transporte Eficiente e Sustentável</td>\n",
       "      <td>Portos</td>\n",
       "      <td>CE</td>\n",
       "      <td>Mucuripe</td>\n",
       "      <td>Fortaleza/CE: NOVO ARRENDAMENTO - TMP Fortaleza</td>\n",
       "      <td>Novo Arrendamento</td>\n",
       "      <td>obra</td>\n",
       "    </tr>\n",
       "  </tbody>\n",
       "</table>\n",
       "<p>546 rows × 7 columns</p>\n",
       "</div>"
      ],
      "text/plain": [
       "                                     EIXO                SUBEIXO  UF  \\\n",
       "9                         Água para Todos  Abastecimento de água  CE   \n",
       "10                        Água para Todos  Abastecimento de água  CE   \n",
       "11                        Água para Todos  Abastecimento de água  CE   \n",
       "12                        Água para Todos  Abastecimento de água  CE   \n",
       "13                        Água para Todos  Abastecimento de água  CE   \n",
       "...                                   ...                    ...  ..   \n",
       "11488    Transição e Segurança Energética     Geração de Energia  CE   \n",
       "11949  Transporte Eficiente e Sustentável             Aeroportos  CE   \n",
       "11950  Transporte Eficiente e Sustentável             Aeroportos  CE   \n",
       "12134  Transporte Eficiente e Sustentável                 Portos  CE   \n",
       "12135  Transporte Eficiente e Sustentável                 Portos  CE   \n",
       "\n",
       "                                               MUNICÍPIO  \\\n",
       "9                                                Camocim   \n",
       "10                                               Caucaia   \n",
       "11                                               Caucaia   \n",
       "12                                Jijoca de Jericoacoara   \n",
       "13     São Benedito, Ubajara, Graça, Carnaubal, Pacuj...   \n",
       "...                                                  ...   \n",
       "11488                                            Icapuí​   \n",
       "11949                                            Aracati   \n",
       "11950                                  Juazeiro do Norte   \n",
       "12134                                          Fortaleza   \n",
       "12135                                           Mucuripe   \n",
       "\n",
       "                                                    NOME  \\\n",
       "9                                    Ampliação do SAA​​​   \n",
       "10        Implantação do SAA da Vila e Praias do Cumbuco   \n",
       "11                                      Ampliação do SAA   \n",
       "12              Ampliação do SAA da Vila de Jericoacoara   \n",
       "13                             Ampliação do SAA Ibiapaba   \n",
       "...                                                  ...   \n",
       "11488                                Mutamba IV - 33 MW​   \n",
       "11949                 Implantação de cerca operacional     \n",
       "11950                                  Juazeiro do Norte   \n",
       "12134  Fortaleza/CE: ARRENDAMENTO - TERGRAN TERMINAIS...   \n",
       "12135    Fortaleza/CE: NOVO ARRENDAMENTO - TMP Fortaleza   \n",
       "\n",
       "                              MODALIDADE OBRA, PROJETO, ESTUDO, EQUIPAMENTO  \n",
       "9      Retomada, conclusão e novas obras                               Obra  \n",
       "10     Retomada, conclusão e novas obras                               Obra  \n",
       "11     Retomada, conclusão e novas obras                               Obra  \n",
       "12     Retomada, conclusão e novas obras                               Obra  \n",
       "13     Retomada, conclusão e novas obras                               Obra  \n",
       "...                                  ...                                ...  \n",
       "11488                            Eólica​                               Obra  \n",
       "11949               Retomada e Conclusão                               Obra  \n",
       "11950              Concessões existentes                               Obra  \n",
       "12134                       Arrendamento                               obra  \n",
       "12135                  Novo Arrendamento                               obra  \n",
       "\n",
       "[546 rows x 7 columns]"
      ]
     },
     "execution_count": 22,
     "metadata": {},
     "output_type": "execute_result"
    }
   ],
   "source": [
    "npac.loc[(npac.UF == \"CE\") & (npac['MUNICÍPIO'] != '-')]"
   ]
  },
  {
   "cell_type": "code",
   "execution_count": 23,
   "metadata": {
    "executionInfo": {
     "elapsed": 94,
     "status": "ok",
     "timestamp": 1693309096001,
     "user": {
      "displayName": "ALEXANDRE RIBEIRO CAJAZEIRA RAMOS",
      "userId": "15502956855817658112"
     },
     "user_tz": 180
    },
    "id": "vkhSl921yL4_"
   },
   "outputs": [],
   "source": [
    "resumo_ce = npac.loc[(npac.UF == \"CE\") & (~npac['MUNICÍPIO'].str.contains(','))].copy()\n",
    "eixos = list(resumo_ce.EIXO.unique())\n",
    "\n",
    "resumo_ce['MUNICÍPIO'] = resumo_ce['MUNICÍPIO'].apply(lambda x: x.title().replace(' Do ',' do ').replace('\\u200b',''))\n",
    "resumo_ce = resumo_ce.groupby(['MUNICÍPIO','EIXO']).size().reset_index()\n",
    "\n",
    "resumo_ce.columns = ['Cidade','Eixo','Qtd']\n",
    "resumo_ce = resumo_ce.pivot(index='Cidade',columns='Eixo').fillna(0).astype(int).reset_index().droplevel(level=0, axis=1)\n",
    "resumo_ce.columns = ['Cidade'] + eixos\n",
    "\n",
    "resumo_ce['Todos os Eixos'] = resumo_ce[eixos].sum(axis=1)"
   ]
  },
  {
   "cell_type": "code",
   "execution_count": 24,
   "metadata": {
    "colab": {
     "base_uri": "https://localhost:8080/",
     "height": 153
    },
    "executionInfo": {
     "elapsed": 94,
     "status": "ok",
     "timestamp": 1693309096002,
     "user": {
      "displayName": "ALEXANDRE RIBEIRO CAJAZEIRA RAMOS",
      "userId": "15502956855817658112"
     },
     "user_tz": 180
    },
    "id": "jndTCVNeyftp",
    "outputId": "3c1a085f-83dc-4272-b2bf-43c42a9390fd"
   },
   "outputs": [
    {
     "data": {
      "text/html": [
       "<div>\n",
       "<style scoped>\n",
       "    .dataframe tbody tr th:only-of-type {\n",
       "        vertical-align: middle;\n",
       "    }\n",
       "\n",
       "    .dataframe tbody tr th {\n",
       "        vertical-align: top;\n",
       "    }\n",
       "\n",
       "    .dataframe thead th {\n",
       "        text-align: right;\n",
       "    }\n",
       "</style>\n",
       "<table border=\"1\" class=\"dataframe\">\n",
       "  <thead>\n",
       "    <tr style=\"text-align: right;\">\n",
       "      <th></th>\n",
       "      <th>Cidade</th>\n",
       "      <th>Água para Todos</th>\n",
       "      <th>Cidades Sustentáveis e Resilientes</th>\n",
       "      <th>Educação, Ciência e Tecnologia</th>\n",
       "      <th>Inclusão Digital e Conectividade</th>\n",
       "      <th>Infraestrutura Social e Inclusiva</th>\n",
       "      <th>Saúde</th>\n",
       "      <th>Transição e Segurança Energética</th>\n",
       "      <th>Transporte Eficiente e Sustentável</th>\n",
       "      <th>Todos os Eixos</th>\n",
       "    </tr>\n",
       "  </thead>\n",
       "  <tbody>\n",
       "    <tr>\n",
       "      <th>40</th>\n",
       "      <td>Caucaia</td>\n",
       "      <td>5</td>\n",
       "      <td>1</td>\n",
       "      <td>0</td>\n",
       "      <td>0</td>\n",
       "      <td>1</td>\n",
       "      <td>1</td>\n",
       "      <td>0</td>\n",
       "      <td>2</td>\n",
       "      <td>10</td>\n",
       "    </tr>\n",
       "  </tbody>\n",
       "</table>\n",
       "</div>"
      ],
      "text/plain": [
       "     Cidade  Água para Todos  Cidades Sustentáveis e Resilientes  \\\n",
       "40  Caucaia                5                                   1   \n",
       "\n",
       "    Educação, Ciência e Tecnologia  Inclusão Digital e Conectividade  \\\n",
       "40                               0                                 0   \n",
       "\n",
       "    Infraestrutura Social e Inclusiva  Saúde  \\\n",
       "40                                  1      1   \n",
       "\n",
       "    Transição e Segurança Energética  Transporte Eficiente e Sustentável  \\\n",
       "40                                 0                                   2   \n",
       "\n",
       "    Todos os Eixos  \n",
       "40              10  "
      ]
     },
     "execution_count": 24,
     "metadata": {},
     "output_type": "execute_result"
    }
   ],
   "source": [
    "resumo_ce.loc[resumo_ce.Cidade.str.contains('Cauc')]"
   ]
  },
  {
   "cell_type": "code",
   "execution_count": 26,
   "metadata": {
    "colab": {
     "base_uri": "https://localhost:8080/",
     "height": 320
    },
    "executionInfo": {
     "elapsed": 5415,
     "status": "ok",
     "timestamp": 1693309101326,
     "user": {
      "displayName": "ALEXANDRE RIBEIRO CAJAZEIRA RAMOS",
      "userId": "15502956855817658112"
     },
     "user_tz": 180
    },
    "id": "lkOQEkarzhNH",
    "outputId": "c9ec6430-11c9-4d45-b9d0-e0312a78e124"
   },
   "outputs": [
    {
     "data": {
      "text/html": [
       "<div>\n",
       "<style scoped>\n",
       "    .dataframe tbody tr th:only-of-type {\n",
       "        vertical-align: middle;\n",
       "    }\n",
       "\n",
       "    .dataframe tbody tr th {\n",
       "        vertical-align: top;\n",
       "    }\n",
       "\n",
       "    .dataframe thead th {\n",
       "        text-align: right;\n",
       "    }\n",
       "</style>\n",
       "<table border=\"1\" class=\"dataframe\">\n",
       "  <thead>\n",
       "    <tr style=\"text-align: right;\">\n",
       "      <th></th>\n",
       "      <th>Cidade</th>\n",
       "      <th>População em 2010</th>\n",
       "      <th>População 2010 (Alterações de Limites até 2022)</th>\n",
       "      <th>População em 2022</th>\n",
       "      <th>cod_mun</th>\n",
       "      <th>Variação (%)</th>\n",
       "      <th>Resultado</th>\n",
       "      <th>geometry</th>\n",
       "    </tr>\n",
       "  </thead>\n",
       "  <tbody>\n",
       "    <tr>\n",
       "      <th>0</th>\n",
       "      <td>Abaiara</td>\n",
       "      <td>10496</td>\n",
       "      <td>10456</td>\n",
       "      <td>10038</td>\n",
       "      <td>101.0</td>\n",
       "      <td>-4.00</td>\n",
       "      <td>Diminuiu</td>\n",
       "      <td>POLYGON ((-38.96990 -7.42730, -38.96900 -7.424...</td>\n",
       "    </tr>\n",
       "    <tr>\n",
       "      <th>1</th>\n",
       "      <td>Acarape</td>\n",
       "      <td>15338</td>\n",
       "      <td>13661</td>\n",
       "      <td>14027</td>\n",
       "      <td>150.0</td>\n",
       "      <td>2.68</td>\n",
       "      <td>Aumentou</td>\n",
       "      <td>POLYGON ((-38.61880 -4.16350, -38.61990 -4.163...</td>\n",
       "    </tr>\n",
       "  </tbody>\n",
       "</table>\n",
       "</div>"
      ],
      "text/plain": [
       "    Cidade  População em 2010  \\\n",
       "0  Abaiara              10496   \n",
       "1  Acarape              15338   \n",
       "\n",
       "   População 2010 (Alterações de Limites até 2022)  População em 2022  \\\n",
       "0                                            10456              10038   \n",
       "1                                            13661              14027   \n",
       "\n",
       "   cod_mun  Variação (%) Resultado  \\\n",
       "0    101.0         -4.00  Diminuiu   \n",
       "1    150.0          2.68  Aumentou   \n",
       "\n",
       "                                            geometry  \n",
       "0  POLYGON ((-38.96990 -7.42730, -38.96900 -7.424...  \n",
       "1  POLYGON ((-38.61880 -4.16350, -38.61990 -4.163...  "
      ]
     },
     "execution_count": 26,
     "metadata": {},
     "output_type": "execute_result"
    }
   ],
   "source": [
    "path_geom = 'bases_de_dados/gdf_cidades_ce.geojson'\n",
    "gdf_cidades = gpd.read_file(path_geom)\n",
    "gdf_cidades.head(2)"
   ]
  },
  {
   "cell_type": "code",
   "execution_count": 27,
   "metadata": {
    "executionInfo": {
     "elapsed": 124,
     "status": "ok",
     "timestamp": 1693309101327,
     "user": {
      "displayName": "ALEXANDRE RIBEIRO CAJAZEIRA RAMOS",
      "userId": "15502956855817658112"
     },
     "user_tz": 180
    },
    "id": "qONUSDpY1rXy"
   },
   "outputs": [],
   "source": [
    "merge=pd.merge(resumo_ce,gdf_cidades, on='Cidade', how='outer', indicator=True)"
   ]
  },
  {
   "cell_type": "code",
   "execution_count": 28,
   "metadata": {
    "colab": {
     "base_uri": "https://localhost:8080/"
    },
    "executionInfo": {
     "elapsed": 122,
     "status": "ok",
     "timestamp": 1693309101328,
     "user": {
      "displayName": "ALEXANDRE RIBEIRO CAJAZEIRA RAMOS",
      "userId": "15502956855817658112"
     },
     "user_tz": 180
    },
    "id": "s6VM6Qlc1iey",
    "outputId": "0ea2037a-b2f8-417a-e46e-bf64c9db7d21"
   },
   "outputs": [
    {
     "data": {
      "text/plain": [
       "both          165\n",
       "right_only     19\n",
       "left_only      10\n",
       "Name: _merge, dtype: int64"
      ]
     },
     "execution_count": 28,
     "metadata": {},
     "output_type": "execute_result"
    }
   ],
   "source": [
    "merge._merge.value_counts()"
   ]
  },
  {
   "cell_type": "code",
   "execution_count": 29,
   "metadata": {
    "colab": {
     "base_uri": "https://localhost:8080/"
    },
    "executionInfo": {
     "elapsed": 111,
     "status": "ok",
     "timestamp": 1693309101328,
     "user": {
      "displayName": "ALEXANDRE RIBEIRO CAJAZEIRA RAMOS",
      "userId": "15502956855817658112"
     },
     "user_tz": 180
    },
    "id": "kODuRjcj31YY",
    "outputId": "4173147e-4942-4791-8d60-83dba82c37cf"
   },
   "outputs": [
    {
     "data": {
      "text/plain": [
       "True"
      ]
     },
     "execution_count": 29,
     "metadata": {},
     "output_type": "execute_result"
    }
   ],
   "source": [
    "gdf_cidades.loc[gdf_cidades.Cidade.str.contains('Caucai')].iloc[0].Cidade == resumo_ce.loc[resumo_ce.Cidade.str.contains('Caucai')].iloc[0].Cidade"
   ]
  },
  {
   "cell_type": "code",
   "execution_count": 30,
   "metadata": {
    "colab": {
     "base_uri": "https://localhost:8080/"
    },
    "executionInfo": {
     "elapsed": 103,
     "status": "ok",
     "timestamp": 1693309101329,
     "user": {
      "displayName": "ALEXANDRE RIBEIRO CAJAZEIRA RAMOS",
      "userId": "15502956855817658112"
     },
     "user_tz": 180
    },
    "id": "AaqzBm0v4AfC",
    "outputId": "9b903cac-bb44-40a1-db31-0f73e639d7c9"
   },
   "outputs": [
    {
     "name": "stdout",
     "output_type": "stream",
     "text": [
      "Caucaia\n"
     ]
    }
   ],
   "source": [
    "print(resumo_ce.loc[resumo_ce.Cidade.str.contains('Caucai')].iloc[0].Cidade)"
   ]
  },
  {
   "cell_type": "code",
   "execution_count": null,
   "metadata": {
    "executionInfo": {
     "elapsed": 94,
     "status": "ok",
     "timestamp": 1693309101329,
     "user": {
      "displayName": "ALEXANDRE RIBEIRO CAJAZEIRA RAMOS",
      "userId": "15502956855817658112"
     },
     "user_tz": 180
    },
    "id": "2NPlgLP3g0bi"
   },
   "outputs": [],
   "source": []
  },
  {
   "cell_type": "code",
   "execution_count": 31,
   "metadata": {
    "colab": {
     "base_uri": "https://localhost:8080/",
     "height": 153
    },
    "executionInfo": {
     "elapsed": 94,
     "status": "ok",
     "timestamp": 1693309101330,
     "user": {
      "displayName": "ALEXANDRE RIBEIRO CAJAZEIRA RAMOS",
      "userId": "15502956855817658112"
     },
     "user_tz": 180
    },
    "id": "tzO5Hpu8g0Zv",
    "outputId": "a9338e01-d99b-4a55-8a2b-2f63c4cea117"
   },
   "outputs": [
    {
     "data": {
      "text/html": [
       "<div>\n",
       "<style scoped>\n",
       "    .dataframe tbody tr th:only-of-type {\n",
       "        vertical-align: middle;\n",
       "    }\n",
       "\n",
       "    .dataframe tbody tr th {\n",
       "        vertical-align: top;\n",
       "    }\n",
       "\n",
       "    .dataframe thead th {\n",
       "        text-align: right;\n",
       "    }\n",
       "</style>\n",
       "<table border=\"1\" class=\"dataframe\">\n",
       "  <thead>\n",
       "    <tr style=\"text-align: right;\">\n",
       "      <th></th>\n",
       "      <th>Cidade</th>\n",
       "      <th>Água para Todos</th>\n",
       "      <th>Cidades Sustentáveis e Resilientes</th>\n",
       "      <th>Educação, Ciência e Tecnologia</th>\n",
       "      <th>Inclusão Digital e Conectividade</th>\n",
       "      <th>Infraestrutura Social e Inclusiva</th>\n",
       "      <th>Saúde</th>\n",
       "      <th>Transição e Segurança Energética</th>\n",
       "      <th>Transporte Eficiente e Sustentável</th>\n",
       "      <th>Todos os Eixos</th>\n",
       "    </tr>\n",
       "  </thead>\n",
       "  <tbody>\n",
       "    <tr>\n",
       "      <th>40</th>\n",
       "      <td>Caucaia</td>\n",
       "      <td>5</td>\n",
       "      <td>1</td>\n",
       "      <td>0</td>\n",
       "      <td>0</td>\n",
       "      <td>1</td>\n",
       "      <td>1</td>\n",
       "      <td>0</td>\n",
       "      <td>2</td>\n",
       "      <td>10</td>\n",
       "    </tr>\n",
       "  </tbody>\n",
       "</table>\n",
       "</div>"
      ],
      "text/plain": [
       "     Cidade  Água para Todos  Cidades Sustentáveis e Resilientes  \\\n",
       "40  Caucaia                5                                   1   \n",
       "\n",
       "    Educação, Ciência e Tecnologia  Inclusão Digital e Conectividade  \\\n",
       "40                               0                                 0   \n",
       "\n",
       "    Infraestrutura Social e Inclusiva  Saúde  \\\n",
       "40                                  1      1   \n",
       "\n",
       "    Transição e Segurança Energética  Transporte Eficiente e Sustentável  \\\n",
       "40                                 0                                   2   \n",
       "\n",
       "    Todos os Eixos  \n",
       "40              10  "
      ]
     },
     "execution_count": 31,
     "metadata": {},
     "output_type": "execute_result"
    }
   ],
   "source": [
    "resumo_ce.loc[resumo_ce.Cidade.str.contains('Caucaia') ]"
   ]
  },
  {
   "cell_type": "code",
   "execution_count": 32,
   "metadata": {
    "colab": {
     "base_uri": "https://localhost:8080/",
     "height": 363
    },
    "executionInfo": {
     "elapsed": 90,
     "status": "ok",
     "timestamp": 1693309101330,
     "user": {
      "displayName": "ALEXANDRE RIBEIRO CAJAZEIRA RAMOS",
      "userId": "15502956855817658112"
     },
     "user_tz": 180
    },
    "id": "eKlNSGx02zXz",
    "outputId": "76572711-a715-4803-e9c5-fc220726fd77"
   },
   "outputs": [
    {
     "data": {
      "text/html": [
       "<div>\n",
       "<style scoped>\n",
       "    .dataframe tbody tr th:only-of-type {\n",
       "        vertical-align: middle;\n",
       "    }\n",
       "\n",
       "    .dataframe tbody tr th {\n",
       "        vertical-align: top;\n",
       "    }\n",
       "\n",
       "    .dataframe thead th {\n",
       "        text-align: right;\n",
       "    }\n",
       "</style>\n",
       "<table border=\"1\" class=\"dataframe\">\n",
       "  <thead>\n",
       "    <tr style=\"text-align: right;\">\n",
       "      <th></th>\n",
       "      <th>Cidade</th>\n",
       "      <th>Todos os Eixos</th>\n",
       "      <th>geometry</th>\n",
       "    </tr>\n",
       "  </thead>\n",
       "  <tbody>\n",
       "    <tr>\n",
       "      <th>0</th>\n",
       "      <td>-</td>\n",
       "      <td>28.0</td>\n",
       "      <td>None</td>\n",
       "    </tr>\n",
       "    <tr>\n",
       "      <th>43</th>\n",
       "      <td>Colatina</td>\n",
       "      <td>1.0</td>\n",
       "      <td>None</td>\n",
       "    </tr>\n",
       "    <tr>\n",
       "      <th>47</th>\n",
       "      <td>Cristino Castro</td>\n",
       "      <td>2.0</td>\n",
       "      <td>None</td>\n",
       "    </tr>\n",
       "    <tr>\n",
       "      <th>52</th>\n",
       "      <td>Ererê</td>\n",
       "      <td>1.0</td>\n",
       "      <td>None</td>\n",
       "    </tr>\n",
       "    <tr>\n",
       "      <th>80</th>\n",
       "      <td>Itapagé</td>\n",
       "      <td>1.0</td>\n",
       "      <td>None</td>\n",
       "    </tr>\n",
       "    <tr>\n",
       "      <th>86</th>\n",
       "      <td>Jaguaretana</td>\n",
       "      <td>5.0</td>\n",
       "      <td>None</td>\n",
       "    </tr>\n",
       "    <tr>\n",
       "      <th>91</th>\n",
       "      <td>Jijoca De Jericoacoara</td>\n",
       "      <td>3.0</td>\n",
       "      <td>None</td>\n",
       "    </tr>\n",
       "    <tr>\n",
       "      <th>94</th>\n",
       "      <td>Lavras Da Mangabeira</td>\n",
       "      <td>2.0</td>\n",
       "      <td>None</td>\n",
       "    </tr>\n",
       "    <tr>\n",
       "      <th>113</th>\n",
       "      <td>Mucuripe</td>\n",
       "      <td>1.0</td>\n",
       "      <td>None</td>\n",
       "    </tr>\n",
       "    <tr>\n",
       "      <th>125</th>\n",
       "      <td>Panorama</td>\n",
       "      <td>5.0</td>\n",
       "      <td>None</td>\n",
       "    </tr>\n",
       "  </tbody>\n",
       "</table>\n",
       "</div>"
      ],
      "text/plain": [
       "                     Cidade  Todos os Eixos geometry\n",
       "0                         -            28.0     None\n",
       "43                 Colatina             1.0     None\n",
       "47          Cristino Castro             2.0     None\n",
       "52                    Ererê             1.0     None\n",
       "80                  Itapagé             1.0     None\n",
       "86              Jaguaretana             5.0     None\n",
       "91   Jijoca De Jericoacoara             3.0     None\n",
       "94     Lavras Da Mangabeira             2.0     None\n",
       "113                Mucuripe             1.0     None\n",
       "125                Panorama             5.0     None"
      ]
     },
     "execution_count": 32,
     "metadata": {},
     "output_type": "execute_result"
    }
   ],
   "source": [
    "merge.loc[merge._merge == 'left_only'][['Cidade','Todos os Eixos', 'geometry']]"
   ]
  },
  {
   "cell_type": "code",
   "execution_count": 33,
   "metadata": {
    "colab": {
     "base_uri": "https://localhost:8080/",
     "height": 645
    },
    "executionInfo": {
     "elapsed": 88,
     "status": "ok",
     "timestamp": 1693309101331,
     "user": {
      "displayName": "ALEXANDRE RIBEIRO CAJAZEIRA RAMOS",
      "userId": "15502956855817658112"
     },
     "user_tz": 180
    },
    "id": "JjQuDAPU226X",
    "outputId": "fabfd064-76ff-4ed4-96cb-31c6e39d5e36"
   },
   "outputs": [
    {
     "data": {
      "text/html": [
       "<div>\n",
       "<style scoped>\n",
       "    .dataframe tbody tr th:only-of-type {\n",
       "        vertical-align: middle;\n",
       "    }\n",
       "\n",
       "    .dataframe tbody tr th {\n",
       "        vertical-align: top;\n",
       "    }\n",
       "\n",
       "    .dataframe thead th {\n",
       "        text-align: right;\n",
       "    }\n",
       "</style>\n",
       "<table border=\"1\" class=\"dataframe\">\n",
       "  <thead>\n",
       "    <tr style=\"text-align: right;\">\n",
       "      <th></th>\n",
       "      <th>Cidade</th>\n",
       "      <th>Todos os Eixos</th>\n",
       "      <th>geometry</th>\n",
       "    </tr>\n",
       "  </thead>\n",
       "  <tbody>\n",
       "    <tr>\n",
       "      <th>175</th>\n",
       "      <td>Altaneira</td>\n",
       "      <td>NaN</td>\n",
       "      <td>POLYGON ((-39.68060 -7.01610, -39.67800 -7.011...</td>\n",
       "    </tr>\n",
       "    <tr>\n",
       "      <th>176</th>\n",
       "      <td>Aratuba</td>\n",
       "      <td>NaN</td>\n",
       "      <td>POLYGON ((-38.97040 -4.36820, -38.97360 -4.362...</td>\n",
       "    </tr>\n",
       "    <tr>\n",
       "      <th>177</th>\n",
       "      <td>Arneiroz</td>\n",
       "      <td>NaN</td>\n",
       "      <td>POLYGON ((-39.88860 -6.09740, -39.89370 -6.096...</td>\n",
       "    </tr>\n",
       "    <tr>\n",
       "      <th>178</th>\n",
       "      <td>Catarina</td>\n",
       "      <td>NaN</td>\n",
       "      <td>POLYGON ((-39.78930 -6.20650, -39.79460 -6.208...</td>\n",
       "    </tr>\n",
       "    <tr>\n",
       "      <th>179</th>\n",
       "      <td>Cedro</td>\n",
       "      <td>NaN</td>\n",
       "      <td>POLYGON ((-38.92160 -6.56670, -38.92170 -6.565...</td>\n",
       "    </tr>\n",
       "    <tr>\n",
       "      <th>180</th>\n",
       "      <td>Choró</td>\n",
       "      <td>NaN</td>\n",
       "      <td>POLYGON ((-38.97810 -4.66790, -38.97690 -4.665...</td>\n",
       "    </tr>\n",
       "    <tr>\n",
       "      <th>181</th>\n",
       "      <td>Forquilha</td>\n",
       "      <td>NaN</td>\n",
       "      <td>POLYGON ((-40.18870 -3.95870, -40.18880 -3.956...</td>\n",
       "    </tr>\n",
       "    <tr>\n",
       "      <th>182</th>\n",
       "      <td>Guaramiranga</td>\n",
       "      <td>NaN</td>\n",
       "      <td>POLYGON ((-38.89120 -4.27700, -38.89100 -4.273...</td>\n",
       "    </tr>\n",
       "    <tr>\n",
       "      <th>183</th>\n",
       "      <td>Hidrolândia</td>\n",
       "      <td>NaN</td>\n",
       "      <td>POLYGON ((-40.25440 -4.47210, -40.25430 -4.469...</td>\n",
       "    </tr>\n",
       "    <tr>\n",
       "      <th>184</th>\n",
       "      <td>Itaiçaba</td>\n",
       "      <td>NaN</td>\n",
       "      <td>POLYGON ((-37.61630 -4.71800, -37.64480 -4.716...</td>\n",
       "    </tr>\n",
       "    <tr>\n",
       "      <th>185</th>\n",
       "      <td>Itapajé</td>\n",
       "      <td>NaN</td>\n",
       "      <td>POLYGON ((-39.59640 -3.62660, -39.59960 -3.626...</td>\n",
       "    </tr>\n",
       "    <tr>\n",
       "      <th>186</th>\n",
       "      <td>Jaguaribara</td>\n",
       "      <td>NaN</td>\n",
       "      <td>POLYGON ((-38.47460 -5.77900, -38.47720 -5.777...</td>\n",
       "    </tr>\n",
       "    <tr>\n",
       "      <th>187</th>\n",
       "      <td>Jijoca de Jericoacoara</td>\n",
       "      <td>NaN</td>\n",
       "      <td>POLYGON ((-40.45500 -2.80340, -40.45940 -2.802...</td>\n",
       "    </tr>\n",
       "    <tr>\n",
       "      <th>188</th>\n",
       "      <td>Lavras da Mangabeira</td>\n",
       "      <td>NaN</td>\n",
       "      <td>POLYGON ((-38.87660 -6.58160, -38.87980 -6.581...</td>\n",
       "    </tr>\n",
       "    <tr>\n",
       "      <th>189</th>\n",
       "      <td>Moraújo</td>\n",
       "      <td>NaN</td>\n",
       "      <td>POLYGON ((-40.56170 -3.40650, -40.56260 -3.407...</td>\n",
       "    </tr>\n",
       "    <tr>\n",
       "      <th>190</th>\n",
       "      <td>Nova Olinda</td>\n",
       "      <td>NaN</td>\n",
       "      <td>POLYGON ((-39.57970 -7.04380, -39.63240 -7.022...</td>\n",
       "    </tr>\n",
       "    <tr>\n",
       "      <th>191</th>\n",
       "      <td>Parambu</td>\n",
       "      <td>NaN</td>\n",
       "      <td>POLYGON ((-40.40520 -6.31250, -40.40900 -6.316...</td>\n",
       "    </tr>\n",
       "    <tr>\n",
       "      <th>192</th>\n",
       "      <td>Senador Sá</td>\n",
       "      <td>NaN</td>\n",
       "      <td>POLYGON ((-40.34070 -3.29010, -40.34220 -3.289...</td>\n",
       "    </tr>\n",
       "    <tr>\n",
       "      <th>193</th>\n",
       "      <td>Tarrafas</td>\n",
       "      <td>NaN</td>\n",
       "      <td>POLYGON ((-39.73740 -6.63320, -39.73830 -6.631...</td>\n",
       "    </tr>\n",
       "  </tbody>\n",
       "</table>\n",
       "</div>"
      ],
      "text/plain": [
       "                     Cidade  Todos os Eixos  \\\n",
       "175               Altaneira             NaN   \n",
       "176                 Aratuba             NaN   \n",
       "177                Arneiroz             NaN   \n",
       "178                Catarina             NaN   \n",
       "179                   Cedro             NaN   \n",
       "180                   Choró             NaN   \n",
       "181               Forquilha             NaN   \n",
       "182            Guaramiranga             NaN   \n",
       "183             Hidrolândia             NaN   \n",
       "184                Itaiçaba             NaN   \n",
       "185                 Itapajé             NaN   \n",
       "186             Jaguaribara             NaN   \n",
       "187  Jijoca de Jericoacoara             NaN   \n",
       "188    Lavras da Mangabeira             NaN   \n",
       "189                 Moraújo             NaN   \n",
       "190             Nova Olinda             NaN   \n",
       "191                 Parambu             NaN   \n",
       "192              Senador Sá             NaN   \n",
       "193                Tarrafas             NaN   \n",
       "\n",
       "                                              geometry  \n",
       "175  POLYGON ((-39.68060 -7.01610, -39.67800 -7.011...  \n",
       "176  POLYGON ((-38.97040 -4.36820, -38.97360 -4.362...  \n",
       "177  POLYGON ((-39.88860 -6.09740, -39.89370 -6.096...  \n",
       "178  POLYGON ((-39.78930 -6.20650, -39.79460 -6.208...  \n",
       "179  POLYGON ((-38.92160 -6.56670, -38.92170 -6.565...  \n",
       "180  POLYGON ((-38.97810 -4.66790, -38.97690 -4.665...  \n",
       "181  POLYGON ((-40.18870 -3.95870, -40.18880 -3.956...  \n",
       "182  POLYGON ((-38.89120 -4.27700, -38.89100 -4.273...  \n",
       "183  POLYGON ((-40.25440 -4.47210, -40.25430 -4.469...  \n",
       "184  POLYGON ((-37.61630 -4.71800, -37.64480 -4.716...  \n",
       "185  POLYGON ((-39.59640 -3.62660, -39.59960 -3.626...  \n",
       "186  POLYGON ((-38.47460 -5.77900, -38.47720 -5.777...  \n",
       "187  POLYGON ((-40.45500 -2.80340, -40.45940 -2.802...  \n",
       "188  POLYGON ((-38.87660 -6.58160, -38.87980 -6.581...  \n",
       "189  POLYGON ((-40.56170 -3.40650, -40.56260 -3.407...  \n",
       "190  POLYGON ((-39.57970 -7.04380, -39.63240 -7.022...  \n",
       "191  POLYGON ((-40.40520 -6.31250, -40.40900 -6.316...  \n",
       "192  POLYGON ((-40.34070 -3.29010, -40.34220 -3.289...  \n",
       "193  POLYGON ((-39.73740 -6.63320, -39.73830 -6.631...  "
      ]
     },
     "execution_count": 33,
     "metadata": {},
     "output_type": "execute_result"
    }
   ],
   "source": [
    "merge.loc[merge._merge == 'right_only'][['Cidade','Todos os Eixos', 'geometry']]"
   ]
  },
  {
   "cell_type": "code",
   "execution_count": 34,
   "metadata": {
    "colab": {
     "base_uri": "https://localhost:8080/",
     "height": 170
    },
    "executionInfo": {
     "elapsed": 586,
     "status": "ok",
     "timestamp": 1693309101833,
     "user": {
      "displayName": "ALEXANDRE RIBEIRO CAJAZEIRA RAMOS",
      "userId": "15502956855817658112"
     },
     "user_tz": 180
    },
    "id": "ZJ_IpdLL3FRu",
    "outputId": "16320f35-640b-4fdc-ee87-f4b79d3413f2"
   },
   "outputs": [
    {
     "data": {
      "text/html": [
       "<div>\n",
       "<style scoped>\n",
       "    .dataframe tbody tr th:only-of-type {\n",
       "        vertical-align: middle;\n",
       "    }\n",
       "\n",
       "    .dataframe tbody tr th {\n",
       "        vertical-align: top;\n",
       "    }\n",
       "\n",
       "    .dataframe thead th {\n",
       "        text-align: right;\n",
       "    }\n",
       "</style>\n",
       "<table border=\"1\" class=\"dataframe\">\n",
       "  <thead>\n",
       "    <tr style=\"text-align: right;\">\n",
       "      <th></th>\n",
       "      <th>Cidade</th>\n",
       "      <th>Água para Todos</th>\n",
       "      <th>Cidades Sustentáveis e Resilientes</th>\n",
       "      <th>Educação, Ciência e Tecnologia</th>\n",
       "      <th>Inclusão Digital e Conectividade</th>\n",
       "      <th>Infraestrutura Social e Inclusiva</th>\n",
       "      <th>Saúde</th>\n",
       "      <th>Transição e Segurança Energética</th>\n",
       "      <th>Transporte Eficiente e Sustentável</th>\n",
       "      <th>Todos os Eixos</th>\n",
       "      <th>População em 2010</th>\n",
       "      <th>População 2010 (Alterações de Limites até 2022)</th>\n",
       "      <th>População em 2022</th>\n",
       "      <th>cod_mun</th>\n",
       "      <th>Variação (%)</th>\n",
       "      <th>Resultado</th>\n",
       "      <th>geometry</th>\n",
       "      <th>_merge</th>\n",
       "    </tr>\n",
       "  </thead>\n",
       "  <tbody>\n",
       "    <tr>\n",
       "      <th>113</th>\n",
       "      <td>Mucuripe</td>\n",
       "      <td>0.0</td>\n",
       "      <td>0.0</td>\n",
       "      <td>0.0</td>\n",
       "      <td>0.0</td>\n",
       "      <td>0.0</td>\n",
       "      <td>0.0</td>\n",
       "      <td>1.0</td>\n",
       "      <td>0.0</td>\n",
       "      <td>1.0</td>\n",
       "      <td>NaN</td>\n",
       "      <td>NaN</td>\n",
       "      <td>NaN</td>\n",
       "      <td>NaN</td>\n",
       "      <td>NaN</td>\n",
       "      <td>NaN</td>\n",
       "      <td>None</td>\n",
       "      <td>left_only</td>\n",
       "    </tr>\n",
       "  </tbody>\n",
       "</table>\n",
       "</div>"
      ],
      "text/plain": [
       "       Cidade  Água para Todos  Cidades Sustentáveis e Resilientes  \\\n",
       "113  Mucuripe              0.0                                 0.0   \n",
       "\n",
       "     Educação, Ciência e Tecnologia  Inclusão Digital e Conectividade  \\\n",
       "113                             0.0                               0.0   \n",
       "\n",
       "     Infraestrutura Social e Inclusiva  Saúde  \\\n",
       "113                                0.0    0.0   \n",
       "\n",
       "     Transição e Segurança Energética  Transporte Eficiente e Sustentável  \\\n",
       "113                               1.0                                 0.0   \n",
       "\n",
       "     Todos os Eixos  População em 2010  \\\n",
       "113             1.0                NaN   \n",
       "\n",
       "     População 2010 (Alterações de Limites até 2022)  População em 2022  \\\n",
       "113                                              NaN                NaN   \n",
       "\n",
       "     cod_mun  Variação (%) Resultado geometry     _merge  \n",
       "113      NaN           NaN       NaN     None  left_only  "
      ]
     },
     "execution_count": 34,
     "metadata": {},
     "output_type": "execute_result"
    }
   ],
   "source": [
    "merge.loc[merge.Cidade.str.contains('Mucu')]"
   ]
  },
  {
   "cell_type": "code",
   "execution_count": 35,
   "metadata": {
    "executionInfo": {
     "elapsed": 50,
     "status": "ok",
     "timestamp": 1693309101851,
     "user": {
      "displayName": "ALEXANDRE RIBEIRO CAJAZEIRA RAMOS",
      "userId": "15502956855817658112"
     },
     "user_tz": 180
    },
    "id": "UXHsMOGDuFJ7"
   },
   "outputs": [],
   "source": [
    "#Coleta eixos:"
   ]
  },
  {
   "cell_type": "code",
   "execution_count": 36,
   "metadata": {
    "executionInfo": {
     "elapsed": 50,
     "status": "ok",
     "timestamp": 1693309101853,
     "user": {
      "displayName": "ALEXANDRE RIBEIRO CAJAZEIRA RAMOS",
      "userId": "15502956855817658112"
     },
     "user_tz": 180
    },
    "id": "E5UQg7sYuHHC"
   },
   "outputs": [],
   "source": [
    "from urllib.error import HTTPError\n",
    "from urllib.error import URLError\n",
    "from bs4 import BeautifulSoup\n",
    "from urllib.request import urlopen"
   ]
  },
  {
   "cell_type": "code",
   "execution_count": 37,
   "metadata": {
    "executionInfo": {
     "elapsed": 2888,
     "status": "ok",
     "timestamp": 1693309104695,
     "user": {
      "displayName": "ALEXANDRE RIBEIRO CAJAZEIRA RAMOS",
      "userId": "15502956855817658112"
     },
     "user_tz": 180
    },
    "id": "-BkiztE0uM78"
   },
   "outputs": [],
   "source": [
    "page_info=urlopen('https://www.gov.br/casacivil/novopac')\n",
    "\n",
    "soup = BeautifulSoup(page_info, 'html.parser')\n",
    "\n",
    "eixos = soup.findAll(\"div\", {\"class\": \"cover-banner-tile tile-content\"})"
   ]
  },
  {
   "cell_type": "code",
   "execution_count": 38,
   "metadata": {
    "colab": {
     "base_uri": "https://localhost:8080/"
    },
    "executionInfo": {
     "elapsed": 59,
     "status": "ok",
     "timestamp": 1693309104696,
     "user": {
      "displayName": "ALEXANDRE RIBEIRO CAJAZEIRA RAMOS",
      "userId": "15502956855817658112"
     },
     "user_tz": 180
    },
    "id": "1jRAhPpIuheM",
    "outputId": "908626c2-e688-4ba3-ca11-0467a822d8e0"
   },
   "outputs": [
    {
     "data": {
      "text/plain": [
       "14"
      ]
     },
     "execution_count": 38,
     "metadata": {},
     "output_type": "execute_result"
    }
   ],
   "source": [
    "len(eixos)"
   ]
  },
  {
   "cell_type": "code",
   "execution_count": null,
   "metadata": {},
   "outputs": [],
   "source": []
  },
  {
   "cell_type": "code",
   "execution_count": 39,
   "metadata": {
    "executionInfo": {
     "elapsed": 20509,
     "status": "ok",
     "timestamp": 1693309125159,
     "user": {
      "displayName": "ALEXANDRE RIBEIRO CAJAZEIRA RAMOS",
      "userId": "15502956855817658112"
     },
     "user_tz": 180
    },
    "id": "V_dKhUC6ulJ4"
   },
   "outputs": [],
   "source": [
    "valores_por_eixo = []\n",
    "\n",
    "for e in eixos[4:13]:\n",
    "    link = e.findAll(\"a\")[0]['href']\n",
    "    eixo = link.replace('https://www.gov.br/casacivil/pt-br/acoes-e-programas/novo-pac/','')\n",
    "    soup_eixo = BeautifulSoup(urlopen(f'https://www.gov.br/casacivil/novopac/{eixo}'), 'html.parser')\n",
    "    \n",
    "    divs = soup_eixo.findAll(\"div\", {\"class\": \"cover-richtext-tile tile-content\"})\n",
    "    valores = []\n",
    "    for d in divs[:5]:\n",
    "        teste = str(d)\n",
    "        if \"R$\" in teste:\n",
    "            valores.append(teste.split(\"R$</span>\")[1].split(\">\")[1].split(\"</span\")[0].replace(',','.'))\n",
    "            \n",
    "    valores_por_eixo.append({\"Eixo\": eixo, \"Total\": valores[0], \"2023-2026\": valores[1], \"Pós 2026\": valores[2]})"
   ]
  },
  {
   "cell_type": "code",
   "execution_count": 40,
   "metadata": {
    "executionInfo": {
     "elapsed": 50,
     "status": "ok",
     "timestamp": 1693309125160,
     "user": {
      "displayName": "ALEXANDRE RIBEIRO CAJAZEIRA RAMOS",
      "userId": "15502956855817658112"
     },
     "user_tz": 180
    },
    "id": "WWHA_EB-6aIN"
   },
   "outputs": [],
   "source": [
    "resumo_eixos = pd.DataFrame(valores_por_eixo)\n",
    "resumo_eixos.Eixo = resumo_eixos.Eixo.apply(lambda x: x.replace('-',' ').capitalize())\n",
    "\n",
    "resumo_eixos.to_csv('resultado/valores_por_eixo.csv', index=False)"
   ]
  },
  {
   "cell_type": "code",
   "execution_count": 41,
   "metadata": {
    "colab": {
     "base_uri": "https://localhost:8080/",
     "height": 332
    },
    "executionInfo": {
     "elapsed": 49,
     "status": "ok",
     "timestamp": 1693309125160,
     "user": {
      "displayName": "ALEXANDRE RIBEIRO CAJAZEIRA RAMOS",
      "userId": "15502956855817658112"
     },
     "user_tz": 180
    },
    "id": "k7Q4EpdW6g96",
    "outputId": "a5fc22f9-c973-4a99-9542-376d358dc241"
   },
   "outputs": [
    {
     "data": {
      "text/html": [
       "<div>\n",
       "<style scoped>\n",
       "    .dataframe tbody tr th:only-of-type {\n",
       "        vertical-align: middle;\n",
       "    }\n",
       "\n",
       "    .dataframe tbody tr th {\n",
       "        vertical-align: top;\n",
       "    }\n",
       "\n",
       "    .dataframe thead th {\n",
       "        text-align: right;\n",
       "    }\n",
       "</style>\n",
       "<table border=\"1\" class=\"dataframe\">\n",
       "  <thead>\n",
       "    <tr style=\"text-align: right;\">\n",
       "      <th></th>\n",
       "      <th>Eixo</th>\n",
       "      <th>Total</th>\n",
       "      <th>2023-2026</th>\n",
       "      <th>Pós 2026</th>\n",
       "    </tr>\n",
       "  </thead>\n",
       "  <tbody>\n",
       "    <tr>\n",
       "      <th>0</th>\n",
       "      <td>Transporte eficiente e sustentavel</td>\n",
       "      <td>349.1</td>\n",
       "      <td>220.9</td>\n",
       "      <td>128.2</td>\n",
       "    </tr>\n",
       "    <tr>\n",
       "      <th>1</th>\n",
       "      <td>Infraestrutura social inclusiva</td>\n",
       "      <td>2.4</td>\n",
       "      <td>2.1</td>\n",
       "      <td>0.3</td>\n",
       "    </tr>\n",
       "    <tr>\n",
       "      <th>2</th>\n",
       "      <td>Cidades sustentaveis e resilientes</td>\n",
       "      <td>609.7</td>\n",
       "      <td>557.1</td>\n",
       "      <td>52.6</td>\n",
       "    </tr>\n",
       "    <tr>\n",
       "      <th>3</th>\n",
       "      <td>Agua para todos</td>\n",
       "      <td>30.5</td>\n",
       "      <td>25.6</td>\n",
       "      <td>4.9</td>\n",
       "    </tr>\n",
       "    <tr>\n",
       "      <th>4</th>\n",
       "      <td>Inclusao digital e conectividade</td>\n",
       "      <td>27.9</td>\n",
       "      <td>20.3</td>\n",
       "      <td>7.6</td>\n",
       "    </tr>\n",
       "    <tr>\n",
       "      <th>5</th>\n",
       "      <td>Transicao e seguranca energetica</td>\n",
       "      <td>565.4</td>\n",
       "      <td>417.5</td>\n",
       "      <td>147.9</td>\n",
       "    </tr>\n",
       "    <tr>\n",
       "      <th>6</th>\n",
       "      <td>Inovacao para a industria da defesa</td>\n",
       "      <td>52.8</td>\n",
       "      <td>27.8</td>\n",
       "      <td>25</td>\n",
       "    </tr>\n",
       "    <tr>\n",
       "      <th>7</th>\n",
       "      <td>Educacao ciencia e tecnologia</td>\n",
       "      <td>45</td>\n",
       "      <td>36.7</td>\n",
       "      <td>8.3</td>\n",
       "    </tr>\n",
       "    <tr>\n",
       "      <th>8</th>\n",
       "      <td>Saude</td>\n",
       "      <td>30.5</td>\n",
       "      <td>29.3</td>\n",
       "      <td>1.2</td>\n",
       "    </tr>\n",
       "  </tbody>\n",
       "</table>\n",
       "</div>"
      ],
      "text/plain": [
       "                                  Eixo  Total 2023-2026 Pós 2026\n",
       "0   Transporte eficiente e sustentavel  349.1     220.9    128.2\n",
       "1      Infraestrutura social inclusiva    2.4       2.1      0.3\n",
       "2   Cidades sustentaveis e resilientes  609.7     557.1     52.6\n",
       "3                      Agua para todos   30.5      25.6      4.9\n",
       "4     Inclusao digital e conectividade   27.9      20.3      7.6\n",
       "5     Transicao e seguranca energetica  565.4     417.5    147.9\n",
       "6  Inovacao para a industria da defesa   52.8      27.8       25\n",
       "7        Educacao ciencia e tecnologia     45      36.7      8.3\n",
       "8                                Saude   30.5      29.3      1.2"
      ]
     },
     "execution_count": 41,
     "metadata": {},
     "output_type": "execute_result"
    }
   ],
   "source": [
    "resumo_eixos"
   ]
  },
  {
   "cell_type": "code",
   "execution_count": 42,
   "metadata": {
    "colab": {
     "base_uri": "https://localhost:8080/"
    },
    "executionInfo": {
     "elapsed": 47,
     "status": "ok",
     "timestamp": 1693309125161,
     "user": {
      "displayName": "ALEXANDRE RIBEIRO CAJAZEIRA RAMOS",
      "userId": "15502956855817658112"
     },
     "user_tz": 180
    },
    "id": "ej7VowT2_UEl",
    "outputId": "32f37d39-691d-48cd-9fd5-cae7148b8fb5"
   },
   "outputs": [
    {
     "data": {
      "text/plain": [
       "1713.3"
      ]
     },
     "execution_count": 42,
     "metadata": {},
     "output_type": "execute_result"
    }
   ],
   "source": [
    "resumo_eixos.Total.astype(float).sum()"
   ]
  },
  {
   "cell_type": "code",
   "execution_count": 43,
   "metadata": {
    "colab": {
     "base_uri": "https://localhost:8080/"
    },
    "executionInfo": {
     "elapsed": 38,
     "status": "ok",
     "timestamp": 1693309125162,
     "user": {
      "displayName": "ALEXANDRE RIBEIRO CAJAZEIRA RAMOS",
      "userId": "15502956855817658112"
     },
     "user_tz": 180
    },
    "id": "YEZbAnmg_j3X",
    "outputId": "a99870d0-a124-4ba0-c496-2f693c7a52a8"
   },
   "outputs": [
    {
     "data": {
      "text/plain": [
       "1337.3"
      ]
     },
     "execution_count": 43,
     "metadata": {},
     "output_type": "execute_result"
    }
   ],
   "source": [
    "resumo_eixos['2023-2026'].astype(float).sum()"
   ]
  },
  {
   "cell_type": "code",
   "execution_count": 44,
   "metadata": {
    "colab": {
     "base_uri": "https://localhost:8080/"
    },
    "executionInfo": {
     "elapsed": 32,
     "status": "ok",
     "timestamp": 1693309125162,
     "user": {
      "displayName": "ALEXANDRE RIBEIRO CAJAZEIRA RAMOS",
      "userId": "15502956855817658112"
     },
     "user_tz": 180
    },
    "id": "YiFL_J1E_mD9",
    "outputId": "c7e568d4-d3f3-43f0-9234-ba765c914008"
   },
   "outputs": [
    {
     "data": {
      "text/plain": [
       "376.0"
      ]
     },
     "execution_count": 44,
     "metadata": {},
     "output_type": "execute_result"
    }
   ],
   "source": [
    "resumo_eixos['Pós 2026'].astype(float).sum()"
   ]
  },
  {
   "cell_type": "code",
   "execution_count": 45,
   "metadata": {
    "colab": {
     "base_uri": "https://localhost:8080/",
     "height": 53
    },
    "executionInfo": {
     "elapsed": 26,
     "status": "ok",
     "timestamp": 1693309127286,
     "user": {
      "displayName": "ALEXANDRE RIBEIRO CAJAZEIRA RAMOS",
      "userId": "15502956855817658112"
     },
     "user_tz": 180
    },
    "id": "ZsoB4gxnwbSz",
    "outputId": "c34a4769-54ce-480e-cbfc-3fa6ce50db6c"
   },
   "outputs": [
    {
     "data": {
      "text/html": [
       "<div>\n",
       "<style scoped>\n",
       "    .dataframe tbody tr th:only-of-type {\n",
       "        vertical-align: middle;\n",
       "    }\n",
       "\n",
       "    .dataframe tbody tr th {\n",
       "        vertical-align: top;\n",
       "    }\n",
       "\n",
       "    .dataframe thead th {\n",
       "        text-align: right;\n",
       "    }\n",
       "</style>\n",
       "<table border=\"1\" class=\"dataframe\">\n",
       "  <thead>\n",
       "    <tr style=\"text-align: right;\">\n",
       "      <th></th>\n",
       "      <th>Eixo</th>\n",
       "      <th>Total</th>\n",
       "      <th>2023-2026</th>\n",
       "      <th>Pós 2026</th>\n",
       "    </tr>\n",
       "  </thead>\n",
       "  <tbody>\n",
       "    <tr>\n",
       "      <th>0</th>\n",
       "      <td>transporte-eficiente-e-sustentavel</td>\n",
       "      <td>349.1</td>\n",
       "      <td>220.9</td>\n",
       "      <td>128.2</td>\n",
       "    </tr>\n",
       "    <tr>\n",
       "      <th>1</th>\n",
       "      <td>infraestrutura-social-inclusiva</td>\n",
       "      <td>2.4</td>\n",
       "      <td>2.1</td>\n",
       "      <td>0.3</td>\n",
       "    </tr>\n",
       "    <tr>\n",
       "      <th>2</th>\n",
       "      <td>cidades-sustentaveis-e-resilientes</td>\n",
       "      <td>609.7</td>\n",
       "      <td>557.1</td>\n",
       "      <td>52.6</td>\n",
       "    </tr>\n",
       "    <tr>\n",
       "      <th>3</th>\n",
       "      <td>agua-para-todos</td>\n",
       "      <td>30.5</td>\n",
       "      <td>25.6</td>\n",
       "      <td>4.9</td>\n",
       "    </tr>\n",
       "    <tr>\n",
       "      <th>4</th>\n",
       "      <td>inclusao-digital-e-conectividade</td>\n",
       "      <td>27.9</td>\n",
       "      <td>20.3</td>\n",
       "      <td>7.6</td>\n",
       "    </tr>\n",
       "    <tr>\n",
       "      <th>5</th>\n",
       "      <td>transicao-e-seguranca-energetica</td>\n",
       "      <td>565.4</td>\n",
       "      <td>417.5</td>\n",
       "      <td>147.9</td>\n",
       "    </tr>\n",
       "    <tr>\n",
       "      <th>6</th>\n",
       "      <td>inovacao-para-a-industria-da-defesa</td>\n",
       "      <td>52.8</td>\n",
       "      <td>27.8</td>\n",
       "      <td>25</td>\n",
       "    </tr>\n",
       "    <tr>\n",
       "      <th>7</th>\n",
       "      <td>educacao-ciencia-e-tecnologia</td>\n",
       "      <td>45</td>\n",
       "      <td>36.7</td>\n",
       "      <td>8.3</td>\n",
       "    </tr>\n",
       "    <tr>\n",
       "      <th>8</th>\n",
       "      <td>saude</td>\n",
       "      <td>30.5</td>\n",
       "      <td>29.3</td>\n",
       "      <td>1.2</td>\n",
       "    </tr>\n",
       "  </tbody>\n",
       "</table>\n",
       "</div>"
      ],
      "text/plain": [
       "                                  Eixo  Total 2023-2026 Pós 2026\n",
       "0   transporte-eficiente-e-sustentavel  349.1     220.9    128.2\n",
       "1      infraestrutura-social-inclusiva    2.4       2.1      0.3\n",
       "2   cidades-sustentaveis-e-resilientes  609.7     557.1     52.6\n",
       "3                      agua-para-todos   30.5      25.6      4.9\n",
       "4     inclusao-digital-e-conectividade   27.9      20.3      7.6\n",
       "5     transicao-e-seguranca-energetica  565.4     417.5    147.9\n",
       "6  inovacao-para-a-industria-da-defesa   52.8      27.8       25\n",
       "7        educacao-ciencia-e-tecnologia     45      36.7      8.3\n",
       "8                                saude   30.5      29.3      1.2"
      ]
     },
     "execution_count": 45,
     "metadata": {},
     "output_type": "execute_result"
    }
   ],
   "source": [
    "pd.DataFrame(valores_por_eixo)"
   ]
  },
  {
   "cell_type": "code",
   "execution_count": null,
   "metadata": {},
   "outputs": [],
   "source": []
  }
 ],
 "metadata": {
  "colab": {
   "authorship_tag": "ABX9TyO/2SHecBHCCrqFAovH35sM",
   "mount_file_id": "1QZoNjTXidEJXD8wzy7ZaeNoq7EzDQxUi",
   "provenance": []
  },
  "kernelspec": {
   "display_name": "Python 3",
   "language": "python",
   "name": "python3"
  },
  "language_info": {
   "codemirror_mode": {
    "name": "ipython",
    "version": 3
   },
   "file_extension": ".py",
   "mimetype": "text/x-python",
   "name": "python",
   "nbconvert_exporter": "python",
   "pygments_lexer": "ipython3",
   "version": "3.7.10"
  }
 },
 "nbformat": 4,
 "nbformat_minor": 1
}
