{
 "cells": [
  {
   "cell_type": "markdown",
   "metadata": {},
   "source": [
    "## Este notebook faz parte da reportagem [Terremotos no Ceará? 7 gráficos sobre os tremores de terra no Estado](https://mais.opovo.com.br/reportagens-especiais/2023/05/18/terremotos-no-ceara-7-graficos-sobre-os-tremores-de-terra-no-estado.html?collection=reportagens_de_dados)"
   ]
  },
  {
   "cell_type": "code",
   "execution_count": 1,
   "metadata": {
    "executionInfo": {
     "elapsed": 1494,
     "status": "ok",
     "timestamp": 1683649744635,
     "user": {
      "displayName": "ALEXANDRE RIBEIRO CAJAZEIRA RAMOS",
      "userId": "15502956855817658112"
     },
     "user_tz": 180
    },
    "id": "gaHUXvLx-GeQ"
   },
   "outputs": [],
   "source": [
    "import pandas as pd\n",
    "\n",
    "from urllib.error import HTTPError\n",
    "from urllib.error import URLError\n",
    "from bs4 import BeautifulSoup\n",
    "from urllib.request import urlopen"
   ]
  },
  {
   "cell_type": "code",
   "execution_count": 2,
   "metadata": {
    "executionInfo": {
     "elapsed": 4679,
     "status": "ok",
     "timestamp": 1683649749303,
     "user": {
      "displayName": "ALEXANDRE RIBEIRO CAJAZEIRA RAMOS",
      "userId": "15502956855817658112"
     },
     "user_tz": 180
    },
    "id": "EqVsWQs2-610"
   },
   "outputs": [],
   "source": [
    "page_info=urlopen('https://labsis.ufrn.br/boletins')\n",
    "\n",
    "soup = BeautifulSoup(page_info, 'html.parser')\n",
    "\n",
    "tables = soup.findAll(\"table\")"
   ]
  },
  {
   "cell_type": "code",
   "execution_count": 3,
   "metadata": {
    "executionInfo": {
     "elapsed": 1667,
     "status": "ok",
     "timestamp": 1683649750954,
     "user": {
      "displayName": "ALEXANDRE RIBEIRO CAJAZEIRA RAMOS",
      "userId": "15502956855817658112"
     },
     "user_tz": 180
    },
    "id": "QYfQiSeo_GEi"
   },
   "outputs": [],
   "source": [
    "tabelas_validas = []\n",
    "dataframes = []\n",
    "for table in tables:\n",
    "  if table.findParent(\"table\") is None:\n",
    "    tabelas_validas.append(table)\n",
    "    dataframes.append(pd.concat(pd.read_html(str(table))).iloc[1:,:])"
   ]
  },
  {
   "cell_type": "code",
   "execution_count": 4,
   "metadata": {
    "executionInfo": {
     "elapsed": 76,
     "status": "ok",
     "timestamp": 1683649750955,
     "user": {
      "displayName": "ALEXANDRE RIBEIRO CAJAZEIRA RAMOS",
      "userId": "15502956855817658112"
     },
     "user_tz": 180
    },
    "id": "t4hOZbue_JBr"
   },
   "outputs": [],
   "source": [
    "df = pd.concat(dataframes)"
   ]
  },
  {
   "cell_type": "code",
   "execution_count": 5,
   "metadata": {
    "executionInfo": {
     "elapsed": 77,
     "status": "ok",
     "timestamp": 1683649750957,
     "user": {
      "displayName": "ALEXANDRE RIBEIRO CAJAZEIRA RAMOS",
      "userId": "15502956855817658112"
     },
     "user_tz": 180
    },
    "id": "UjHVIz2T_fgF"
   },
   "outputs": [],
   "source": [
    "df = df.loc[df[0] != 'Data']\n",
    "df.columns = ['Data','Hora','Magnitude','Coordenadas','Local']"
   ]
  },
  {
   "cell_type": "code",
   "execution_count": 6,
   "metadata": {
    "colab": {
     "base_uri": "https://localhost:8080/",
     "height": 423
    },
    "executionInfo": {
     "elapsed": 80,
     "status": "ok",
     "timestamp": 1683649750961,
     "user": {
      "displayName": "ALEXANDRE RIBEIRO CAJAZEIRA RAMOS",
      "userId": "15502956855817658112"
     },
     "user_tz": 180
    },
    "id": "A4CCHr8-AT2g",
    "outputId": "8d277aaa-e4c0-418e-b42b-310993f2891b"
   },
   "outputs": [
    {
     "data": {
      "text/html": [
       "<div>\n",
       "<style scoped>\n",
       "    .dataframe tbody tr th:only-of-type {\n",
       "        vertical-align: middle;\n",
       "    }\n",
       "\n",
       "    .dataframe tbody tr th {\n",
       "        vertical-align: top;\n",
       "    }\n",
       "\n",
       "    .dataframe thead th {\n",
       "        text-align: right;\n",
       "    }\n",
       "</style>\n",
       "<table border=\"1\" class=\"dataframe\">\n",
       "  <thead>\n",
       "    <tr style=\"text-align: right;\">\n",
       "      <th></th>\n",
       "      <th>Data</th>\n",
       "      <th>Hora</th>\n",
       "      <th>Magnitude</th>\n",
       "      <th>Coordenadas</th>\n",
       "      <th>Local</th>\n",
       "    </tr>\n",
       "  </thead>\n",
       "  <tbody>\n",
       "    <tr>\n",
       "      <th>2</th>\n",
       "      <td>2023.10.05</td>\n",
       "      <td>09:40:12</td>\n",
       "      <td>2.1*</td>\n",
       "      <td>-9.85; -39.91</td>\n",
       "      <td>Jaguarari BA</td>\n",
       "    </tr>\n",
       "    <tr>\n",
       "      <th>3</th>\n",
       "      <td>2023.10.03</td>\n",
       "      <td>05:15:35</td>\n",
       "      <td>2.1*</td>\n",
       "      <td>-9.84; -39.87</td>\n",
       "      <td>Curaçá BA</td>\n",
       "    </tr>\n",
       "    <tr>\n",
       "      <th>4</th>\n",
       "      <td>2023.10.02</td>\n",
       "      <td>17:54:18</td>\n",
       "      <td>1.7*</td>\n",
       "      <td>-11.23; -40.52</td>\n",
       "      <td>Jacobina BA</td>\n",
       "    </tr>\n",
       "    <tr>\n",
       "      <th>5</th>\n",
       "      <td>2023.10.01</td>\n",
       "      <td>12:56:30</td>\n",
       "      <td>1.9*</td>\n",
       "      <td>-9.87; -39.93</td>\n",
       "      <td>Jaguarari BA</td>\n",
       "    </tr>\n",
       "    <tr>\n",
       "      <th>6</th>\n",
       "      <td>2023.10.01</td>\n",
       "      <td>01:35:01</td>\n",
       "      <td>1.7*</td>\n",
       "      <td>-8.28; -36.03</td>\n",
       "      <td>Caruaru PE</td>\n",
       "    </tr>\n",
       "    <tr>\n",
       "      <th>...</th>\n",
       "      <td>...</td>\n",
       "      <td>...</td>\n",
       "      <td>...</td>\n",
       "      <td>...</td>\n",
       "      <td>...</td>\n",
       "    </tr>\n",
       "    <tr>\n",
       "      <th>20</th>\n",
       "      <td>2020.12.08</td>\n",
       "      <td>03:22:27</td>\n",
       "      <td>1.6*</td>\n",
       "      <td>-8.05 S; -35.17 W</td>\n",
       "      <td>São Lourenço da Mata PE</td>\n",
       "    </tr>\n",
       "    <tr>\n",
       "      <th>21</th>\n",
       "      <td>2020.12.04</td>\n",
       "      <td>07:08:30</td>\n",
       "      <td>3.9*</td>\n",
       "      <td>-3.09 S; -44.55 W</td>\n",
       "      <td>Itapecuru-Mirim MA</td>\n",
       "    </tr>\n",
       "    <tr>\n",
       "      <th>22</th>\n",
       "      <td>2020.12.02</td>\n",
       "      <td>11:42:26</td>\n",
       "      <td>1.5*</td>\n",
       "      <td>-6.79 S; -36.12 W</td>\n",
       "      <td>Barra de Santa Rosa PB</td>\n",
       "    </tr>\n",
       "    <tr>\n",
       "      <th>23</th>\n",
       "      <td>2020.12.01</td>\n",
       "      <td>15:47:00</td>\n",
       "      <td>1.5*</td>\n",
       "      <td>-13.06 S; -39.49 W</td>\n",
       "      <td>São Miguel das Matas BA</td>\n",
       "    </tr>\n",
       "    <tr>\n",
       "      <th>24</th>\n",
       "      <td>2020.12.01</td>\n",
       "      <td>03:07:26</td>\n",
       "      <td>1.8*</td>\n",
       "      <td>-4.55 S; -39.38 W</td>\n",
       "      <td>Canindé CE</td>\n",
       "    </tr>\n",
       "  </tbody>\n",
       "</table>\n",
       "<p>2831 rows × 5 columns</p>\n",
       "</div>"
      ],
      "text/plain": [
       "          Data      Hora Magnitude         Coordenadas  \\\n",
       "2   2023.10.05  09:40:12      2.1*       -9.85; -39.91   \n",
       "3   2023.10.03  05:15:35      2.1*       -9.84; -39.87   \n",
       "4   2023.10.02  17:54:18      1.7*      -11.23; -40.52   \n",
       "5   2023.10.01  12:56:30      1.9*       -9.87; -39.93   \n",
       "6   2023.10.01  01:35:01      1.7*       -8.28; -36.03   \n",
       "..         ...       ...       ...                 ...   \n",
       "20  2020.12.08  03:22:27      1.6*   -8.05 S; -35.17 W   \n",
       "21  2020.12.04  07:08:30      3.9*   -3.09 S; -44.55 W   \n",
       "22  2020.12.02  11:42:26      1.5*   -6.79 S; -36.12 W   \n",
       "23  2020.12.01  15:47:00      1.5*  -13.06 S; -39.49 W   \n",
       "24  2020.12.01  03:07:26      1.8*   -4.55 S; -39.38 W   \n",
       "\n",
       "                      Local  \n",
       "2              Jaguarari BA  \n",
       "3                 Curaçá BA  \n",
       "4               Jacobina BA  \n",
       "5              Jaguarari BA  \n",
       "6                Caruaru PE  \n",
       "..                      ...  \n",
       "20  São Lourenço da Mata PE  \n",
       "21       Itapecuru-Mirim MA  \n",
       "22   Barra de Santa Rosa PB  \n",
       "23  São Miguel das Matas BA  \n",
       "24               Canindé CE  \n",
       "\n",
       "[2831 rows x 5 columns]"
      ]
     },
     "execution_count": 6,
     "metadata": {},
     "output_type": "execute_result"
    }
   ],
   "source": [
    "df"
   ]
  },
  {
   "cell_type": "code",
   "execution_count": 7,
   "metadata": {
    "executionInfo": {
     "elapsed": 75,
     "status": "ok",
     "timestamp": 1683649750962,
     "user": {
      "displayName": "ALEXANDRE RIBEIRO CAJAZEIRA RAMOS",
      "userId": "15502956855817658112"
     },
     "user_tz": 180
    },
    "id": "GYzJs7VG2Kay"
   },
   "outputs": [],
   "source": [
    "df = df.drop_duplicates()"
   ]
  },
  {
   "cell_type": "code",
   "execution_count": 8,
   "metadata": {
    "colab": {
     "base_uri": "https://localhost:8080/"
    },
    "executionInfo": {
     "elapsed": 75,
     "status": "ok",
     "timestamp": 1683649750963,
     "user": {
      "displayName": "ALEXANDRE RIBEIRO CAJAZEIRA RAMOS",
      "userId": "15502956855817658112"
     },
     "user_tz": 180
    },
    "id": "LUf4QoR_zR1j",
    "outputId": "64ea7752-da96-42d4-9bd9-be74ccb388cc"
   },
   "outputs": [
    {
     "name": "stdout",
     "output_type": "stream",
     "text": [
      "<class 'pandas.core.frame.DataFrame'>\n",
      "Int64Index: 1415 entries, 2 to 25\n",
      "Data columns (total 5 columns):\n",
      " #   Column       Non-Null Count  Dtype \n",
      "---  ------       --------------  ----- \n",
      " 0   Data         1415 non-null   object\n",
      " 1   Hora         1405 non-null   object\n",
      " 2   Magnitude    1405 non-null   object\n",
      " 3   Coordenadas  1405 non-null   object\n",
      " 4   Local        1405 non-null   object\n",
      "dtypes: object(5)\n",
      "memory usage: 66.3+ KB\n"
     ]
    }
   ],
   "source": [
    "df.info()"
   ]
  },
  {
   "cell_type": "code",
   "execution_count": 9,
   "metadata": {
    "colab": {
     "base_uri": "https://localhost:8080/",
     "height": 269
    },
    "executionInfo": {
     "elapsed": 73,
     "status": "ok",
     "timestamp": 1683649750965,
     "user": {
      "displayName": "ALEXANDRE RIBEIRO CAJAZEIRA RAMOS",
      "userId": "15502956855817658112"
     },
     "user_tz": 180
    },
    "id": "vYL0je7114Tn",
    "outputId": "e49d76d1-ecb8-4c1d-8158-2f910bcdb4aa"
   },
   "outputs": [
    {
     "data": {
      "text/html": [
       "<div>\n",
       "<style scoped>\n",
       "    .dataframe tbody tr th:only-of-type {\n",
       "        vertical-align: middle;\n",
       "    }\n",
       "\n",
       "    .dataframe tbody tr th {\n",
       "        vertical-align: top;\n",
       "    }\n",
       "\n",
       "    .dataframe thead th {\n",
       "        text-align: right;\n",
       "    }\n",
       "</style>\n",
       "<table border=\"1\" class=\"dataframe\">\n",
       "  <thead>\n",
       "    <tr style=\"text-align: right;\">\n",
       "      <th></th>\n",
       "      <th>Data</th>\n",
       "      <th>Hora</th>\n",
       "      <th>Magnitude</th>\n",
       "      <th>Coordenadas</th>\n",
       "      <th>Local</th>\n",
       "    </tr>\n",
       "  </thead>\n",
       "  <tbody>\n",
       "    <tr>\n",
       "      <th>3</th>\n",
       "      <td>2023.05.31</td>\n",
       "      <td>NaN</td>\n",
       "      <td>NaN</td>\n",
       "      <td>NaN</td>\n",
       "      <td>NaN</td>\n",
       "    </tr>\n",
       "    <tr>\n",
       "      <th>4</th>\n",
       "      <td>05:03:16</td>\n",
       "      <td>NaN</td>\n",
       "      <td>NaN</td>\n",
       "      <td>NaN</td>\n",
       "      <td>NaN</td>\n",
       "    </tr>\n",
       "    <tr>\n",
       "      <th>5</th>\n",
       "      <td>-8.39; -36.33</td>\n",
       "      <td>NaN</td>\n",
       "      <td>NaN</td>\n",
       "      <td>NaN</td>\n",
       "      <td>NaN</td>\n",
       "    </tr>\n",
       "    <tr>\n",
       "      <th>3</th>\n",
       "      <td>23:55:22</td>\n",
       "      <td>NaN</td>\n",
       "      <td>NaN</td>\n",
       "      <td>NaN</td>\n",
       "      <td>NaN</td>\n",
       "    </tr>\n",
       "    <tr>\n",
       "      <th>4</th>\n",
       "      <td>2.1*</td>\n",
       "      <td>NaN</td>\n",
       "      <td>NaN</td>\n",
       "      <td>NaN</td>\n",
       "      <td>NaN</td>\n",
       "    </tr>\n",
       "    <tr>\n",
       "      <th>5</th>\n",
       "      <td>-9.9 S; -39.88 W</td>\n",
       "      <td>NaN</td>\n",
       "      <td>NaN</td>\n",
       "      <td>NaN</td>\n",
       "      <td>NaN</td>\n",
       "    </tr>\n",
       "    <tr>\n",
       "      <th>7</th>\n",
       "      <td>15:42:17</td>\n",
       "      <td>NaN</td>\n",
       "      <td>NaN</td>\n",
       "      <td>NaN</td>\n",
       "      <td>NaN</td>\n",
       "    </tr>\n",
       "    <tr>\n",
       "      <th>8</th>\n",
       "      <td>1.9*</td>\n",
       "      <td>NaN</td>\n",
       "      <td>NaN</td>\n",
       "      <td>NaN</td>\n",
       "      <td>NaN</td>\n",
       "    </tr>\n",
       "    <tr>\n",
       "      <th>9</th>\n",
       "      <td>-9.92 S; -36.76 W</td>\n",
       "      <td>NaN</td>\n",
       "      <td>NaN</td>\n",
       "      <td>NaN</td>\n",
       "      <td>NaN</td>\n",
       "    </tr>\n",
       "    <tr>\n",
       "      <th>10</th>\n",
       "      <td>Girau do Ponciano AL</td>\n",
       "      <td>NaN</td>\n",
       "      <td>NaN</td>\n",
       "      <td>NaN</td>\n",
       "      <td>NaN</td>\n",
       "    </tr>\n",
       "  </tbody>\n",
       "</table>\n",
       "</div>"
      ],
      "text/plain": [
       "                    Data Hora Magnitude Coordenadas Local\n",
       "3             2023.05.31  NaN       NaN         NaN   NaN\n",
       "4               05:03:16  NaN       NaN         NaN   NaN\n",
       "5          -8.39; -36.33  NaN       NaN         NaN   NaN\n",
       "3               23:55:22  NaN       NaN         NaN   NaN\n",
       "4                   2.1*  NaN       NaN         NaN   NaN\n",
       "5       -9.9 S; -39.88 W  NaN       NaN         NaN   NaN\n",
       "7               15:42:17  NaN       NaN         NaN   NaN\n",
       "8                   1.9*  NaN       NaN         NaN   NaN\n",
       "9      -9.92 S; -36.76 W  NaN       NaN         NaN   NaN\n",
       "10  Girau do Ponciano AL  NaN       NaN         NaN   NaN"
      ]
     },
     "execution_count": 9,
     "metadata": {},
     "output_type": "execute_result"
    }
   ],
   "source": [
    "df.loc[df.Hora.isna()]"
   ]
  },
  {
   "cell_type": "code",
   "execution_count": 10,
   "metadata": {
    "colab": {
     "base_uri": "https://localhost:8080/",
     "height": 143
    },
    "executionInfo": {
     "elapsed": 73,
     "status": "ok",
     "timestamp": 1683649750967,
     "user": {
      "displayName": "ALEXANDRE RIBEIRO CAJAZEIRA RAMOS",
      "userId": "15502956855817658112"
     },
     "user_tz": 180
    },
    "id": "qUqhgAM52xl0",
    "outputId": "7099225c-ef0e-49c6-f8da-6fcc4f11175b"
   },
   "outputs": [
    {
     "data": {
      "text/html": [
       "<div>\n",
       "<style scoped>\n",
       "    .dataframe tbody tr th:only-of-type {\n",
       "        vertical-align: middle;\n",
       "    }\n",
       "\n",
       "    .dataframe tbody tr th {\n",
       "        vertical-align: top;\n",
       "    }\n",
       "\n",
       "    .dataframe thead th {\n",
       "        text-align: right;\n",
       "    }\n",
       "</style>\n",
       "<table border=\"1\" class=\"dataframe\">\n",
       "  <thead>\n",
       "    <tr style=\"text-align: right;\">\n",
       "      <th></th>\n",
       "      <th>Data</th>\n",
       "      <th>Hora</th>\n",
       "      <th>Magnitude</th>\n",
       "      <th>Coordenadas</th>\n",
       "      <th>Local</th>\n",
       "    </tr>\n",
       "  </thead>\n",
       "  <tbody>\n",
       "    <tr>\n",
       "      <th>6</th>\n",
       "      <td>2022.03.31</td>\n",
       "      <td>15:42:17</td>\n",
       "      <td>1.9*</td>\n",
       "      <td>-9.92 S; -36.76 W</td>\n",
       "      <td>Girau do Ponciano AL</td>\n",
       "    </tr>\n",
       "    <tr>\n",
       "      <th>17</th>\n",
       "      <td>2022.02.17</td>\n",
       "      <td>15:01:59</td>\n",
       "      <td>1.7*</td>\n",
       "      <td>-9.99 S; -36.73 W</td>\n",
       "      <td>Girau do Ponciano AL</td>\n",
       "    </tr>\n",
       "    <tr>\n",
       "      <th>3</th>\n",
       "      <td>2021.12.30</td>\n",
       "      <td>14:59:17</td>\n",
       "      <td>1.5*</td>\n",
       "      <td>-9.76 S; -36.79 W</td>\n",
       "      <td>Girau do Ponciano AL</td>\n",
       "    </tr>\n",
       "  </tbody>\n",
       "</table>\n",
       "</div>"
      ],
      "text/plain": [
       "          Data      Hora Magnitude        Coordenadas                 Local\n",
       "6   2022.03.31  15:42:17      1.9*  -9.92 S; -36.76 W  Girau do Ponciano AL\n",
       "17  2022.02.17  15:01:59      1.7*  -9.99 S; -36.73 W  Girau do Ponciano AL\n",
       "3   2021.12.30  14:59:17      1.5*  -9.76 S; -36.79 W  Girau do Ponciano AL"
      ]
     },
     "execution_count": 10,
     "metadata": {},
     "output_type": "execute_result"
    }
   ],
   "source": [
    "df.loc[df.Local == 'Girau do Ponciano AL']"
   ]
  },
  {
   "cell_type": "code",
   "execution_count": 11,
   "metadata": {
    "executionInfo": {
     "elapsed": 74,
     "status": "ok",
     "timestamp": 1683649750969,
     "user": {
      "displayName": "ALEXANDRE RIBEIRO CAJAZEIRA RAMOS",
      "userId": "15502956855817658112"
     },
     "user_tz": 180
    },
    "id": "PPFqEp3kBocz"
   },
   "outputs": [],
   "source": [
    "df = df.loc[~df.Hora.isna()]"
   ]
  },
  {
   "cell_type": "code",
   "execution_count": 12,
   "metadata": {
    "colab": {
     "base_uri": "https://localhost:8080/",
     "height": 423
    },
    "executionInfo": {
     "elapsed": 79,
     "status": "ok",
     "timestamp": 1683649750975,
     "user": {
      "displayName": "ALEXANDRE RIBEIRO CAJAZEIRA RAMOS",
      "userId": "15502956855817658112"
     },
     "user_tz": 180
    },
    "id": "ykQaeD6Q3MWK",
    "outputId": "a6f6c197-957e-4bce-bd76-9c50f571a8ef"
   },
   "outputs": [
    {
     "data": {
      "text/html": [
       "<div>\n",
       "<style scoped>\n",
       "    .dataframe tbody tr th:only-of-type {\n",
       "        vertical-align: middle;\n",
       "    }\n",
       "\n",
       "    .dataframe tbody tr th {\n",
       "        vertical-align: top;\n",
       "    }\n",
       "\n",
       "    .dataframe thead th {\n",
       "        text-align: right;\n",
       "    }\n",
       "</style>\n",
       "<table border=\"1\" class=\"dataframe\">\n",
       "  <thead>\n",
       "    <tr style=\"text-align: right;\">\n",
       "      <th></th>\n",
       "      <th>Data</th>\n",
       "      <th>Hora</th>\n",
       "      <th>Magnitude</th>\n",
       "      <th>Coordenadas</th>\n",
       "      <th>Local</th>\n",
       "    </tr>\n",
       "  </thead>\n",
       "  <tbody>\n",
       "    <tr>\n",
       "      <th>2</th>\n",
       "      <td>2023.10.05</td>\n",
       "      <td>09:40:12</td>\n",
       "      <td>2.1*</td>\n",
       "      <td>-9.85; -39.91</td>\n",
       "      <td>Jaguarari BA</td>\n",
       "    </tr>\n",
       "    <tr>\n",
       "      <th>3</th>\n",
       "      <td>2023.10.03</td>\n",
       "      <td>05:15:35</td>\n",
       "      <td>2.1*</td>\n",
       "      <td>-9.84; -39.87</td>\n",
       "      <td>Curaçá BA</td>\n",
       "    </tr>\n",
       "    <tr>\n",
       "      <th>4</th>\n",
       "      <td>2023.10.02</td>\n",
       "      <td>17:54:18</td>\n",
       "      <td>1.7*</td>\n",
       "      <td>-11.23; -40.52</td>\n",
       "      <td>Jacobina BA</td>\n",
       "    </tr>\n",
       "    <tr>\n",
       "      <th>5</th>\n",
       "      <td>2023.10.01</td>\n",
       "      <td>12:56:30</td>\n",
       "      <td>1.9*</td>\n",
       "      <td>-9.87; -39.93</td>\n",
       "      <td>Jaguarari BA</td>\n",
       "    </tr>\n",
       "    <tr>\n",
       "      <th>6</th>\n",
       "      <td>2023.10.01</td>\n",
       "      <td>01:35:01</td>\n",
       "      <td>1.7*</td>\n",
       "      <td>-8.28; -36.03</td>\n",
       "      <td>Caruaru PE</td>\n",
       "    </tr>\n",
       "    <tr>\n",
       "      <th>...</th>\n",
       "      <td>...</td>\n",
       "      <td>...</td>\n",
       "      <td>...</td>\n",
       "      <td>...</td>\n",
       "      <td>...</td>\n",
       "    </tr>\n",
       "    <tr>\n",
       "      <th>21</th>\n",
       "      <td>2020.12.08</td>\n",
       "      <td>03:22:27</td>\n",
       "      <td>1.6*</td>\n",
       "      <td>-8.05 S; -35.17 W</td>\n",
       "      <td>São Lourenço da Mata PE</td>\n",
       "    </tr>\n",
       "    <tr>\n",
       "      <th>22</th>\n",
       "      <td>2020.12.04</td>\n",
       "      <td>07:08:30</td>\n",
       "      <td>3.9*</td>\n",
       "      <td>-3.09 S; -44.55 W</td>\n",
       "      <td>Itapecuru-Mirim MA</td>\n",
       "    </tr>\n",
       "    <tr>\n",
       "      <th>23</th>\n",
       "      <td>2020.12.02</td>\n",
       "      <td>11:42:26</td>\n",
       "      <td>1.5*</td>\n",
       "      <td>-6.79 S; -36.12 W</td>\n",
       "      <td>Barra de Santa Rosa PB</td>\n",
       "    </tr>\n",
       "    <tr>\n",
       "      <th>24</th>\n",
       "      <td>2020.12.01</td>\n",
       "      <td>15:47:00</td>\n",
       "      <td>1.5*</td>\n",
       "      <td>-13.06 S; -39.49 W</td>\n",
       "      <td>São Miguel das Matas BA</td>\n",
       "    </tr>\n",
       "    <tr>\n",
       "      <th>25</th>\n",
       "      <td>2020.12.01</td>\n",
       "      <td>03:07:26</td>\n",
       "      <td>1.8*</td>\n",
       "      <td>-4.55 S; -39.38 W</td>\n",
       "      <td>Canindé CE</td>\n",
       "    </tr>\n",
       "  </tbody>\n",
       "</table>\n",
       "<p>1405 rows × 5 columns</p>\n",
       "</div>"
      ],
      "text/plain": [
       "          Data      Hora Magnitude         Coordenadas  \\\n",
       "2   2023.10.05  09:40:12      2.1*       -9.85; -39.91   \n",
       "3   2023.10.03  05:15:35      2.1*       -9.84; -39.87   \n",
       "4   2023.10.02  17:54:18      1.7*      -11.23; -40.52   \n",
       "5   2023.10.01  12:56:30      1.9*       -9.87; -39.93   \n",
       "6   2023.10.01  01:35:01      1.7*       -8.28; -36.03   \n",
       "..         ...       ...       ...                 ...   \n",
       "21  2020.12.08  03:22:27      1.6*   -8.05 S; -35.17 W   \n",
       "22  2020.12.04  07:08:30      3.9*   -3.09 S; -44.55 W   \n",
       "23  2020.12.02  11:42:26      1.5*   -6.79 S; -36.12 W   \n",
       "24  2020.12.01  15:47:00      1.5*  -13.06 S; -39.49 W   \n",
       "25  2020.12.01  03:07:26      1.8*   -4.55 S; -39.38 W   \n",
       "\n",
       "                      Local  \n",
       "2              Jaguarari BA  \n",
       "3                 Curaçá BA  \n",
       "4               Jacobina BA  \n",
       "5              Jaguarari BA  \n",
       "6                Caruaru PE  \n",
       "..                      ...  \n",
       "21  São Lourenço da Mata PE  \n",
       "22       Itapecuru-Mirim MA  \n",
       "23   Barra de Santa Rosa PB  \n",
       "24  São Miguel das Matas BA  \n",
       "25               Canindé CE  \n",
       "\n",
       "[1405 rows x 5 columns]"
      ]
     },
     "execution_count": 12,
     "metadata": {},
     "output_type": "execute_result"
    }
   ],
   "source": [
    "df"
   ]
  },
  {
   "cell_type": "code",
   "execution_count": 13,
   "metadata": {
    "colab": {
     "base_uri": "https://localhost:8080/"
    },
    "executionInfo": {
     "elapsed": 79,
     "status": "ok",
     "timestamp": 1683649750976,
     "user": {
      "displayName": "ALEXANDRE RIBEIRO CAJAZEIRA RAMOS",
      "userId": "15502956855817658112"
     },
     "user_tz": 180
    },
    "id": "V5HFmiApBvkb",
    "outputId": "a71d46ae-f07c-435d-86f2-cf97da73f497"
   },
   "outputs": [],
   "source": [
    "df['dtg'] = pd.to_datetime(df['Data'], format='%Y.%m.%d')"
   ]
  },
  {
   "cell_type": "code",
   "execution_count": 14,
   "metadata": {
    "colab": {
     "base_uri": "https://localhost:8080/"
    },
    "executionInfo": {
     "elapsed": 72,
     "status": "ok",
     "timestamp": 1683649750977,
     "user": {
      "displayName": "ALEXANDRE RIBEIRO CAJAZEIRA RAMOS",
      "userId": "15502956855817658112"
     },
     "user_tz": 180
    },
    "id": "yZhy3X_93P_n",
    "outputId": "cf845d5a-4129-43a2-d383-ec0fb5c8dedf"
   },
   "outputs": [],
   "source": [
    "df['Ano'] = df.dtg.dt.year\n",
    "df['Mês'] = df.dtg.dt.month\n",
    "df['Dia'] = df.dtg.dt.day"
   ]
  },
  {
   "cell_type": "code",
   "execution_count": 15,
   "metadata": {
    "colab": {
     "base_uri": "https://localhost:8080/"
    },
    "executionInfo": {
     "elapsed": 69,
     "status": "ok",
     "timestamp": 1683649750978,
     "user": {
      "displayName": "ALEXANDRE RIBEIRO CAJAZEIRA RAMOS",
      "userId": "15502956855817658112"
     },
     "user_tz": 180
    },
    "id": "h3CTzRPj3r65",
    "outputId": "3ddaf52d-c34e-4288-cd6a-38cdcd32a9fa"
   },
   "outputs": [],
   "source": [
    "df['UF'] = df.Local.str[-2:]"
   ]
  },
  {
   "cell_type": "code",
   "execution_count": 16,
   "metadata": {
    "colab": {
     "base_uri": "https://localhost:8080/"
    },
    "executionInfo": {
     "elapsed": 67,
     "status": "ok",
     "timestamp": 1683649750979,
     "user": {
      "displayName": "ALEXANDRE RIBEIRO CAJAZEIRA RAMOS",
      "userId": "15502956855817658112"
     },
     "user_tz": 180
    },
    "id": "rWDqjZtl4F9N",
    "outputId": "876b45b3-eb4e-44ee-f84b-58442607038b"
   },
   "outputs": [
    {
     "data": {
      "text/plain": [
       "BA    475\n",
       "CE    277\n",
       "RN    228\n",
       "PE    199\n",
       "AL    120\n",
       "PB     48\n",
       "SE     38\n",
       "PI      5\n",
       "MA      3\n",
       "PA      3\n",
       "Al      2\n",
       "co      2\n",
       "AC      2\n",
       "TO      1\n",
       "AM      1\n",
       "an      1\n",
       "Name: UF, dtype: int64"
      ]
     },
     "execution_count": 16,
     "metadata": {},
     "output_type": "execute_result"
    }
   ],
   "source": [
    "df.UF.value_counts()"
   ]
  },
  {
   "cell_type": "code",
   "execution_count": 17,
   "metadata": {
    "colab": {
     "base_uri": "https://localhost:8080/",
     "height": 143
    },
    "executionInfo": {
     "elapsed": 66,
     "status": "ok",
     "timestamp": 1683649750980,
     "user": {
      "displayName": "ALEXANDRE RIBEIRO CAJAZEIRA RAMOS",
      "userId": "15502956855817658112"
     },
     "user_tz": 180
    },
    "id": "dgE8jPcW4bxM",
    "outputId": "31d756d0-f6db-4bc8-c387-2fc03515aab2"
   },
   "outputs": [
    {
     "data": {
      "text/html": [
       "<div>\n",
       "<style scoped>\n",
       "    .dataframe tbody tr th:only-of-type {\n",
       "        vertical-align: middle;\n",
       "    }\n",
       "\n",
       "    .dataframe tbody tr th {\n",
       "        vertical-align: top;\n",
       "    }\n",
       "\n",
       "    .dataframe thead th {\n",
       "        text-align: right;\n",
       "    }\n",
       "</style>\n",
       "<table border=\"1\" class=\"dataframe\">\n",
       "  <thead>\n",
       "    <tr style=\"text-align: right;\">\n",
       "      <th></th>\n",
       "      <th>Data</th>\n",
       "      <th>Hora</th>\n",
       "      <th>Magnitude</th>\n",
       "      <th>Coordenadas</th>\n",
       "      <th>Local</th>\n",
       "      <th>dtg</th>\n",
       "      <th>Ano</th>\n",
       "      <th>Mês</th>\n",
       "      <th>Dia</th>\n",
       "      <th>UF</th>\n",
       "    </tr>\n",
       "  </thead>\n",
       "  <tbody>\n",
       "    <tr>\n",
       "      <th>57</th>\n",
       "      <td>2021.03.03</td>\n",
       "      <td>03:43:26</td>\n",
       "      <td>3.1*</td>\n",
       "      <td>-16.94 S; -38.08 W</td>\n",
       "      <td>Sul do Oceano Atlântico</td>\n",
       "      <td>2021-03-03</td>\n",
       "      <td>2021</td>\n",
       "      <td>3</td>\n",
       "      <td>3</td>\n",
       "      <td>co</td>\n",
       "    </tr>\n",
       "    <tr>\n",
       "      <th>58</th>\n",
       "      <td>2021.03.03</td>\n",
       "      <td>03:35:17</td>\n",
       "      <td>3.5*</td>\n",
       "      <td>-16.89 S; -37.32 W</td>\n",
       "      <td>Sul do Oceano Atlântico</td>\n",
       "      <td>2021-03-03</td>\n",
       "      <td>2021</td>\n",
       "      <td>3</td>\n",
       "      <td>3</td>\n",
       "      <td>co</td>\n",
       "    </tr>\n",
       "    <tr>\n",
       "      <th>10</th>\n",
       "      <td>2020.10.27</td>\n",
       "      <td>16:09:14</td>\n",
       "      <td>2.3*</td>\n",
       "      <td>-14.25 S; -38.79 W</td>\n",
       "      <td>Mar da Bahia Ocean</td>\n",
       "      <td>2020-10-27</td>\n",
       "      <td>2020</td>\n",
       "      <td>10</td>\n",
       "      <td>27</td>\n",
       "      <td>an</td>\n",
       "    </tr>\n",
       "  </tbody>\n",
       "</table>\n",
       "</div>"
      ],
      "text/plain": [
       "          Data      Hora Magnitude         Coordenadas  \\\n",
       "57  2021.03.03  03:43:26      3.1*  -16.94 S; -38.08 W   \n",
       "58  2021.03.03  03:35:17      3.5*  -16.89 S; -37.32 W   \n",
       "10  2020.10.27  16:09:14      2.3*  -14.25 S; -38.79 W   \n",
       "\n",
       "                      Local        dtg   Ano  Mês  Dia  UF  \n",
       "57  Sul do Oceano Atlântico 2021-03-03  2021    3    3  co  \n",
       "58  Sul do Oceano Atlântico 2021-03-03  2021    3    3  co  \n",
       "10       Mar da Bahia Ocean 2020-10-27  2020   10   27  an  "
      ]
     },
     "execution_count": 17,
     "metadata": {},
     "output_type": "execute_result"
    }
   ],
   "source": [
    "df.loc[(df.UF=='co')|(df.UF=='an')]"
   ]
  },
  {
   "cell_type": "code",
   "execution_count": 18,
   "metadata": {
    "executionInfo": {
     "elapsed": 65,
     "status": "ok",
     "timestamp": 1683649750981,
     "user": {
      "displayName": "ALEXANDRE RIBEIRO CAJAZEIRA RAMOS",
      "userId": "15502956855817658112"
     },
     "user_tz": 180
    },
    "id": "YeWwdQ6U5BET"
   },
   "outputs": [],
   "source": [
    "df.loc[(df.UF=='co')|(df.UF=='an'),'UF']='Indefinido'"
   ]
  },
  {
   "cell_type": "code",
   "execution_count": 19,
   "metadata": {
    "executionInfo": {
     "elapsed": 65,
     "status": "ok",
     "timestamp": 1683649750983,
     "user": {
      "displayName": "ALEXANDRE RIBEIRO CAJAZEIRA RAMOS",
      "userId": "15502956855817658112"
     },
     "user_tz": 180
    },
    "id": "TXENJdSb4g9R"
   },
   "outputs": [],
   "source": [
    "df['latitude'] = df.Coordenadas.apply(lambda x: float(x.split(';')[0].replace('S','').replace('N','')))\n",
    "df['latitude'] = df.latitude.apply(lambda x: x*-1 if x > 0 else x)"
   ]
  },
  {
   "cell_type": "code",
   "execution_count": 20,
   "metadata": {
    "executionInfo": {
     "elapsed": 67,
     "status": "ok",
     "timestamp": 1683649750986,
     "user": {
      "displayName": "ALEXANDRE RIBEIRO CAJAZEIRA RAMOS",
      "userId": "15502956855817658112"
     },
     "user_tz": 180
    },
    "id": "l8SVzgo36CAs"
   },
   "outputs": [],
   "source": [
    "df['longitude'] = df.Coordenadas.apply(lambda x: float(x.split(';')[1].replace('W','').replace('E','')))"
   ]
  },
  {
   "cell_type": "code",
   "execution_count": 21,
   "metadata": {
    "executionInfo": {
     "elapsed": 68,
     "status": "ok",
     "timestamp": 1683649750988,
     "user": {
      "displayName": "ALEXANDRE RIBEIRO CAJAZEIRA RAMOS",
      "userId": "15502956855817658112"
     },
     "user_tz": 180
    },
    "id": "n_bh9OF479J5"
   },
   "outputs": [],
   "source": [
    "df['obs'] = ''\n",
    "df.loc[df.Magnitude.str.contains(\"\\*\"),'Obs'] = 'Magnitude não revisada/preliminar'"
   ]
  },
  {
   "cell_type": "code",
   "execution_count": 22,
   "metadata": {
    "executionInfo": {
     "elapsed": 69,
     "status": "ok",
     "timestamp": 1683649750990,
     "user": {
      "displayName": "ALEXANDRE RIBEIRO CAJAZEIRA RAMOS",
      "userId": "15502956855817658112"
     },
     "user_tz": 180
    },
    "id": "ZCOu3w_-8kx3"
   },
   "outputs": [],
   "source": [
    "df.Magnitude = df.Magnitude.apply(lambda x: float(x.replace('*','')))"
   ]
  },
  {
   "cell_type": "code",
   "execution_count": 23,
   "metadata": {
    "executionInfo": {
     "elapsed": 2,
     "status": "ok",
     "timestamp": 1683650035718,
     "user": {
      "displayName": "ALEXANDRE RIBEIRO CAJAZEIRA RAMOS",
      "userId": "15502956855817658112"
     },
     "user_tz": 180
    },
    "id": "dDq3mkzJWZAP"
   },
   "outputs": [],
   "source": [
    "def remove_sigla_uf(nome):\n",
    "  sigla = nome[-2:]\n",
    "  if sigla.isupper():\n",
    "    return nome.replace(sigla,'').rstrip()\n",
    "  return nome"
   ]
  },
  {
   "cell_type": "code",
   "execution_count": 24,
   "metadata": {
    "colab": {
     "base_uri": "https://localhost:8080/",
     "height": 36
    },
    "executionInfo": {
     "elapsed": 29,
     "status": "ok",
     "timestamp": 1683650038140,
     "user": {
      "displayName": "ALEXANDRE RIBEIRO CAJAZEIRA RAMOS",
      "userId": "15502956855817658112"
     },
     "user_tz": 180
    },
    "id": "MmDOjJXgWY-e",
    "outputId": "719a57bb-e1c3-43d5-f7db-45f79a59e485"
   },
   "outputs": [
    {
     "data": {
      "text/plain": [
       "'Jaguarari'"
      ]
     },
     "execution_count": 24,
     "metadata": {},
     "output_type": "execute_result"
    }
   ],
   "source": [
    "remove_sigla_uf(df.iloc[0].Local)"
   ]
  },
  {
   "cell_type": "code",
   "execution_count": 25,
   "metadata": {
    "executionInfo": {
     "elapsed": 8,
     "status": "ok",
     "timestamp": 1683650054194,
     "user": {
      "displayName": "ALEXANDRE RIBEIRO CAJAZEIRA RAMOS",
      "userId": "15502956855817658112"
     },
     "user_tz": 180
    },
    "id": "WzaFo2HmWKMN"
   },
   "outputs": [],
   "source": [
    "df['Local'] = df['Local'].apply(lambda x: remove_sigla_uf(x))"
   ]
  },
  {
   "cell_type": "code",
   "execution_count": 26,
   "metadata": {
    "executionInfo": {
     "elapsed": 2,
     "status": "ok",
     "timestamp": 1683650056594,
     "user": {
      "displayName": "ALEXANDRE RIBEIRO CAJAZEIRA RAMOS",
      "userId": "15502956855817658112"
     },
     "user_tz": 180
    },
    "id": "uz86ZH4V5W1U"
   },
   "outputs": [],
   "source": [
    "df_tratado = df[['dtg','Ano','Mês','Dia','UF','Local','latitude','longitude','Magnitude','Obs']]"
   ]
  },
  {
   "cell_type": "code",
   "execution_count": 27,
   "metadata": {
    "colab": {
     "base_uri": "https://localhost:8080/",
     "height": 423
    },
    "executionInfo": {
     "elapsed": 10,
     "status": "ok",
     "timestamp": 1683650056930,
     "user": {
      "displayName": "ALEXANDRE RIBEIRO CAJAZEIRA RAMOS",
      "userId": "15502956855817658112"
     },
     "user_tz": 180
    },
    "id": "qZgTWz_D7xJF",
    "outputId": "b3bac0e1-c154-4a74-cb58-8ce91a063fe2"
   },
   "outputs": [
    {
     "data": {
      "text/html": [
       "<div>\n",
       "<style scoped>\n",
       "    .dataframe tbody tr th:only-of-type {\n",
       "        vertical-align: middle;\n",
       "    }\n",
       "\n",
       "    .dataframe tbody tr th {\n",
       "        vertical-align: top;\n",
       "    }\n",
       "\n",
       "    .dataframe thead th {\n",
       "        text-align: right;\n",
       "    }\n",
       "</style>\n",
       "<table border=\"1\" class=\"dataframe\">\n",
       "  <thead>\n",
       "    <tr style=\"text-align: right;\">\n",
       "      <th></th>\n",
       "      <th>dtg</th>\n",
       "      <th>Ano</th>\n",
       "      <th>Mês</th>\n",
       "      <th>Dia</th>\n",
       "      <th>UF</th>\n",
       "      <th>Local</th>\n",
       "      <th>latitude</th>\n",
       "      <th>longitude</th>\n",
       "      <th>Magnitude</th>\n",
       "      <th>Obs</th>\n",
       "    </tr>\n",
       "  </thead>\n",
       "  <tbody>\n",
       "    <tr>\n",
       "      <th>2</th>\n",
       "      <td>2023-10-05</td>\n",
       "      <td>2023</td>\n",
       "      <td>10</td>\n",
       "      <td>5</td>\n",
       "      <td>BA</td>\n",
       "      <td>Jaguarari</td>\n",
       "      <td>-9.85</td>\n",
       "      <td>-39.91</td>\n",
       "      <td>2.1</td>\n",
       "      <td>Magnitude não revisada/preliminar</td>\n",
       "    </tr>\n",
       "    <tr>\n",
       "      <th>3</th>\n",
       "      <td>2023-10-03</td>\n",
       "      <td>2023</td>\n",
       "      <td>10</td>\n",
       "      <td>3</td>\n",
       "      <td>BA</td>\n",
       "      <td>Curaçá</td>\n",
       "      <td>-9.84</td>\n",
       "      <td>-39.87</td>\n",
       "      <td>2.1</td>\n",
       "      <td>Magnitude não revisada/preliminar</td>\n",
       "    </tr>\n",
       "    <tr>\n",
       "      <th>4</th>\n",
       "      <td>2023-10-02</td>\n",
       "      <td>2023</td>\n",
       "      <td>10</td>\n",
       "      <td>2</td>\n",
       "      <td>BA</td>\n",
       "      <td>Jacobina</td>\n",
       "      <td>-11.23</td>\n",
       "      <td>-40.52</td>\n",
       "      <td>1.7</td>\n",
       "      <td>Magnitude não revisada/preliminar</td>\n",
       "    </tr>\n",
       "    <tr>\n",
       "      <th>5</th>\n",
       "      <td>2023-10-01</td>\n",
       "      <td>2023</td>\n",
       "      <td>10</td>\n",
       "      <td>1</td>\n",
       "      <td>BA</td>\n",
       "      <td>Jaguarari</td>\n",
       "      <td>-9.87</td>\n",
       "      <td>-39.93</td>\n",
       "      <td>1.9</td>\n",
       "      <td>Magnitude não revisada/preliminar</td>\n",
       "    </tr>\n",
       "    <tr>\n",
       "      <th>6</th>\n",
       "      <td>2023-10-01</td>\n",
       "      <td>2023</td>\n",
       "      <td>10</td>\n",
       "      <td>1</td>\n",
       "      <td>PE</td>\n",
       "      <td>Caruaru</td>\n",
       "      <td>-8.28</td>\n",
       "      <td>-36.03</td>\n",
       "      <td>1.7</td>\n",
       "      <td>Magnitude não revisada/preliminar</td>\n",
       "    </tr>\n",
       "    <tr>\n",
       "      <th>...</th>\n",
       "      <td>...</td>\n",
       "      <td>...</td>\n",
       "      <td>...</td>\n",
       "      <td>...</td>\n",
       "      <td>...</td>\n",
       "      <td>...</td>\n",
       "      <td>...</td>\n",
       "      <td>...</td>\n",
       "      <td>...</td>\n",
       "      <td>...</td>\n",
       "    </tr>\n",
       "    <tr>\n",
       "      <th>21</th>\n",
       "      <td>2020-12-08</td>\n",
       "      <td>2020</td>\n",
       "      <td>12</td>\n",
       "      <td>8</td>\n",
       "      <td>PE</td>\n",
       "      <td>São Lourenço da Mata</td>\n",
       "      <td>-8.05</td>\n",
       "      <td>-35.17</td>\n",
       "      <td>1.6</td>\n",
       "      <td>Magnitude não revisada/preliminar</td>\n",
       "    </tr>\n",
       "    <tr>\n",
       "      <th>22</th>\n",
       "      <td>2020-12-04</td>\n",
       "      <td>2020</td>\n",
       "      <td>12</td>\n",
       "      <td>4</td>\n",
       "      <td>MA</td>\n",
       "      <td>Itapecuru-Mirim</td>\n",
       "      <td>-3.09</td>\n",
       "      <td>-44.55</td>\n",
       "      <td>3.9</td>\n",
       "      <td>Magnitude não revisada/preliminar</td>\n",
       "    </tr>\n",
       "    <tr>\n",
       "      <th>23</th>\n",
       "      <td>2020-12-02</td>\n",
       "      <td>2020</td>\n",
       "      <td>12</td>\n",
       "      <td>2</td>\n",
       "      <td>PB</td>\n",
       "      <td>Barra de Santa Rosa</td>\n",
       "      <td>-6.79</td>\n",
       "      <td>-36.12</td>\n",
       "      <td>1.5</td>\n",
       "      <td>Magnitude não revisada/preliminar</td>\n",
       "    </tr>\n",
       "    <tr>\n",
       "      <th>24</th>\n",
       "      <td>2020-12-01</td>\n",
       "      <td>2020</td>\n",
       "      <td>12</td>\n",
       "      <td>1</td>\n",
       "      <td>BA</td>\n",
       "      <td>São Miguel das Matas</td>\n",
       "      <td>-13.06</td>\n",
       "      <td>-39.49</td>\n",
       "      <td>1.5</td>\n",
       "      <td>Magnitude não revisada/preliminar</td>\n",
       "    </tr>\n",
       "    <tr>\n",
       "      <th>25</th>\n",
       "      <td>2020-12-01</td>\n",
       "      <td>2020</td>\n",
       "      <td>12</td>\n",
       "      <td>1</td>\n",
       "      <td>CE</td>\n",
       "      <td>Canindé</td>\n",
       "      <td>-4.55</td>\n",
       "      <td>-39.38</td>\n",
       "      <td>1.8</td>\n",
       "      <td>Magnitude não revisada/preliminar</td>\n",
       "    </tr>\n",
       "  </tbody>\n",
       "</table>\n",
       "<p>1405 rows × 10 columns</p>\n",
       "</div>"
      ],
      "text/plain": [
       "          dtg   Ano  Mês  Dia  UF                 Local  latitude  longitude  \\\n",
       "2  2023-10-05  2023   10    5  BA             Jaguarari     -9.85     -39.91   \n",
       "3  2023-10-03  2023   10    3  BA                Curaçá     -9.84     -39.87   \n",
       "4  2023-10-02  2023   10    2  BA              Jacobina    -11.23     -40.52   \n",
       "5  2023-10-01  2023   10    1  BA             Jaguarari     -9.87     -39.93   \n",
       "6  2023-10-01  2023   10    1  PE               Caruaru     -8.28     -36.03   \n",
       "..        ...   ...  ...  ...  ..                   ...       ...        ...   \n",
       "21 2020-12-08  2020   12    8  PE  São Lourenço da Mata     -8.05     -35.17   \n",
       "22 2020-12-04  2020   12    4  MA       Itapecuru-Mirim     -3.09     -44.55   \n",
       "23 2020-12-02  2020   12    2  PB   Barra de Santa Rosa     -6.79     -36.12   \n",
       "24 2020-12-01  2020   12    1  BA  São Miguel das Matas    -13.06     -39.49   \n",
       "25 2020-12-01  2020   12    1  CE               Canindé     -4.55     -39.38   \n",
       "\n",
       "    Magnitude                                Obs  \n",
       "2         2.1  Magnitude não revisada/preliminar  \n",
       "3         2.1  Magnitude não revisada/preliminar  \n",
       "4         1.7  Magnitude não revisada/preliminar  \n",
       "5         1.9  Magnitude não revisada/preliminar  \n",
       "6         1.7  Magnitude não revisada/preliminar  \n",
       "..        ...                                ...  \n",
       "21        1.6  Magnitude não revisada/preliminar  \n",
       "22        3.9  Magnitude não revisada/preliminar  \n",
       "23        1.5  Magnitude não revisada/preliminar  \n",
       "24        1.5  Magnitude não revisada/preliminar  \n",
       "25        1.8  Magnitude não revisada/preliminar  \n",
       "\n",
       "[1405 rows x 10 columns]"
      ]
     },
     "execution_count": 27,
     "metadata": {},
     "output_type": "execute_result"
    }
   ],
   "source": [
    "df_tratado"
   ]
  },
  {
   "cell_type": "code",
   "execution_count": 29,
   "metadata": {
    "executionInfo": {
     "elapsed": 2,
     "status": "ok",
     "timestamp": 1683650058971,
     "user": {
      "displayName": "ALEXANDRE RIBEIRO CAJAZEIRA RAMOS",
      "userId": "15502956855817658112"
     },
     "user_tz": 180
    },
    "id": "enMoK1Jz9PUY"
   },
   "outputs": [],
   "source": [
    "df_tratado.to_csv('resultados/coleta_op_tremores_ne_labSis.csv')"
   ]
  }
 ],
 "metadata": {
  "colab": {
   "authorship_tag": "ABX9TyP+EnOz06lvWu0L41gIT8HS",
   "provenance": []
  },
  "kernelspec": {
   "display_name": "Python 3",
   "language": "python",
   "name": "python3"
  },
  "language_info": {
   "codemirror_mode": {
    "name": "ipython",
    "version": 2
   },
   "file_extension": ".py",
   "mimetype": "text/x-python",
   "name": "python",
   "nbconvert_exporter": "python",
   "pygments_lexer": "ipython2",
   "version": "2.7.17"
  }
 },
 "nbformat": 4,
 "nbformat_minor": 1
}
